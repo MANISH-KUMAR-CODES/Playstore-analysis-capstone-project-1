{
  "nbformat": 4,
  "nbformat_minor": 0,
  "metadata": {
    "kernelspec": {
      "display_name": "Python 3",
      "language": "python",
      "name": "python3"
    },
    "language_info": {
      "codemirror_mode": {
        "name": "ipython",
        "version": 3
      },
      "file_extension": ".py",
      "mimetype": "text/x-python",
      "name": "python",
      "nbconvert_exporter": "python",
      "pygments_lexer": "ipython3",
      "version": "3.6.6"
    },
    "colab": {
      "name": " Play Store App Review Analysis - Capstone Project.ipynb",
      "provenance": [],
      "collapsed_sections": [],
      "include_colab_link": true
    }
  },
  "cells": [
    {
      "cell_type": "markdown",
      "metadata": {
        "id": "view-in-github",
        "colab_type": "text"
      },
      "source": [
        "<a href=\"https://colab.research.google.com/github/MANISH-KUMAR-CODES/Playstore-analysis-capstone-project-1/blob/main/Play_Store_App_Review_Analysis_Capstone_Project.ipynb\" target=\"_parent\"><img src=\"https://colab.research.google.com/assets/colab-badge.svg\" alt=\"Open In Colab\"/></a>"
      ]
    },
    {
      "cell_type": "markdown",
      "metadata": {
        "id": "Y06xIdG26kRF"
      },
      "source": [
        "## <b> The Play Store apps data has enormous potential to drive app-making businesses to success. Actionable insights can be drawn for developers to work on and capture the Android market. </b>\n",
        "\n",
        "## <b> Each app (row) has values for catergory, rating, size, and more. Another dataset contains customer reviews of the android apps.</b>\n",
        "\n",
        "## <b> Explore and analyze the data to discover key factors responsible for app engagement and success. </b>"
      ]
    },
    {
      "cell_type": "markdown",
      "source": [
        "## <b> Let us start by importing some of the required libraries with which we will be working on. </b>"
      ],
      "metadata": {
        "id": "WRx1BirOfgfm"
      }
    },
    {
      "cell_type": "code",
      "source": [
        "# codes to import Pandas,Numpy,Matplotlib\n",
        "import pandas as pd\n",
        "import numpy as np\n",
        "import matplotlib.pyplot as plt\n",
        "import seaborn as sns\n",
        "%matplotlib inline\n"
      ],
      "metadata": {
        "id": "eUBnMpGOgr3j"
      },
      "execution_count": 399,
      "outputs": []
    },
    {
      "cell_type": "code",
      "source": [
        "# lets read our csv file\n",
        "df1 = pd.read_csv('/content/Copy of Play Store Data.csv')"
      ],
      "metadata": {
        "id": "rC8qNOX4iUjs"
      },
      "execution_count": 400,
      "outputs": []
    },
    {
      "cell_type": "code",
      "source": [
        "#lets check whats inside our data, using head function \n",
        "df1.head()"
      ],
      "metadata": {
        "colab": {
          "base_uri": "https://localhost:8080/",
          "height": 337
        },
        "id": "aE-Nrem6maWh",
        "outputId": "758611e1-9d33-43ac-bcca-408e5b3dddec"
      },
      "execution_count": 401,
      "outputs": [
        {
          "output_type": "execute_result",
          "data": {
            "text/plain": [
              "                                                 App        Category  Rating  \\\n",
              "0     Photo Editor & Candy Camera & Grid & ScrapBook  ART_AND_DESIGN     4.1   \n",
              "1                                Coloring book moana  ART_AND_DESIGN     3.9   \n",
              "2  U Launcher Lite – FREE Live Cool Themes, Hide ...  ART_AND_DESIGN     4.7   \n",
              "3                              Sketch - Draw & Paint  ART_AND_DESIGN     4.5   \n",
              "4              Pixel Draw - Number Art Coloring Book  ART_AND_DESIGN     4.3   \n",
              "\n",
              "  Reviews  Size     Installs  Type Price Content Rating  \\\n",
              "0     159   19M      10,000+  Free     0       Everyone   \n",
              "1     967   14M     500,000+  Free     0       Everyone   \n",
              "2   87510  8.7M   5,000,000+  Free     0       Everyone   \n",
              "3  215644   25M  50,000,000+  Free     0           Teen   \n",
              "4     967  2.8M     100,000+  Free     0       Everyone   \n",
              "\n",
              "                      Genres      Last Updated         Current Ver  \\\n",
              "0               Art & Design   January 7, 2018               1.0.0   \n",
              "1  Art & Design;Pretend Play  January 15, 2018               2.0.0   \n",
              "2               Art & Design    August 1, 2018               1.2.4   \n",
              "3               Art & Design      June 8, 2018  Varies with device   \n",
              "4    Art & Design;Creativity     June 20, 2018                 1.1   \n",
              "\n",
              "    Android Ver  \n",
              "0  4.0.3 and up  \n",
              "1  4.0.3 and up  \n",
              "2  4.0.3 and up  \n",
              "3    4.2 and up  \n",
              "4    4.4 and up  "
            ],
            "text/html": [
              "\n",
              "  <div id=\"df-961f9353-fada-4acd-a3f2-bfd4f052f389\">\n",
              "    <div class=\"colab-df-container\">\n",
              "      <div>\n",
              "<style scoped>\n",
              "    .dataframe tbody tr th:only-of-type {\n",
              "        vertical-align: middle;\n",
              "    }\n",
              "\n",
              "    .dataframe tbody tr th {\n",
              "        vertical-align: top;\n",
              "    }\n",
              "\n",
              "    .dataframe thead th {\n",
              "        text-align: right;\n",
              "    }\n",
              "</style>\n",
              "<table border=\"1\" class=\"dataframe\">\n",
              "  <thead>\n",
              "    <tr style=\"text-align: right;\">\n",
              "      <th></th>\n",
              "      <th>App</th>\n",
              "      <th>Category</th>\n",
              "      <th>Rating</th>\n",
              "      <th>Reviews</th>\n",
              "      <th>Size</th>\n",
              "      <th>Installs</th>\n",
              "      <th>Type</th>\n",
              "      <th>Price</th>\n",
              "      <th>Content Rating</th>\n",
              "      <th>Genres</th>\n",
              "      <th>Last Updated</th>\n",
              "      <th>Current Ver</th>\n",
              "      <th>Android Ver</th>\n",
              "    </tr>\n",
              "  </thead>\n",
              "  <tbody>\n",
              "    <tr>\n",
              "      <th>0</th>\n",
              "      <td>Photo Editor &amp; Candy Camera &amp; Grid &amp; ScrapBook</td>\n",
              "      <td>ART_AND_DESIGN</td>\n",
              "      <td>4.1</td>\n",
              "      <td>159</td>\n",
              "      <td>19M</td>\n",
              "      <td>10,000+</td>\n",
              "      <td>Free</td>\n",
              "      <td>0</td>\n",
              "      <td>Everyone</td>\n",
              "      <td>Art &amp; Design</td>\n",
              "      <td>January 7, 2018</td>\n",
              "      <td>1.0.0</td>\n",
              "      <td>4.0.3 and up</td>\n",
              "    </tr>\n",
              "    <tr>\n",
              "      <th>1</th>\n",
              "      <td>Coloring book moana</td>\n",
              "      <td>ART_AND_DESIGN</td>\n",
              "      <td>3.9</td>\n",
              "      <td>967</td>\n",
              "      <td>14M</td>\n",
              "      <td>500,000+</td>\n",
              "      <td>Free</td>\n",
              "      <td>0</td>\n",
              "      <td>Everyone</td>\n",
              "      <td>Art &amp; Design;Pretend Play</td>\n",
              "      <td>January 15, 2018</td>\n",
              "      <td>2.0.0</td>\n",
              "      <td>4.0.3 and up</td>\n",
              "    </tr>\n",
              "    <tr>\n",
              "      <th>2</th>\n",
              "      <td>U Launcher Lite – FREE Live Cool Themes, Hide ...</td>\n",
              "      <td>ART_AND_DESIGN</td>\n",
              "      <td>4.7</td>\n",
              "      <td>87510</td>\n",
              "      <td>8.7M</td>\n",
              "      <td>5,000,000+</td>\n",
              "      <td>Free</td>\n",
              "      <td>0</td>\n",
              "      <td>Everyone</td>\n",
              "      <td>Art &amp; Design</td>\n",
              "      <td>August 1, 2018</td>\n",
              "      <td>1.2.4</td>\n",
              "      <td>4.0.3 and up</td>\n",
              "    </tr>\n",
              "    <tr>\n",
              "      <th>3</th>\n",
              "      <td>Sketch - Draw &amp; Paint</td>\n",
              "      <td>ART_AND_DESIGN</td>\n",
              "      <td>4.5</td>\n",
              "      <td>215644</td>\n",
              "      <td>25M</td>\n",
              "      <td>50,000,000+</td>\n",
              "      <td>Free</td>\n",
              "      <td>0</td>\n",
              "      <td>Teen</td>\n",
              "      <td>Art &amp; Design</td>\n",
              "      <td>June 8, 2018</td>\n",
              "      <td>Varies with device</td>\n",
              "      <td>4.2 and up</td>\n",
              "    </tr>\n",
              "    <tr>\n",
              "      <th>4</th>\n",
              "      <td>Pixel Draw - Number Art Coloring Book</td>\n",
              "      <td>ART_AND_DESIGN</td>\n",
              "      <td>4.3</td>\n",
              "      <td>967</td>\n",
              "      <td>2.8M</td>\n",
              "      <td>100,000+</td>\n",
              "      <td>Free</td>\n",
              "      <td>0</td>\n",
              "      <td>Everyone</td>\n",
              "      <td>Art &amp; Design;Creativity</td>\n",
              "      <td>June 20, 2018</td>\n",
              "      <td>1.1</td>\n",
              "      <td>4.4 and up</td>\n",
              "    </tr>\n",
              "  </tbody>\n",
              "</table>\n",
              "</div>\n",
              "      <button class=\"colab-df-convert\" onclick=\"convertToInteractive('df-961f9353-fada-4acd-a3f2-bfd4f052f389')\"\n",
              "              title=\"Convert this dataframe to an interactive table.\"\n",
              "              style=\"display:none;\">\n",
              "        \n",
              "  <svg xmlns=\"http://www.w3.org/2000/svg\" height=\"24px\"viewBox=\"0 0 24 24\"\n",
              "       width=\"24px\">\n",
              "    <path d=\"M0 0h24v24H0V0z\" fill=\"none\"/>\n",
              "    <path d=\"M18.56 5.44l.94 2.06.94-2.06 2.06-.94-2.06-.94-.94-2.06-.94 2.06-2.06.94zm-11 1L8.5 8.5l.94-2.06 2.06-.94-2.06-.94L8.5 2.5l-.94 2.06-2.06.94zm10 10l.94 2.06.94-2.06 2.06-.94-2.06-.94-.94-2.06-.94 2.06-2.06.94z\"/><path d=\"M17.41 7.96l-1.37-1.37c-.4-.4-.92-.59-1.43-.59-.52 0-1.04.2-1.43.59L10.3 9.45l-7.72 7.72c-.78.78-.78 2.05 0 2.83L4 21.41c.39.39.9.59 1.41.59.51 0 1.02-.2 1.41-.59l7.78-7.78 2.81-2.81c.8-.78.8-2.07 0-2.86zM5.41 20L4 18.59l7.72-7.72 1.47 1.35L5.41 20z\"/>\n",
              "  </svg>\n",
              "      </button>\n",
              "      \n",
              "  <style>\n",
              "    .colab-df-container {\n",
              "      display:flex;\n",
              "      flex-wrap:wrap;\n",
              "      gap: 12px;\n",
              "    }\n",
              "\n",
              "    .colab-df-convert {\n",
              "      background-color: #E8F0FE;\n",
              "      border: none;\n",
              "      border-radius: 50%;\n",
              "      cursor: pointer;\n",
              "      display: none;\n",
              "      fill: #1967D2;\n",
              "      height: 32px;\n",
              "      padding: 0 0 0 0;\n",
              "      width: 32px;\n",
              "    }\n",
              "\n",
              "    .colab-df-convert:hover {\n",
              "      background-color: #E2EBFA;\n",
              "      box-shadow: 0px 1px 2px rgba(60, 64, 67, 0.3), 0px 1px 3px 1px rgba(60, 64, 67, 0.15);\n",
              "      fill: #174EA6;\n",
              "    }\n",
              "\n",
              "    [theme=dark] .colab-df-convert {\n",
              "      background-color: #3B4455;\n",
              "      fill: #D2E3FC;\n",
              "    }\n",
              "\n",
              "    [theme=dark] .colab-df-convert:hover {\n",
              "      background-color: #434B5C;\n",
              "      box-shadow: 0px 1px 3px 1px rgba(0, 0, 0, 0.15);\n",
              "      filter: drop-shadow(0px 1px 2px rgba(0, 0, 0, 0.3));\n",
              "      fill: #FFFFFF;\n",
              "    }\n",
              "  </style>\n",
              "\n",
              "      <script>\n",
              "        const buttonEl =\n",
              "          document.querySelector('#df-961f9353-fada-4acd-a3f2-bfd4f052f389 button.colab-df-convert');\n",
              "        buttonEl.style.display =\n",
              "          google.colab.kernel.accessAllowed ? 'block' : 'none';\n",
              "\n",
              "        async function convertToInteractive(key) {\n",
              "          const element = document.querySelector('#df-961f9353-fada-4acd-a3f2-bfd4f052f389');\n",
              "          const dataTable =\n",
              "            await google.colab.kernel.invokeFunction('convertToInteractive',\n",
              "                                                     [key], {});\n",
              "          if (!dataTable) return;\n",
              "\n",
              "          const docLinkHtml = 'Like what you see? Visit the ' +\n",
              "            '<a target=\"_blank\" href=https://colab.research.google.com/notebooks/data_table.ipynb>data table notebook</a>'\n",
              "            + ' to learn more about interactive tables.';\n",
              "          element.innerHTML = '';\n",
              "          dataTable['output_type'] = 'display_data';\n",
              "          await google.colab.output.renderOutput(dataTable, element);\n",
              "          const docLink = document.createElement('div');\n",
              "          docLink.innerHTML = docLinkHtml;\n",
              "          element.appendChild(docLink);\n",
              "        }\n",
              "      </script>\n",
              "    </div>\n",
              "  </div>\n",
              "  "
            ]
          },
          "metadata": {},
          "execution_count": 401
        }
      ]
    },
    {
      "cell_type": "code",
      "source": [
        "# lets also check rows at bottom using tail function\n",
        "df1.tail()"
      ],
      "metadata": {
        "colab": {
          "base_uri": "https://localhost:8080/",
          "height": 337
        },
        "id": "C6a4RT6Lo-dm",
        "outputId": "6c9916a5-2639-470f-d608-8eda024e426b"
      },
      "execution_count": 402,
      "outputs": [
        {
          "output_type": "execute_result",
          "data": {
            "text/plain": [
              "                                                 App             Category  \\\n",
              "10836                               Sya9a Maroc - FR               FAMILY   \n",
              "10837               Fr. Mike Schmitz Audio Teachings               FAMILY   \n",
              "10838                         Parkinson Exercices FR              MEDICAL   \n",
              "10839                  The SCP Foundation DB fr nn5n  BOOKS_AND_REFERENCE   \n",
              "10840  iHoroscope - 2018 Daily Horoscope & Astrology            LIFESTYLE   \n",
              "\n",
              "       Rating Reviews                Size     Installs  Type Price  \\\n",
              "10836     4.5      38                 53M       5,000+  Free     0   \n",
              "10837     5.0       4                3.6M         100+  Free     0   \n",
              "10838     NaN       3                9.5M       1,000+  Free     0   \n",
              "10839     4.5     114  Varies with device       1,000+  Free     0   \n",
              "10840     4.5  398307                 19M  10,000,000+  Free     0   \n",
              "\n",
              "      Content Rating             Genres      Last Updated         Current Ver  \\\n",
              "10836       Everyone          Education     July 25, 2017                1.48   \n",
              "10837       Everyone          Education      July 6, 2018                 1.0   \n",
              "10838       Everyone            Medical  January 20, 2017                 1.0   \n",
              "10839     Mature 17+  Books & Reference  January 19, 2015  Varies with device   \n",
              "10840       Everyone          Lifestyle     July 25, 2018  Varies with device   \n",
              "\n",
              "              Android Ver  \n",
              "10836          4.1 and up  \n",
              "10837          4.1 and up  \n",
              "10838          2.2 and up  \n",
              "10839  Varies with device  \n",
              "10840  Varies with device  "
            ],
            "text/html": [
              "\n",
              "  <div id=\"df-c1693134-0a85-441e-9c4b-7035c196e2d0\">\n",
              "    <div class=\"colab-df-container\">\n",
              "      <div>\n",
              "<style scoped>\n",
              "    .dataframe tbody tr th:only-of-type {\n",
              "        vertical-align: middle;\n",
              "    }\n",
              "\n",
              "    .dataframe tbody tr th {\n",
              "        vertical-align: top;\n",
              "    }\n",
              "\n",
              "    .dataframe thead th {\n",
              "        text-align: right;\n",
              "    }\n",
              "</style>\n",
              "<table border=\"1\" class=\"dataframe\">\n",
              "  <thead>\n",
              "    <tr style=\"text-align: right;\">\n",
              "      <th></th>\n",
              "      <th>App</th>\n",
              "      <th>Category</th>\n",
              "      <th>Rating</th>\n",
              "      <th>Reviews</th>\n",
              "      <th>Size</th>\n",
              "      <th>Installs</th>\n",
              "      <th>Type</th>\n",
              "      <th>Price</th>\n",
              "      <th>Content Rating</th>\n",
              "      <th>Genres</th>\n",
              "      <th>Last Updated</th>\n",
              "      <th>Current Ver</th>\n",
              "      <th>Android Ver</th>\n",
              "    </tr>\n",
              "  </thead>\n",
              "  <tbody>\n",
              "    <tr>\n",
              "      <th>10836</th>\n",
              "      <td>Sya9a Maroc - FR</td>\n",
              "      <td>FAMILY</td>\n",
              "      <td>4.5</td>\n",
              "      <td>38</td>\n",
              "      <td>53M</td>\n",
              "      <td>5,000+</td>\n",
              "      <td>Free</td>\n",
              "      <td>0</td>\n",
              "      <td>Everyone</td>\n",
              "      <td>Education</td>\n",
              "      <td>July 25, 2017</td>\n",
              "      <td>1.48</td>\n",
              "      <td>4.1 and up</td>\n",
              "    </tr>\n",
              "    <tr>\n",
              "      <th>10837</th>\n",
              "      <td>Fr. Mike Schmitz Audio Teachings</td>\n",
              "      <td>FAMILY</td>\n",
              "      <td>5.0</td>\n",
              "      <td>4</td>\n",
              "      <td>3.6M</td>\n",
              "      <td>100+</td>\n",
              "      <td>Free</td>\n",
              "      <td>0</td>\n",
              "      <td>Everyone</td>\n",
              "      <td>Education</td>\n",
              "      <td>July 6, 2018</td>\n",
              "      <td>1.0</td>\n",
              "      <td>4.1 and up</td>\n",
              "    </tr>\n",
              "    <tr>\n",
              "      <th>10838</th>\n",
              "      <td>Parkinson Exercices FR</td>\n",
              "      <td>MEDICAL</td>\n",
              "      <td>NaN</td>\n",
              "      <td>3</td>\n",
              "      <td>9.5M</td>\n",
              "      <td>1,000+</td>\n",
              "      <td>Free</td>\n",
              "      <td>0</td>\n",
              "      <td>Everyone</td>\n",
              "      <td>Medical</td>\n",
              "      <td>January 20, 2017</td>\n",
              "      <td>1.0</td>\n",
              "      <td>2.2 and up</td>\n",
              "    </tr>\n",
              "    <tr>\n",
              "      <th>10839</th>\n",
              "      <td>The SCP Foundation DB fr nn5n</td>\n",
              "      <td>BOOKS_AND_REFERENCE</td>\n",
              "      <td>4.5</td>\n",
              "      <td>114</td>\n",
              "      <td>Varies with device</td>\n",
              "      <td>1,000+</td>\n",
              "      <td>Free</td>\n",
              "      <td>0</td>\n",
              "      <td>Mature 17+</td>\n",
              "      <td>Books &amp; Reference</td>\n",
              "      <td>January 19, 2015</td>\n",
              "      <td>Varies with device</td>\n",
              "      <td>Varies with device</td>\n",
              "    </tr>\n",
              "    <tr>\n",
              "      <th>10840</th>\n",
              "      <td>iHoroscope - 2018 Daily Horoscope &amp; Astrology</td>\n",
              "      <td>LIFESTYLE</td>\n",
              "      <td>4.5</td>\n",
              "      <td>398307</td>\n",
              "      <td>19M</td>\n",
              "      <td>10,000,000+</td>\n",
              "      <td>Free</td>\n",
              "      <td>0</td>\n",
              "      <td>Everyone</td>\n",
              "      <td>Lifestyle</td>\n",
              "      <td>July 25, 2018</td>\n",
              "      <td>Varies with device</td>\n",
              "      <td>Varies with device</td>\n",
              "    </tr>\n",
              "  </tbody>\n",
              "</table>\n",
              "</div>\n",
              "      <button class=\"colab-df-convert\" onclick=\"convertToInteractive('df-c1693134-0a85-441e-9c4b-7035c196e2d0')\"\n",
              "              title=\"Convert this dataframe to an interactive table.\"\n",
              "              style=\"display:none;\">\n",
              "        \n",
              "  <svg xmlns=\"http://www.w3.org/2000/svg\" height=\"24px\"viewBox=\"0 0 24 24\"\n",
              "       width=\"24px\">\n",
              "    <path d=\"M0 0h24v24H0V0z\" fill=\"none\"/>\n",
              "    <path d=\"M18.56 5.44l.94 2.06.94-2.06 2.06-.94-2.06-.94-.94-2.06-.94 2.06-2.06.94zm-11 1L8.5 8.5l.94-2.06 2.06-.94-2.06-.94L8.5 2.5l-.94 2.06-2.06.94zm10 10l.94 2.06.94-2.06 2.06-.94-2.06-.94-.94-2.06-.94 2.06-2.06.94z\"/><path d=\"M17.41 7.96l-1.37-1.37c-.4-.4-.92-.59-1.43-.59-.52 0-1.04.2-1.43.59L10.3 9.45l-7.72 7.72c-.78.78-.78 2.05 0 2.83L4 21.41c.39.39.9.59 1.41.59.51 0 1.02-.2 1.41-.59l7.78-7.78 2.81-2.81c.8-.78.8-2.07 0-2.86zM5.41 20L4 18.59l7.72-7.72 1.47 1.35L5.41 20z\"/>\n",
              "  </svg>\n",
              "      </button>\n",
              "      \n",
              "  <style>\n",
              "    .colab-df-container {\n",
              "      display:flex;\n",
              "      flex-wrap:wrap;\n",
              "      gap: 12px;\n",
              "    }\n",
              "\n",
              "    .colab-df-convert {\n",
              "      background-color: #E8F0FE;\n",
              "      border: none;\n",
              "      border-radius: 50%;\n",
              "      cursor: pointer;\n",
              "      display: none;\n",
              "      fill: #1967D2;\n",
              "      height: 32px;\n",
              "      padding: 0 0 0 0;\n",
              "      width: 32px;\n",
              "    }\n",
              "\n",
              "    .colab-df-convert:hover {\n",
              "      background-color: #E2EBFA;\n",
              "      box-shadow: 0px 1px 2px rgba(60, 64, 67, 0.3), 0px 1px 3px 1px rgba(60, 64, 67, 0.15);\n",
              "      fill: #174EA6;\n",
              "    }\n",
              "\n",
              "    [theme=dark] .colab-df-convert {\n",
              "      background-color: #3B4455;\n",
              "      fill: #D2E3FC;\n",
              "    }\n",
              "\n",
              "    [theme=dark] .colab-df-convert:hover {\n",
              "      background-color: #434B5C;\n",
              "      box-shadow: 0px 1px 3px 1px rgba(0, 0, 0, 0.15);\n",
              "      filter: drop-shadow(0px 1px 2px rgba(0, 0, 0, 0.3));\n",
              "      fill: #FFFFFF;\n",
              "    }\n",
              "  </style>\n",
              "\n",
              "      <script>\n",
              "        const buttonEl =\n",
              "          document.querySelector('#df-c1693134-0a85-441e-9c4b-7035c196e2d0 button.colab-df-convert');\n",
              "        buttonEl.style.display =\n",
              "          google.colab.kernel.accessAllowed ? 'block' : 'none';\n",
              "\n",
              "        async function convertToInteractive(key) {\n",
              "          const element = document.querySelector('#df-c1693134-0a85-441e-9c4b-7035c196e2d0');\n",
              "          const dataTable =\n",
              "            await google.colab.kernel.invokeFunction('convertToInteractive',\n",
              "                                                     [key], {});\n",
              "          if (!dataTable) return;\n",
              "\n",
              "          const docLinkHtml = 'Like what you see? Visit the ' +\n",
              "            '<a target=\"_blank\" href=https://colab.research.google.com/notebooks/data_table.ipynb>data table notebook</a>'\n",
              "            + ' to learn more about interactive tables.';\n",
              "          element.innerHTML = '';\n",
              "          dataTable['output_type'] = 'display_data';\n",
              "          await google.colab.output.renderOutput(dataTable, element);\n",
              "          const docLink = document.createElement('div');\n",
              "          docLink.innerHTML = docLinkHtml;\n",
              "          element.appendChild(docLink);\n",
              "        }\n",
              "      </script>\n",
              "    </div>\n",
              "  </div>\n",
              "  "
            ]
          },
          "metadata": {},
          "execution_count": 402
        }
      ]
    },
    {
      "cell_type": "code",
      "source": [
        "#lets check the columns present in our data\n",
        "df1.columns"
      ],
      "metadata": {
        "colab": {
          "base_uri": "https://localhost:8080/"
        },
        "id": "3ww10EMCm3Zo",
        "outputId": "41367e06-f318-40e4-f4c9-7520e2838305"
      },
      "execution_count": 403,
      "outputs": [
        {
          "output_type": "execute_result",
          "data": {
            "text/plain": [
              "Index(['App', 'Category', 'Rating', 'Reviews', 'Size', 'Installs', 'Type',\n",
              "       'Price', 'Content Rating', 'Genres', 'Last Updated', 'Current Ver',\n",
              "       'Android Ver'],\n",
              "      dtype='object')"
            ]
          },
          "metadata": {},
          "execution_count": 403
        }
      ]
    },
    {
      "cell_type": "code",
      "source": [
        "#checking info of our data\n",
        "df1.info()"
      ],
      "metadata": {
        "colab": {
          "base_uri": "https://localhost:8080/"
        },
        "id": "pUZFH-jRn2Zz",
        "outputId": "def20760-6d22-40a7-89c8-5d014ce974e8"
      },
      "execution_count": 404,
      "outputs": [
        {
          "output_type": "stream",
          "name": "stdout",
          "text": [
            "<class 'pandas.core.frame.DataFrame'>\n",
            "RangeIndex: 10841 entries, 0 to 10840\n",
            "Data columns (total 13 columns):\n",
            " #   Column          Non-Null Count  Dtype  \n",
            "---  ------          --------------  -----  \n",
            " 0   App             10841 non-null  object \n",
            " 1   Category        10841 non-null  object \n",
            " 2   Rating          9367 non-null   float64\n",
            " 3   Reviews         10841 non-null  object \n",
            " 4   Size            10841 non-null  object \n",
            " 5   Installs        10841 non-null  object \n",
            " 6   Type            10840 non-null  object \n",
            " 7   Price           10841 non-null  object \n",
            " 8   Content Rating  10840 non-null  object \n",
            " 9   Genres          10841 non-null  object \n",
            " 10  Last Updated    10841 non-null  object \n",
            " 11  Current Ver     10833 non-null  object \n",
            " 12  Android Ver     10838 non-null  object \n",
            "dtypes: float64(1), object(12)\n",
            "memory usage: 1.1+ MB\n"
          ]
        }
      ]
    },
    {
      "cell_type": "markdown",
      "source": [
        "##<B> We first try to clear our DataFrame with all unnecessary values and null values \n"
      ],
      "metadata": {
        "id": "TjIIDavJPC4t"
      }
    },
    {
      "cell_type": "markdown",
      "source": [
        "## <B> We can use the isnull() function To know if there is any missing value or Nan value in the dataset,"
      ],
      "metadata": {
        "id": "QkawW_y6oEDe"
      }
    },
    {
      "cell_type": "code",
      "source": [
        "#checking null values\n",
        "df1.isnull().sum()          "
      ],
      "metadata": {
        "colab": {
          "base_uri": "https://localhost:8080/"
        },
        "id": "NMKausy8oJVq",
        "outputId": "edda77d0-33db-41e5-dbea-02e8ce8aa1fb"
      },
      "execution_count": 405,
      "outputs": [
        {
          "output_type": "execute_result",
          "data": {
            "text/plain": [
              "App                  0\n",
              "Category             0\n",
              "Rating            1474\n",
              "Reviews              0\n",
              "Size                 0\n",
              "Installs             0\n",
              "Type                 1\n",
              "Price                0\n",
              "Content Rating       1\n",
              "Genres               0\n",
              "Last Updated         0\n",
              "Current Ver          8\n",
              "Android Ver          3\n",
              "dtype: int64"
            ]
          },
          "metadata": {},
          "execution_count": 405
        }
      ]
    },
    {
      "cell_type": "markdown",
      "source": [
        "We saw that the dataset contains many Null or missing values respectively. we will try to get rid of all null values 1 by 1"
      ],
      "metadata": {
        "id": "PIFxgeXEpGN3"
      }
    },
    {
      "cell_type": "code",
      "source": [
        "# lets start with the column 'Type'\n",
        "df1[df1.Type.isnull()]"
      ],
      "metadata": {
        "colab": {
          "base_uri": "https://localhost:8080/",
          "height": 81
        },
        "id": "gYRJ1LOFzfKZ",
        "outputId": "a2d0017b-2fe4-4ef4-c989-49382de03d8a"
      },
      "execution_count": 406,
      "outputs": [
        {
          "output_type": "execute_result",
          "data": {
            "text/plain": [
              "                            App Category  Rating Reviews                Size  \\\n",
              "9148  Command & Conquer: Rivals   FAMILY     NaN       0  Varies with device   \n",
              "\n",
              "     Installs Type Price Content Rating    Genres   Last Updated  \\\n",
              "9148        0  NaN     0   Everyone 10+  Strategy  June 28, 2018   \n",
              "\n",
              "             Current Ver         Android Ver  \n",
              "9148  Varies with device  Varies with device  "
            ],
            "text/html": [
              "\n",
              "  <div id=\"df-e27f0794-7328-43d3-9a8b-6010737a4ee8\">\n",
              "    <div class=\"colab-df-container\">\n",
              "      <div>\n",
              "<style scoped>\n",
              "    .dataframe tbody tr th:only-of-type {\n",
              "        vertical-align: middle;\n",
              "    }\n",
              "\n",
              "    .dataframe tbody tr th {\n",
              "        vertical-align: top;\n",
              "    }\n",
              "\n",
              "    .dataframe thead th {\n",
              "        text-align: right;\n",
              "    }\n",
              "</style>\n",
              "<table border=\"1\" class=\"dataframe\">\n",
              "  <thead>\n",
              "    <tr style=\"text-align: right;\">\n",
              "      <th></th>\n",
              "      <th>App</th>\n",
              "      <th>Category</th>\n",
              "      <th>Rating</th>\n",
              "      <th>Reviews</th>\n",
              "      <th>Size</th>\n",
              "      <th>Installs</th>\n",
              "      <th>Type</th>\n",
              "      <th>Price</th>\n",
              "      <th>Content Rating</th>\n",
              "      <th>Genres</th>\n",
              "      <th>Last Updated</th>\n",
              "      <th>Current Ver</th>\n",
              "      <th>Android Ver</th>\n",
              "    </tr>\n",
              "  </thead>\n",
              "  <tbody>\n",
              "    <tr>\n",
              "      <th>9148</th>\n",
              "      <td>Command &amp; Conquer: Rivals</td>\n",
              "      <td>FAMILY</td>\n",
              "      <td>NaN</td>\n",
              "      <td>0</td>\n",
              "      <td>Varies with device</td>\n",
              "      <td>0</td>\n",
              "      <td>NaN</td>\n",
              "      <td>0</td>\n",
              "      <td>Everyone 10+</td>\n",
              "      <td>Strategy</td>\n",
              "      <td>June 28, 2018</td>\n",
              "      <td>Varies with device</td>\n",
              "      <td>Varies with device</td>\n",
              "    </tr>\n",
              "  </tbody>\n",
              "</table>\n",
              "</div>\n",
              "      <button class=\"colab-df-convert\" onclick=\"convertToInteractive('df-e27f0794-7328-43d3-9a8b-6010737a4ee8')\"\n",
              "              title=\"Convert this dataframe to an interactive table.\"\n",
              "              style=\"display:none;\">\n",
              "        \n",
              "  <svg xmlns=\"http://www.w3.org/2000/svg\" height=\"24px\"viewBox=\"0 0 24 24\"\n",
              "       width=\"24px\">\n",
              "    <path d=\"M0 0h24v24H0V0z\" fill=\"none\"/>\n",
              "    <path d=\"M18.56 5.44l.94 2.06.94-2.06 2.06-.94-2.06-.94-.94-2.06-.94 2.06-2.06.94zm-11 1L8.5 8.5l.94-2.06 2.06-.94-2.06-.94L8.5 2.5l-.94 2.06-2.06.94zm10 10l.94 2.06.94-2.06 2.06-.94-2.06-.94-.94-2.06-.94 2.06-2.06.94z\"/><path d=\"M17.41 7.96l-1.37-1.37c-.4-.4-.92-.59-1.43-.59-.52 0-1.04.2-1.43.59L10.3 9.45l-7.72 7.72c-.78.78-.78 2.05 0 2.83L4 21.41c.39.39.9.59 1.41.59.51 0 1.02-.2 1.41-.59l7.78-7.78 2.81-2.81c.8-.78.8-2.07 0-2.86zM5.41 20L4 18.59l7.72-7.72 1.47 1.35L5.41 20z\"/>\n",
              "  </svg>\n",
              "      </button>\n",
              "      \n",
              "  <style>\n",
              "    .colab-df-container {\n",
              "      display:flex;\n",
              "      flex-wrap:wrap;\n",
              "      gap: 12px;\n",
              "    }\n",
              "\n",
              "    .colab-df-convert {\n",
              "      background-color: #E8F0FE;\n",
              "      border: none;\n",
              "      border-radius: 50%;\n",
              "      cursor: pointer;\n",
              "      display: none;\n",
              "      fill: #1967D2;\n",
              "      height: 32px;\n",
              "      padding: 0 0 0 0;\n",
              "      width: 32px;\n",
              "    }\n",
              "\n",
              "    .colab-df-convert:hover {\n",
              "      background-color: #E2EBFA;\n",
              "      box-shadow: 0px 1px 2px rgba(60, 64, 67, 0.3), 0px 1px 3px 1px rgba(60, 64, 67, 0.15);\n",
              "      fill: #174EA6;\n",
              "    }\n",
              "\n",
              "    [theme=dark] .colab-df-convert {\n",
              "      background-color: #3B4455;\n",
              "      fill: #D2E3FC;\n",
              "    }\n",
              "\n",
              "    [theme=dark] .colab-df-convert:hover {\n",
              "      background-color: #434B5C;\n",
              "      box-shadow: 0px 1px 3px 1px rgba(0, 0, 0, 0.15);\n",
              "      filter: drop-shadow(0px 1px 2px rgba(0, 0, 0, 0.3));\n",
              "      fill: #FFFFFF;\n",
              "    }\n",
              "  </style>\n",
              "\n",
              "      <script>\n",
              "        const buttonEl =\n",
              "          document.querySelector('#df-e27f0794-7328-43d3-9a8b-6010737a4ee8 button.colab-df-convert');\n",
              "        buttonEl.style.display =\n",
              "          google.colab.kernel.accessAllowed ? 'block' : 'none';\n",
              "\n",
              "        async function convertToInteractive(key) {\n",
              "          const element = document.querySelector('#df-e27f0794-7328-43d3-9a8b-6010737a4ee8');\n",
              "          const dataTable =\n",
              "            await google.colab.kernel.invokeFunction('convertToInteractive',\n",
              "                                                     [key], {});\n",
              "          if (!dataTable) return;\n",
              "\n",
              "          const docLinkHtml = 'Like what you see? Visit the ' +\n",
              "            '<a target=\"_blank\" href=https://colab.research.google.com/notebooks/data_table.ipynb>data table notebook</a>'\n",
              "            + ' to learn more about interactive tables.';\n",
              "          element.innerHTML = '';\n",
              "          dataTable['output_type'] = 'display_data';\n",
              "          await google.colab.output.renderOutput(dataTable, element);\n",
              "          const docLink = document.createElement('div');\n",
              "          docLink.innerHTML = docLinkHtml;\n",
              "          element.appendChild(docLink);\n",
              "        }\n",
              "      </script>\n",
              "    </div>\n",
              "  </div>\n",
              "  "
            ]
          },
          "metadata": {},
          "execution_count": 406
        }
      ]
    },
    {
      "cell_type": "code",
      "source": [
        "#Dropping row\n",
        "df1 = df1.drop(9148)           "
      ],
      "metadata": {
        "id": "ghoIiNq40rF9"
      },
      "execution_count": 407,
      "outputs": []
    },
    {
      "cell_type": "code",
      "source": [
        "#checking again\n",
        "df1[df1.Type.isnull()]"
      ],
      "metadata": {
        "colab": {
          "base_uri": "https://localhost:8080/",
          "height": 49
        },
        "id": "aP8zlZncCi6p",
        "outputId": "5046eb69-c9c7-484b-f0b2-641500f7323e"
      },
      "execution_count": 408,
      "outputs": [
        {
          "output_type": "execute_result",
          "data": {
            "text/plain": [
              "Empty DataFrame\n",
              "Columns: [App, Category, Rating, Reviews, Size, Installs, Type, Price, Content Rating, Genres, Last Updated, Current Ver, Android Ver]\n",
              "Index: []"
            ],
            "text/html": [
              "\n",
              "  <div id=\"df-83f7a300-5282-4da9-b0ed-363d8693ad53\">\n",
              "    <div class=\"colab-df-container\">\n",
              "      <div>\n",
              "<style scoped>\n",
              "    .dataframe tbody tr th:only-of-type {\n",
              "        vertical-align: middle;\n",
              "    }\n",
              "\n",
              "    .dataframe tbody tr th {\n",
              "        vertical-align: top;\n",
              "    }\n",
              "\n",
              "    .dataframe thead th {\n",
              "        text-align: right;\n",
              "    }\n",
              "</style>\n",
              "<table border=\"1\" class=\"dataframe\">\n",
              "  <thead>\n",
              "    <tr style=\"text-align: right;\">\n",
              "      <th></th>\n",
              "      <th>App</th>\n",
              "      <th>Category</th>\n",
              "      <th>Rating</th>\n",
              "      <th>Reviews</th>\n",
              "      <th>Size</th>\n",
              "      <th>Installs</th>\n",
              "      <th>Type</th>\n",
              "      <th>Price</th>\n",
              "      <th>Content Rating</th>\n",
              "      <th>Genres</th>\n",
              "      <th>Last Updated</th>\n",
              "      <th>Current Ver</th>\n",
              "      <th>Android Ver</th>\n",
              "    </tr>\n",
              "  </thead>\n",
              "  <tbody>\n",
              "  </tbody>\n",
              "</table>\n",
              "</div>\n",
              "      <button class=\"colab-df-convert\" onclick=\"convertToInteractive('df-83f7a300-5282-4da9-b0ed-363d8693ad53')\"\n",
              "              title=\"Convert this dataframe to an interactive table.\"\n",
              "              style=\"display:none;\">\n",
              "        \n",
              "  <svg xmlns=\"http://www.w3.org/2000/svg\" height=\"24px\"viewBox=\"0 0 24 24\"\n",
              "       width=\"24px\">\n",
              "    <path d=\"M0 0h24v24H0V0z\" fill=\"none\"/>\n",
              "    <path d=\"M18.56 5.44l.94 2.06.94-2.06 2.06-.94-2.06-.94-.94-2.06-.94 2.06-2.06.94zm-11 1L8.5 8.5l.94-2.06 2.06-.94-2.06-.94L8.5 2.5l-.94 2.06-2.06.94zm10 10l.94 2.06.94-2.06 2.06-.94-2.06-.94-.94-2.06-.94 2.06-2.06.94z\"/><path d=\"M17.41 7.96l-1.37-1.37c-.4-.4-.92-.59-1.43-.59-.52 0-1.04.2-1.43.59L10.3 9.45l-7.72 7.72c-.78.78-.78 2.05 0 2.83L4 21.41c.39.39.9.59 1.41.59.51 0 1.02-.2 1.41-.59l7.78-7.78 2.81-2.81c.8-.78.8-2.07 0-2.86zM5.41 20L4 18.59l7.72-7.72 1.47 1.35L5.41 20z\"/>\n",
              "  </svg>\n",
              "      </button>\n",
              "      \n",
              "  <style>\n",
              "    .colab-df-container {\n",
              "      display:flex;\n",
              "      flex-wrap:wrap;\n",
              "      gap: 12px;\n",
              "    }\n",
              "\n",
              "    .colab-df-convert {\n",
              "      background-color: #E8F0FE;\n",
              "      border: none;\n",
              "      border-radius: 50%;\n",
              "      cursor: pointer;\n",
              "      display: none;\n",
              "      fill: #1967D2;\n",
              "      height: 32px;\n",
              "      padding: 0 0 0 0;\n",
              "      width: 32px;\n",
              "    }\n",
              "\n",
              "    .colab-df-convert:hover {\n",
              "      background-color: #E2EBFA;\n",
              "      box-shadow: 0px 1px 2px rgba(60, 64, 67, 0.3), 0px 1px 3px 1px rgba(60, 64, 67, 0.15);\n",
              "      fill: #174EA6;\n",
              "    }\n",
              "\n",
              "    [theme=dark] .colab-df-convert {\n",
              "      background-color: #3B4455;\n",
              "      fill: #D2E3FC;\n",
              "    }\n",
              "\n",
              "    [theme=dark] .colab-df-convert:hover {\n",
              "      background-color: #434B5C;\n",
              "      box-shadow: 0px 1px 3px 1px rgba(0, 0, 0, 0.15);\n",
              "      filter: drop-shadow(0px 1px 2px rgba(0, 0, 0, 0.3));\n",
              "      fill: #FFFFFF;\n",
              "    }\n",
              "  </style>\n",
              "\n",
              "      <script>\n",
              "        const buttonEl =\n",
              "          document.querySelector('#df-83f7a300-5282-4da9-b0ed-363d8693ad53 button.colab-df-convert');\n",
              "        buttonEl.style.display =\n",
              "          google.colab.kernel.accessAllowed ? 'block' : 'none';\n",
              "\n",
              "        async function convertToInteractive(key) {\n",
              "          const element = document.querySelector('#df-83f7a300-5282-4da9-b0ed-363d8693ad53');\n",
              "          const dataTable =\n",
              "            await google.colab.kernel.invokeFunction('convertToInteractive',\n",
              "                                                     [key], {});\n",
              "          if (!dataTable) return;\n",
              "\n",
              "          const docLinkHtml = 'Like what you see? Visit the ' +\n",
              "            '<a target=\"_blank\" href=https://colab.research.google.com/notebooks/data_table.ipynb>data table notebook</a>'\n",
              "            + ' to learn more about interactive tables.';\n",
              "          element.innerHTML = '';\n",
              "          dataTable['output_type'] = 'display_data';\n",
              "          await google.colab.output.renderOutput(dataTable, element);\n",
              "          const docLink = document.createElement('div');\n",
              "          docLink.innerHTML = docLinkHtml;\n",
              "          element.appendChild(docLink);\n",
              "        }\n",
              "      </script>\n",
              "    </div>\n",
              "  </div>\n",
              "  "
            ]
          },
          "metadata": {},
          "execution_count": 408
        }
      ]
    },
    {
      "cell_type": "code",
      "source": [
        "# Checking again it its get replaced or not\n",
        "df1.isnull().sum()"
      ],
      "metadata": {
        "colab": {
          "base_uri": "https://localhost:8080/"
        },
        "id": "IAfNLpz_3vl8",
        "outputId": "a242d041-8dc8-4fdf-b922-ef71dc7310ff"
      },
      "execution_count": 409,
      "outputs": [
        {
          "output_type": "execute_result",
          "data": {
            "text/plain": [
              "App                  0\n",
              "Category             0\n",
              "Rating            1473\n",
              "Reviews              0\n",
              "Size                 0\n",
              "Installs             0\n",
              "Type                 0\n",
              "Price                0\n",
              "Content Rating       1\n",
              "Genres               0\n",
              "Last Updated         0\n",
              "Current Ver          8\n",
              "Android Ver          3\n",
              "dtype: int64"
            ]
          },
          "metadata": {},
          "execution_count": 409
        }
      ]
    },
    {
      "cell_type": "markdown",
      "source": [
        "#Now, we can move on to the column Content Rating :"
      ],
      "metadata": {
        "id": "gsHPUymi4KyS"
      }
    },
    {
      "cell_type": "code",
      "source": [
        "#Checking null\n",
        "df1[df1['Content Rating'].isnull()]"
      ],
      "metadata": {
        "colab": {
          "base_uri": "https://localhost:8080/",
          "height": 81
        },
        "id": "pVDKU0d74SXq",
        "outputId": "35b03794-46b9-497f-c084-4fb35006cda4"
      },
      "execution_count": 410,
      "outputs": [
        {
          "output_type": "execute_result",
          "data": {
            "text/plain": [
              "                                           App Category  Rating Reviews  \\\n",
              "10472  Life Made WI-Fi Touchscreen Photo Frame      1.9    19.0    3.0M   \n",
              "\n",
              "         Size Installs Type     Price Content Rating             Genres  \\\n",
              "10472  1,000+     Free    0  Everyone            NaN  February 11, 2018   \n",
              "\n",
              "      Last Updated Current Ver Android Ver  \n",
              "10472       1.0.19  4.0 and up         NaN  "
            ],
            "text/html": [
              "\n",
              "  <div id=\"df-71a485cc-4588-4987-b7c1-9a5c0be03398\">\n",
              "    <div class=\"colab-df-container\">\n",
              "      <div>\n",
              "<style scoped>\n",
              "    .dataframe tbody tr th:only-of-type {\n",
              "        vertical-align: middle;\n",
              "    }\n",
              "\n",
              "    .dataframe tbody tr th {\n",
              "        vertical-align: top;\n",
              "    }\n",
              "\n",
              "    .dataframe thead th {\n",
              "        text-align: right;\n",
              "    }\n",
              "</style>\n",
              "<table border=\"1\" class=\"dataframe\">\n",
              "  <thead>\n",
              "    <tr style=\"text-align: right;\">\n",
              "      <th></th>\n",
              "      <th>App</th>\n",
              "      <th>Category</th>\n",
              "      <th>Rating</th>\n",
              "      <th>Reviews</th>\n",
              "      <th>Size</th>\n",
              "      <th>Installs</th>\n",
              "      <th>Type</th>\n",
              "      <th>Price</th>\n",
              "      <th>Content Rating</th>\n",
              "      <th>Genres</th>\n",
              "      <th>Last Updated</th>\n",
              "      <th>Current Ver</th>\n",
              "      <th>Android Ver</th>\n",
              "    </tr>\n",
              "  </thead>\n",
              "  <tbody>\n",
              "    <tr>\n",
              "      <th>10472</th>\n",
              "      <td>Life Made WI-Fi Touchscreen Photo Frame</td>\n",
              "      <td>1.9</td>\n",
              "      <td>19.0</td>\n",
              "      <td>3.0M</td>\n",
              "      <td>1,000+</td>\n",
              "      <td>Free</td>\n",
              "      <td>0</td>\n",
              "      <td>Everyone</td>\n",
              "      <td>NaN</td>\n",
              "      <td>February 11, 2018</td>\n",
              "      <td>1.0.19</td>\n",
              "      <td>4.0 and up</td>\n",
              "      <td>NaN</td>\n",
              "    </tr>\n",
              "  </tbody>\n",
              "</table>\n",
              "</div>\n",
              "      <button class=\"colab-df-convert\" onclick=\"convertToInteractive('df-71a485cc-4588-4987-b7c1-9a5c0be03398')\"\n",
              "              title=\"Convert this dataframe to an interactive table.\"\n",
              "              style=\"display:none;\">\n",
              "        \n",
              "  <svg xmlns=\"http://www.w3.org/2000/svg\" height=\"24px\"viewBox=\"0 0 24 24\"\n",
              "       width=\"24px\">\n",
              "    <path d=\"M0 0h24v24H0V0z\" fill=\"none\"/>\n",
              "    <path d=\"M18.56 5.44l.94 2.06.94-2.06 2.06-.94-2.06-.94-.94-2.06-.94 2.06-2.06.94zm-11 1L8.5 8.5l.94-2.06 2.06-.94-2.06-.94L8.5 2.5l-.94 2.06-2.06.94zm10 10l.94 2.06.94-2.06 2.06-.94-2.06-.94-.94-2.06-.94 2.06-2.06.94z\"/><path d=\"M17.41 7.96l-1.37-1.37c-.4-.4-.92-.59-1.43-.59-.52 0-1.04.2-1.43.59L10.3 9.45l-7.72 7.72c-.78.78-.78 2.05 0 2.83L4 21.41c.39.39.9.59 1.41.59.51 0 1.02-.2 1.41-.59l7.78-7.78 2.81-2.81c.8-.78.8-2.07 0-2.86zM5.41 20L4 18.59l7.72-7.72 1.47 1.35L5.41 20z\"/>\n",
              "  </svg>\n",
              "      </button>\n",
              "      \n",
              "  <style>\n",
              "    .colab-df-container {\n",
              "      display:flex;\n",
              "      flex-wrap:wrap;\n",
              "      gap: 12px;\n",
              "    }\n",
              "\n",
              "    .colab-df-convert {\n",
              "      background-color: #E8F0FE;\n",
              "      border: none;\n",
              "      border-radius: 50%;\n",
              "      cursor: pointer;\n",
              "      display: none;\n",
              "      fill: #1967D2;\n",
              "      height: 32px;\n",
              "      padding: 0 0 0 0;\n",
              "      width: 32px;\n",
              "    }\n",
              "\n",
              "    .colab-df-convert:hover {\n",
              "      background-color: #E2EBFA;\n",
              "      box-shadow: 0px 1px 2px rgba(60, 64, 67, 0.3), 0px 1px 3px 1px rgba(60, 64, 67, 0.15);\n",
              "      fill: #174EA6;\n",
              "    }\n",
              "\n",
              "    [theme=dark] .colab-df-convert {\n",
              "      background-color: #3B4455;\n",
              "      fill: #D2E3FC;\n",
              "    }\n",
              "\n",
              "    [theme=dark] .colab-df-convert:hover {\n",
              "      background-color: #434B5C;\n",
              "      box-shadow: 0px 1px 3px 1px rgba(0, 0, 0, 0.15);\n",
              "      filter: drop-shadow(0px 1px 2px rgba(0, 0, 0, 0.3));\n",
              "      fill: #FFFFFF;\n",
              "    }\n",
              "  </style>\n",
              "\n",
              "      <script>\n",
              "        const buttonEl =\n",
              "          document.querySelector('#df-71a485cc-4588-4987-b7c1-9a5c0be03398 button.colab-df-convert');\n",
              "        buttonEl.style.display =\n",
              "          google.colab.kernel.accessAllowed ? 'block' : 'none';\n",
              "\n",
              "        async function convertToInteractive(key) {\n",
              "          const element = document.querySelector('#df-71a485cc-4588-4987-b7c1-9a5c0be03398');\n",
              "          const dataTable =\n",
              "            await google.colab.kernel.invokeFunction('convertToInteractive',\n",
              "                                                     [key], {});\n",
              "          if (!dataTable) return;\n",
              "\n",
              "          const docLinkHtml = 'Like what you see? Visit the ' +\n",
              "            '<a target=\"_blank\" href=https://colab.research.google.com/notebooks/data_table.ipynb>data table notebook</a>'\n",
              "            + ' to learn more about interactive tables.';\n",
              "          element.innerHTML = '';\n",
              "          dataTable['output_type'] = 'display_data';\n",
              "          await google.colab.output.renderOutput(dataTable, element);\n",
              "          const docLink = document.createElement('div');\n",
              "          docLink.innerHTML = docLinkHtml;\n",
              "          element.appendChild(docLink);\n",
              "        }\n",
              "      </script>\n",
              "    </div>\n",
              "  </div>\n",
              "  "
            ]
          },
          "metadata": {},
          "execution_count": 410
        }
      ]
    },
    {
      "cell_type": "code",
      "source": [
        "#Dropping row to remove null\n",
        "df1 = df1.drop(10472)"
      ],
      "metadata": {
        "id": "qQxRl8_A7I5-"
      },
      "execution_count": 411,
      "outputs": []
    },
    {
      "cell_type": "code",
      "source": [
        "#Checking top rows\n",
        "df1.head()"
      ],
      "metadata": {
        "colab": {
          "base_uri": "https://localhost:8080/",
          "height": 337
        },
        "id": "to8PpR4M8H_9",
        "outputId": "a2787a9a-a272-4c61-80ee-9117fe20ab2c"
      },
      "execution_count": 412,
      "outputs": [
        {
          "output_type": "execute_result",
          "data": {
            "text/plain": [
              "                                                 App        Category  Rating  \\\n",
              "0     Photo Editor & Candy Camera & Grid & ScrapBook  ART_AND_DESIGN     4.1   \n",
              "1                                Coloring book moana  ART_AND_DESIGN     3.9   \n",
              "2  U Launcher Lite – FREE Live Cool Themes, Hide ...  ART_AND_DESIGN     4.7   \n",
              "3                              Sketch - Draw & Paint  ART_AND_DESIGN     4.5   \n",
              "4              Pixel Draw - Number Art Coloring Book  ART_AND_DESIGN     4.3   \n",
              "\n",
              "  Reviews  Size     Installs  Type Price Content Rating  \\\n",
              "0     159   19M      10,000+  Free     0       Everyone   \n",
              "1     967   14M     500,000+  Free     0       Everyone   \n",
              "2   87510  8.7M   5,000,000+  Free     0       Everyone   \n",
              "3  215644   25M  50,000,000+  Free     0           Teen   \n",
              "4     967  2.8M     100,000+  Free     0       Everyone   \n",
              "\n",
              "                      Genres      Last Updated         Current Ver  \\\n",
              "0               Art & Design   January 7, 2018               1.0.0   \n",
              "1  Art & Design;Pretend Play  January 15, 2018               2.0.0   \n",
              "2               Art & Design    August 1, 2018               1.2.4   \n",
              "3               Art & Design      June 8, 2018  Varies with device   \n",
              "4    Art & Design;Creativity     June 20, 2018                 1.1   \n",
              "\n",
              "    Android Ver  \n",
              "0  4.0.3 and up  \n",
              "1  4.0.3 and up  \n",
              "2  4.0.3 and up  \n",
              "3    4.2 and up  \n",
              "4    4.4 and up  "
            ],
            "text/html": [
              "\n",
              "  <div id=\"df-f16dfc0d-c03e-4808-8585-9763668d4180\">\n",
              "    <div class=\"colab-df-container\">\n",
              "      <div>\n",
              "<style scoped>\n",
              "    .dataframe tbody tr th:only-of-type {\n",
              "        vertical-align: middle;\n",
              "    }\n",
              "\n",
              "    .dataframe tbody tr th {\n",
              "        vertical-align: top;\n",
              "    }\n",
              "\n",
              "    .dataframe thead th {\n",
              "        text-align: right;\n",
              "    }\n",
              "</style>\n",
              "<table border=\"1\" class=\"dataframe\">\n",
              "  <thead>\n",
              "    <tr style=\"text-align: right;\">\n",
              "      <th></th>\n",
              "      <th>App</th>\n",
              "      <th>Category</th>\n",
              "      <th>Rating</th>\n",
              "      <th>Reviews</th>\n",
              "      <th>Size</th>\n",
              "      <th>Installs</th>\n",
              "      <th>Type</th>\n",
              "      <th>Price</th>\n",
              "      <th>Content Rating</th>\n",
              "      <th>Genres</th>\n",
              "      <th>Last Updated</th>\n",
              "      <th>Current Ver</th>\n",
              "      <th>Android Ver</th>\n",
              "    </tr>\n",
              "  </thead>\n",
              "  <tbody>\n",
              "    <tr>\n",
              "      <th>0</th>\n",
              "      <td>Photo Editor &amp; Candy Camera &amp; Grid &amp; ScrapBook</td>\n",
              "      <td>ART_AND_DESIGN</td>\n",
              "      <td>4.1</td>\n",
              "      <td>159</td>\n",
              "      <td>19M</td>\n",
              "      <td>10,000+</td>\n",
              "      <td>Free</td>\n",
              "      <td>0</td>\n",
              "      <td>Everyone</td>\n",
              "      <td>Art &amp; Design</td>\n",
              "      <td>January 7, 2018</td>\n",
              "      <td>1.0.0</td>\n",
              "      <td>4.0.3 and up</td>\n",
              "    </tr>\n",
              "    <tr>\n",
              "      <th>1</th>\n",
              "      <td>Coloring book moana</td>\n",
              "      <td>ART_AND_DESIGN</td>\n",
              "      <td>3.9</td>\n",
              "      <td>967</td>\n",
              "      <td>14M</td>\n",
              "      <td>500,000+</td>\n",
              "      <td>Free</td>\n",
              "      <td>0</td>\n",
              "      <td>Everyone</td>\n",
              "      <td>Art &amp; Design;Pretend Play</td>\n",
              "      <td>January 15, 2018</td>\n",
              "      <td>2.0.0</td>\n",
              "      <td>4.0.3 and up</td>\n",
              "    </tr>\n",
              "    <tr>\n",
              "      <th>2</th>\n",
              "      <td>U Launcher Lite – FREE Live Cool Themes, Hide ...</td>\n",
              "      <td>ART_AND_DESIGN</td>\n",
              "      <td>4.7</td>\n",
              "      <td>87510</td>\n",
              "      <td>8.7M</td>\n",
              "      <td>5,000,000+</td>\n",
              "      <td>Free</td>\n",
              "      <td>0</td>\n",
              "      <td>Everyone</td>\n",
              "      <td>Art &amp; Design</td>\n",
              "      <td>August 1, 2018</td>\n",
              "      <td>1.2.4</td>\n",
              "      <td>4.0.3 and up</td>\n",
              "    </tr>\n",
              "    <tr>\n",
              "      <th>3</th>\n",
              "      <td>Sketch - Draw &amp; Paint</td>\n",
              "      <td>ART_AND_DESIGN</td>\n",
              "      <td>4.5</td>\n",
              "      <td>215644</td>\n",
              "      <td>25M</td>\n",
              "      <td>50,000,000+</td>\n",
              "      <td>Free</td>\n",
              "      <td>0</td>\n",
              "      <td>Teen</td>\n",
              "      <td>Art &amp; Design</td>\n",
              "      <td>June 8, 2018</td>\n",
              "      <td>Varies with device</td>\n",
              "      <td>4.2 and up</td>\n",
              "    </tr>\n",
              "    <tr>\n",
              "      <th>4</th>\n",
              "      <td>Pixel Draw - Number Art Coloring Book</td>\n",
              "      <td>ART_AND_DESIGN</td>\n",
              "      <td>4.3</td>\n",
              "      <td>967</td>\n",
              "      <td>2.8M</td>\n",
              "      <td>100,000+</td>\n",
              "      <td>Free</td>\n",
              "      <td>0</td>\n",
              "      <td>Everyone</td>\n",
              "      <td>Art &amp; Design;Creativity</td>\n",
              "      <td>June 20, 2018</td>\n",
              "      <td>1.1</td>\n",
              "      <td>4.4 and up</td>\n",
              "    </tr>\n",
              "  </tbody>\n",
              "</table>\n",
              "</div>\n",
              "      <button class=\"colab-df-convert\" onclick=\"convertToInteractive('df-f16dfc0d-c03e-4808-8585-9763668d4180')\"\n",
              "              title=\"Convert this dataframe to an interactive table.\"\n",
              "              style=\"display:none;\">\n",
              "        \n",
              "  <svg xmlns=\"http://www.w3.org/2000/svg\" height=\"24px\"viewBox=\"0 0 24 24\"\n",
              "       width=\"24px\">\n",
              "    <path d=\"M0 0h24v24H0V0z\" fill=\"none\"/>\n",
              "    <path d=\"M18.56 5.44l.94 2.06.94-2.06 2.06-.94-2.06-.94-.94-2.06-.94 2.06-2.06.94zm-11 1L8.5 8.5l.94-2.06 2.06-.94-2.06-.94L8.5 2.5l-.94 2.06-2.06.94zm10 10l.94 2.06.94-2.06 2.06-.94-2.06-.94-.94-2.06-.94 2.06-2.06.94z\"/><path d=\"M17.41 7.96l-1.37-1.37c-.4-.4-.92-.59-1.43-.59-.52 0-1.04.2-1.43.59L10.3 9.45l-7.72 7.72c-.78.78-.78 2.05 0 2.83L4 21.41c.39.39.9.59 1.41.59.51 0 1.02-.2 1.41-.59l7.78-7.78 2.81-2.81c.8-.78.8-2.07 0-2.86zM5.41 20L4 18.59l7.72-7.72 1.47 1.35L5.41 20z\"/>\n",
              "  </svg>\n",
              "      </button>\n",
              "      \n",
              "  <style>\n",
              "    .colab-df-container {\n",
              "      display:flex;\n",
              "      flex-wrap:wrap;\n",
              "      gap: 12px;\n",
              "    }\n",
              "\n",
              "    .colab-df-convert {\n",
              "      background-color: #E8F0FE;\n",
              "      border: none;\n",
              "      border-radius: 50%;\n",
              "      cursor: pointer;\n",
              "      display: none;\n",
              "      fill: #1967D2;\n",
              "      height: 32px;\n",
              "      padding: 0 0 0 0;\n",
              "      width: 32px;\n",
              "    }\n",
              "\n",
              "    .colab-df-convert:hover {\n",
              "      background-color: #E2EBFA;\n",
              "      box-shadow: 0px 1px 2px rgba(60, 64, 67, 0.3), 0px 1px 3px 1px rgba(60, 64, 67, 0.15);\n",
              "      fill: #174EA6;\n",
              "    }\n",
              "\n",
              "    [theme=dark] .colab-df-convert {\n",
              "      background-color: #3B4455;\n",
              "      fill: #D2E3FC;\n",
              "    }\n",
              "\n",
              "    [theme=dark] .colab-df-convert:hover {\n",
              "      background-color: #434B5C;\n",
              "      box-shadow: 0px 1px 3px 1px rgba(0, 0, 0, 0.15);\n",
              "      filter: drop-shadow(0px 1px 2px rgba(0, 0, 0, 0.3));\n",
              "      fill: #FFFFFF;\n",
              "    }\n",
              "  </style>\n",
              "\n",
              "      <script>\n",
              "        const buttonEl =\n",
              "          document.querySelector('#df-f16dfc0d-c03e-4808-8585-9763668d4180 button.colab-df-convert');\n",
              "        buttonEl.style.display =\n",
              "          google.colab.kernel.accessAllowed ? 'block' : 'none';\n",
              "\n",
              "        async function convertToInteractive(key) {\n",
              "          const element = document.querySelector('#df-f16dfc0d-c03e-4808-8585-9763668d4180');\n",
              "          const dataTable =\n",
              "            await google.colab.kernel.invokeFunction('convertToInteractive',\n",
              "                                                     [key], {});\n",
              "          if (!dataTable) return;\n",
              "\n",
              "          const docLinkHtml = 'Like what you see? Visit the ' +\n",
              "            '<a target=\"_blank\" href=https://colab.research.google.com/notebooks/data_table.ipynb>data table notebook</a>'\n",
              "            + ' to learn more about interactive tables.';\n",
              "          element.innerHTML = '';\n",
              "          dataTable['output_type'] = 'display_data';\n",
              "          await google.colab.output.renderOutput(dataTable, element);\n",
              "          const docLink = document.createElement('div');\n",
              "          docLink.innerHTML = docLinkHtml;\n",
              "          element.appendChild(docLink);\n",
              "        }\n",
              "      </script>\n",
              "    </div>\n",
              "  </div>\n",
              "  "
            ]
          },
          "metadata": {},
          "execution_count": 412
        }
      ]
    },
    {
      "cell_type": "markdown",
      "source": [
        "##  Rating column contains a total of 1474 of missing values"
      ],
      "metadata": {
        "id": "RVuV-2aK8TdE"
      }
    },
    {
      "cell_type": "code",
      "source": [
        " #checking counts of each rating\n",
        "df1['Rating'].value_counts()       "
      ],
      "metadata": {
        "colab": {
          "base_uri": "https://localhost:8080/"
        },
        "id": "M6yyroqQ8wM9",
        "outputId": "6a02d8b5-6372-4433-fb7a-d74ec32c505d"
      },
      "execution_count": 413,
      "outputs": [
        {
          "output_type": "execute_result",
          "data": {
            "text/plain": [
              "4.4    1109\n",
              "4.3    1076\n",
              "4.5    1038\n",
              "4.2     952\n",
              "4.6     823\n",
              "4.1     708\n",
              "4.0     568\n",
              "4.7     499\n",
              "3.9     386\n",
              "3.8     303\n",
              "5.0     274\n",
              "3.7     239\n",
              "4.8     234\n",
              "3.6     174\n",
              "3.5     163\n",
              "3.4     128\n",
              "3.3     102\n",
              "4.9      87\n",
              "3.0      83\n",
              "3.1      69\n",
              "3.2      64\n",
              "2.9      45\n",
              "2.8      42\n",
              "2.7      25\n",
              "2.6      25\n",
              "2.5      21\n",
              "2.3      20\n",
              "2.4      19\n",
              "1.0      16\n",
              "2.2      14\n",
              "1.9      13\n",
              "2.0      12\n",
              "1.7       8\n",
              "1.8       8\n",
              "2.1       8\n",
              "1.6       4\n",
              "1.4       3\n",
              "1.5       3\n",
              "1.2       1\n",
              "Name: Rating, dtype: int64"
            ]
          },
          "metadata": {},
          "execution_count": 413
        }
      ]
    },
    {
      "cell_type": "code",
      "source": [
        "#Replacing null values \n",
        "df1['Rating']=df1['Rating'].replace(np.nan,0)"
      ],
      "metadata": {
        "id": "gE5PSnfRL_PI"
      },
      "execution_count": 414,
      "outputs": []
    },
    {
      "cell_type": "code",
      "source": [
        "#Replacing NAN from current ver and android ver\n",
        "df1['Current Ver']=df1['Current Ver'].replace(np.nan,0)\n",
        "df1['Android Ver']=df1['Android Ver'].replace(np.nan,0)"
      ],
      "metadata": {
        "id": "3_Zq5Hn0PurW"
      },
      "execution_count": 415,
      "outputs": []
    },
    {
      "cell_type": "markdown",
      "source": [
        "Finally, after fixing all the missing values, we should have a look at our dataframe"
      ],
      "metadata": {
        "id": "h2flery6-f07"
      }
    },
    {
      "cell_type": "code",
      "source": [
        "#Checking again sum of null\n",
        "df1.isnull().sum()"
      ],
      "metadata": {
        "colab": {
          "base_uri": "https://localhost:8080/"
        },
        "id": "YXQGDAvg-jcY",
        "outputId": "f84c962c-2902-47cd-ab0a-7aebf00bae24"
      },
      "execution_count": 416,
      "outputs": [
        {
          "output_type": "execute_result",
          "data": {
            "text/plain": [
              "App               0\n",
              "Category          0\n",
              "Rating            0\n",
              "Reviews           0\n",
              "Size              0\n",
              "Installs          0\n",
              "Type              0\n",
              "Price             0\n",
              "Content Rating    0\n",
              "Genres            0\n",
              "Last Updated      0\n",
              "Current Ver       0\n",
              "Android Ver       0\n",
              "dtype: int64"
            ]
          },
          "metadata": {},
          "execution_count": 416
        }
      ]
    },
    {
      "cell_type": "markdown",
      "source": [
        "##All the columns have the null_count as zero, which indicates that now the data frame doesn’t contain any missing values."
      ],
      "metadata": {
        "id": "FhJKXOSS-zbF"
      }
    },
    {
      "cell_type": "markdown",
      "source": [
        "##Now we are done with the data cleansing part and in a state to start the work for data preparation"
      ],
      "metadata": {
        "id": "0dv7FN4i-6pA"
      }
    },
    {
      "cell_type": "code",
      "source": [
        "#Descriptive  summary\n",
        "df1.describe()"
      ],
      "metadata": {
        "colab": {
          "base_uri": "https://localhost:8080/",
          "height": 300
        },
        "id": "yMMHdce2HwfJ",
        "outputId": "6fbb91a0-076c-4318-a1f5-0b5b26313057"
      },
      "execution_count": 417,
      "outputs": [
        {
          "output_type": "execute_result",
          "data": {
            "text/plain": [
              "             Rating\n",
              "count  10839.000000\n",
              "mean       3.622105\n",
              "std        1.514233\n",
              "min        0.000000\n",
              "25%        3.700000\n",
              "50%        4.200000\n",
              "75%        4.500000\n",
              "max        5.000000"
            ],
            "text/html": [
              "\n",
              "  <div id=\"df-946da7eb-0ced-48e8-ae2c-d1217dd98919\">\n",
              "    <div class=\"colab-df-container\">\n",
              "      <div>\n",
              "<style scoped>\n",
              "    .dataframe tbody tr th:only-of-type {\n",
              "        vertical-align: middle;\n",
              "    }\n",
              "\n",
              "    .dataframe tbody tr th {\n",
              "        vertical-align: top;\n",
              "    }\n",
              "\n",
              "    .dataframe thead th {\n",
              "        text-align: right;\n",
              "    }\n",
              "</style>\n",
              "<table border=\"1\" class=\"dataframe\">\n",
              "  <thead>\n",
              "    <tr style=\"text-align: right;\">\n",
              "      <th></th>\n",
              "      <th>Rating</th>\n",
              "    </tr>\n",
              "  </thead>\n",
              "  <tbody>\n",
              "    <tr>\n",
              "      <th>count</th>\n",
              "      <td>10839.000000</td>\n",
              "    </tr>\n",
              "    <tr>\n",
              "      <th>mean</th>\n",
              "      <td>3.622105</td>\n",
              "    </tr>\n",
              "    <tr>\n",
              "      <th>std</th>\n",
              "      <td>1.514233</td>\n",
              "    </tr>\n",
              "    <tr>\n",
              "      <th>min</th>\n",
              "      <td>0.000000</td>\n",
              "    </tr>\n",
              "    <tr>\n",
              "      <th>25%</th>\n",
              "      <td>3.700000</td>\n",
              "    </tr>\n",
              "    <tr>\n",
              "      <th>50%</th>\n",
              "      <td>4.200000</td>\n",
              "    </tr>\n",
              "    <tr>\n",
              "      <th>75%</th>\n",
              "      <td>4.500000</td>\n",
              "    </tr>\n",
              "    <tr>\n",
              "      <th>max</th>\n",
              "      <td>5.000000</td>\n",
              "    </tr>\n",
              "  </tbody>\n",
              "</table>\n",
              "</div>\n",
              "      <button class=\"colab-df-convert\" onclick=\"convertToInteractive('df-946da7eb-0ced-48e8-ae2c-d1217dd98919')\"\n",
              "              title=\"Convert this dataframe to an interactive table.\"\n",
              "              style=\"display:none;\">\n",
              "        \n",
              "  <svg xmlns=\"http://www.w3.org/2000/svg\" height=\"24px\"viewBox=\"0 0 24 24\"\n",
              "       width=\"24px\">\n",
              "    <path d=\"M0 0h24v24H0V0z\" fill=\"none\"/>\n",
              "    <path d=\"M18.56 5.44l.94 2.06.94-2.06 2.06-.94-2.06-.94-.94-2.06-.94 2.06-2.06.94zm-11 1L8.5 8.5l.94-2.06 2.06-.94-2.06-.94L8.5 2.5l-.94 2.06-2.06.94zm10 10l.94 2.06.94-2.06 2.06-.94-2.06-.94-.94-2.06-.94 2.06-2.06.94z\"/><path d=\"M17.41 7.96l-1.37-1.37c-.4-.4-.92-.59-1.43-.59-.52 0-1.04.2-1.43.59L10.3 9.45l-7.72 7.72c-.78.78-.78 2.05 0 2.83L4 21.41c.39.39.9.59 1.41.59.51 0 1.02-.2 1.41-.59l7.78-7.78 2.81-2.81c.8-.78.8-2.07 0-2.86zM5.41 20L4 18.59l7.72-7.72 1.47 1.35L5.41 20z\"/>\n",
              "  </svg>\n",
              "      </button>\n",
              "      \n",
              "  <style>\n",
              "    .colab-df-container {\n",
              "      display:flex;\n",
              "      flex-wrap:wrap;\n",
              "      gap: 12px;\n",
              "    }\n",
              "\n",
              "    .colab-df-convert {\n",
              "      background-color: #E8F0FE;\n",
              "      border: none;\n",
              "      border-radius: 50%;\n",
              "      cursor: pointer;\n",
              "      display: none;\n",
              "      fill: #1967D2;\n",
              "      height: 32px;\n",
              "      padding: 0 0 0 0;\n",
              "      width: 32px;\n",
              "    }\n",
              "\n",
              "    .colab-df-convert:hover {\n",
              "      background-color: #E2EBFA;\n",
              "      box-shadow: 0px 1px 2px rgba(60, 64, 67, 0.3), 0px 1px 3px 1px rgba(60, 64, 67, 0.15);\n",
              "      fill: #174EA6;\n",
              "    }\n",
              "\n",
              "    [theme=dark] .colab-df-convert {\n",
              "      background-color: #3B4455;\n",
              "      fill: #D2E3FC;\n",
              "    }\n",
              "\n",
              "    [theme=dark] .colab-df-convert:hover {\n",
              "      background-color: #434B5C;\n",
              "      box-shadow: 0px 1px 3px 1px rgba(0, 0, 0, 0.15);\n",
              "      filter: drop-shadow(0px 1px 2px rgba(0, 0, 0, 0.3));\n",
              "      fill: #FFFFFF;\n",
              "    }\n",
              "  </style>\n",
              "\n",
              "      <script>\n",
              "        const buttonEl =\n",
              "          document.querySelector('#df-946da7eb-0ced-48e8-ae2c-d1217dd98919 button.colab-df-convert');\n",
              "        buttonEl.style.display =\n",
              "          google.colab.kernel.accessAllowed ? 'block' : 'none';\n",
              "\n",
              "        async function convertToInteractive(key) {\n",
              "          const element = document.querySelector('#df-946da7eb-0ced-48e8-ae2c-d1217dd98919');\n",
              "          const dataTable =\n",
              "            await google.colab.kernel.invokeFunction('convertToInteractive',\n",
              "                                                     [key], {});\n",
              "          if (!dataTable) return;\n",
              "\n",
              "          const docLinkHtml = 'Like what you see? Visit the ' +\n",
              "            '<a target=\"_blank\" href=https://colab.research.google.com/notebooks/data_table.ipynb>data table notebook</a>'\n",
              "            + ' to learn more about interactive tables.';\n",
              "          element.innerHTML = '';\n",
              "          dataTable['output_type'] = 'display_data';\n",
              "          await google.colab.output.renderOutput(dataTable, element);\n",
              "          const docLink = document.createElement('div');\n",
              "          docLink.innerHTML = docLinkHtml;\n",
              "          element.appendChild(docLink);\n",
              "        }\n",
              "      </script>\n",
              "    </div>\n",
              "  </div>\n",
              "  "
            ]
          },
          "metadata": {},
          "execution_count": 417
        }
      ]
    },
    {
      "cell_type": "markdown",
      "source": [
        "## Here in our Descripted summary we saw we only have ratings which is not right ,our (Review ,Installs,Price,size) columns should also be included here as well ,so \n",
        "\n",
        "*  First we will check what is the Dtype of columns\n",
        "*  Second we need it to change it to Float type or int type \n",
        "\n"
      ],
      "metadata": {
        "id": "5l6QYk6DH9Bu"
      }
    },
    {
      "cell_type": "code",
      "source": [
        "#lets see what information we have for our data using\n",
        "df1.info()"
      ],
      "metadata": {
        "colab": {
          "base_uri": "https://localhost:8080/"
        },
        "id": "dmDEqBdVuP51",
        "outputId": "5d6ce05b-d78b-4323-df35-01b6151ef893"
      },
      "execution_count": 418,
      "outputs": [
        {
          "output_type": "stream",
          "name": "stdout",
          "text": [
            "<class 'pandas.core.frame.DataFrame'>\n",
            "Int64Index: 10839 entries, 0 to 10840\n",
            "Data columns (total 13 columns):\n",
            " #   Column          Non-Null Count  Dtype  \n",
            "---  ------          --------------  -----  \n",
            " 0   App             10839 non-null  object \n",
            " 1   Category        10839 non-null  object \n",
            " 2   Rating          10839 non-null  float64\n",
            " 3   Reviews         10839 non-null  object \n",
            " 4   Size            10839 non-null  object \n",
            " 5   Installs        10839 non-null  object \n",
            " 6   Type            10839 non-null  object \n",
            " 7   Price           10839 non-null  object \n",
            " 8   Content Rating  10839 non-null  object \n",
            " 9   Genres          10839 non-null  object \n",
            " 10  Last Updated    10839 non-null  object \n",
            " 11  Current Ver     10839 non-null  object \n",
            " 12  Android Ver     10839 non-null  object \n",
            "dtypes: float64(1), object(12)\n",
            "memory usage: 1.2+ MB\n"
          ]
        }
      ]
    },
    {
      "cell_type": "markdown",
      "source": [
        "##<B> Changing Dtype of Reviews to Float Dtype\n",
        "\n",
        "\n"
      ],
      "metadata": {
        "id": "YCqZVmBqC1FP"
      }
    },
    {
      "cell_type": "code",
      "source": [
        "# changing to float\n",
        "df1['Reviews']=df1['Reviews'].astype(float)"
      ],
      "metadata": {
        "id": "xmuOyldLGpg-"
      },
      "execution_count": 419,
      "outputs": []
    },
    {
      "cell_type": "code",
      "source": [
        "df1['Reviews']"
      ],
      "metadata": {
        "colab": {
          "base_uri": "https://localhost:8080/"
        },
        "id": "lSKJGVNaWQrL",
        "outputId": "89471304-79eb-4e3b-ed17-20a3f0cfbbcc"
      },
      "execution_count": 420,
      "outputs": [
        {
          "output_type": "execute_result",
          "data": {
            "text/plain": [
              "0           159.0\n",
              "1           967.0\n",
              "2         87510.0\n",
              "3        215644.0\n",
              "4           967.0\n",
              "           ...   \n",
              "10836        38.0\n",
              "10837         4.0\n",
              "10838         3.0\n",
              "10839       114.0\n",
              "10840    398307.0\n",
              "Name: Reviews, Length: 10839, dtype: float64"
            ]
          },
          "metadata": {},
          "execution_count": 420
        }
      ]
    },
    {
      "cell_type": "markdown",
      "source": [
        "##<B>Changing Dtype of Size to Float Dtype"
      ],
      "metadata": {
        "id": "vQclRwSQfuZv"
      }
    },
    {
      "cell_type": "code",
      "source": [
        "#Finding unique values in column size\n",
        "df1['Size'].unique()"
      ],
      "metadata": {
        "colab": {
          "base_uri": "https://localhost:8080/"
        },
        "id": "KD3wmG8XB2zW",
        "outputId": "700057fc-ecae-4722-af75-965eee15f753"
      },
      "execution_count": 421,
      "outputs": [
        {
          "output_type": "execute_result",
          "data": {
            "text/plain": [
              "array(['19M', '14M', '8.7M', '25M', '2.8M', '5.6M', '29M', '33M', '3.1M',\n",
              "       '28M', '12M', '20M', '21M', '37M', '2.7M', '5.5M', '17M', '39M',\n",
              "       '31M', '4.2M', '7.0M', '23M', '6.0M', '6.1M', '4.6M', '9.2M',\n",
              "       '5.2M', '11M', '24M', 'Varies with device', '9.4M', '15M', '10M',\n",
              "       '1.2M', '26M', '8.0M', '7.9M', '56M', '57M', '35M', '54M', '201k',\n",
              "       '3.6M', '5.7M', '8.6M', '2.4M', '27M', '2.5M', '16M', '3.4M',\n",
              "       '8.9M', '3.9M', '2.9M', '38M', '32M', '5.4M', '18M', '1.1M',\n",
              "       '2.2M', '4.5M', '9.8M', '52M', '9.0M', '6.7M', '30M', '2.6M',\n",
              "       '7.1M', '3.7M', '22M', '7.4M', '6.4M', '3.2M', '8.2M', '9.9M',\n",
              "       '4.9M', '9.5M', '5.0M', '5.9M', '13M', '73M', '6.8M', '3.5M',\n",
              "       '4.0M', '2.3M', '7.2M', '2.1M', '42M', '7.3M', '9.1M', '55M',\n",
              "       '23k', '6.5M', '1.5M', '7.5M', '51M', '41M', '48M', '8.5M', '46M',\n",
              "       '8.3M', '4.3M', '4.7M', '3.3M', '40M', '7.8M', '8.8M', '6.6M',\n",
              "       '5.1M', '61M', '66M', '79k', '8.4M', '118k', '44M', '695k', '1.6M',\n",
              "       '6.2M', '18k', '53M', '1.4M', '3.0M', '5.8M', '3.8M', '9.6M',\n",
              "       '45M', '63M', '49M', '77M', '4.4M', '4.8M', '70M', '6.9M', '9.3M',\n",
              "       '10.0M', '8.1M', '36M', '84M', '97M', '2.0M', '1.9M', '1.8M',\n",
              "       '5.3M', '47M', '556k', '526k', '76M', '7.6M', '59M', '9.7M', '78M',\n",
              "       '72M', '43M', '7.7M', '6.3M', '334k', '34M', '93M', '65M', '79M',\n",
              "       '100M', '58M', '50M', '68M', '64M', '67M', '60M', '94M', '232k',\n",
              "       '99M', '624k', '95M', '8.5k', '41k', '292k', '11k', '80M', '1.7M',\n",
              "       '74M', '62M', '69M', '75M', '98M', '85M', '82M', '96M', '87M',\n",
              "       '71M', '86M', '91M', '81M', '92M', '83M', '88M', '704k', '862k',\n",
              "       '899k', '378k', '266k', '375k', '1.3M', '975k', '980k', '4.1M',\n",
              "       '89M', '696k', '544k', '525k', '920k', '779k', '853k', '720k',\n",
              "       '713k', '772k', '318k', '58k', '241k', '196k', '857k', '51k',\n",
              "       '953k', '865k', '251k', '930k', '540k', '313k', '746k', '203k',\n",
              "       '26k', '314k', '239k', '371k', '220k', '730k', '756k', '91k',\n",
              "       '293k', '17k', '74k', '14k', '317k', '78k', '924k', '902k', '818k',\n",
              "       '81k', '939k', '169k', '45k', '475k', '965k', '90M', '545k', '61k',\n",
              "       '283k', '655k', '714k', '93k', '872k', '121k', '322k', '1.0M',\n",
              "       '976k', '172k', '238k', '549k', '206k', '954k', '444k', '717k',\n",
              "       '210k', '609k', '308k', '705k', '306k', '904k', '473k', '175k',\n",
              "       '350k', '383k', '454k', '421k', '70k', '812k', '442k', '842k',\n",
              "       '417k', '412k', '459k', '478k', '335k', '782k', '721k', '430k',\n",
              "       '429k', '192k', '200k', '460k', '728k', '496k', '816k', '414k',\n",
              "       '506k', '887k', '613k', '243k', '569k', '778k', '683k', '592k',\n",
              "       '319k', '186k', '840k', '647k', '191k', '373k', '437k', '598k',\n",
              "       '716k', '585k', '982k', '222k', '219k', '55k', '948k', '323k',\n",
              "       '691k', '511k', '951k', '963k', '25k', '554k', '351k', '27k',\n",
              "       '82k', '208k', '913k', '514k', '551k', '29k', '103k', '898k',\n",
              "       '743k', '116k', '153k', '209k', '353k', '499k', '173k', '597k',\n",
              "       '809k', '122k', '411k', '400k', '801k', '787k', '237k', '50k',\n",
              "       '643k', '986k', '97k', '516k', '837k', '780k', '961k', '269k',\n",
              "       '20k', '498k', '600k', '749k', '642k', '881k', '72k', '656k',\n",
              "       '601k', '221k', '228k', '108k', '940k', '176k', '33k', '663k',\n",
              "       '34k', '942k', '259k', '164k', '458k', '245k', '629k', '28k',\n",
              "       '288k', '775k', '785k', '636k', '916k', '994k', '309k', '485k',\n",
              "       '914k', '903k', '608k', '500k', '54k', '562k', '847k', '957k',\n",
              "       '688k', '811k', '270k', '48k', '329k', '523k', '921k', '874k',\n",
              "       '981k', '784k', '280k', '24k', '518k', '754k', '892k', '154k',\n",
              "       '860k', '364k', '387k', '626k', '161k', '879k', '39k', '970k',\n",
              "       '170k', '141k', '160k', '144k', '143k', '190k', '376k', '193k',\n",
              "       '246k', '73k', '658k', '992k', '253k', '420k', '404k', '470k',\n",
              "       '226k', '240k', '89k', '234k', '257k', '861k', '467k', '157k',\n",
              "       '44k', '676k', '67k', '552k', '885k', '1020k', '582k', '619k'],\n",
              "      dtype=object)"
            ]
          },
          "metadata": {},
          "execution_count": 421
        }
      ]
    },
    {
      "cell_type": "markdown",
      "source": [
        "###We have to replace strings 'M' and 'K' with their integer values 'e+6' and 'e+3',then only we be able to change type of 'Size' column"
      ],
      "metadata": {
        "id": "xmxckU-fL8jX"
      }
    },
    {
      "cell_type": "code",
      "source": [
        "# Using lambda function\n",
        "df1['Size'] = df1.Size.apply(lambda x: x.replace('M','e+6').replace('k','e+3'))"
      ],
      "metadata": {
        "id": "BiqkBHCnlZUh"
      },
      "execution_count": 422,
      "outputs": []
    },
    {
      "cell_type": "code",
      "source": [
        "df1['Size']"
      ],
      "metadata": {
        "colab": {
          "base_uri": "https://localhost:8080/"
        },
        "id": "eOa7KnV8Xu_h",
        "outputId": "aa2daee4-16c7-45cf-c2f4-0d454912d098"
      },
      "execution_count": 423,
      "outputs": [
        {
          "output_type": "execute_result",
          "data": {
            "text/plain": [
              "0                     19e+6\n",
              "1                     14e+6\n",
              "2                    8.7e+6\n",
              "3                     25e+6\n",
              "4                    2.8e+6\n",
              "                ...        \n",
              "10836                 53e+6\n",
              "10837                3.6e+6\n",
              "10838                9.5e+6\n",
              "10839    Varies with device\n",
              "10840                 19e+6\n",
              "Name: Size, Length: 10839, dtype: object"
            ]
          },
          "metadata": {},
          "execution_count": 423
        }
      ]
    },
    {
      "cell_type": "code",
      "source": [
        "#Checking if the string present \n",
        "df1['Size']== 'Varies with device'"
      ],
      "metadata": {
        "colab": {
          "base_uri": "https://localhost:8080/"
        },
        "id": "VvqgNUFKcaN4",
        "outputId": "6763caa6-67eb-4080-ca22-4c5dc9f40c90"
      },
      "execution_count": 424,
      "outputs": [
        {
          "output_type": "execute_result",
          "data": {
            "text/plain": [
              "0        False\n",
              "1        False\n",
              "2        False\n",
              "3        False\n",
              "4        False\n",
              "         ...  \n",
              "10836    False\n",
              "10837    False\n",
              "10838    False\n",
              "10839     True\n",
              "10840    False\n",
              "Name: Size, Length: 10839, dtype: bool"
            ]
          },
          "metadata": {},
          "execution_count": 424
        }
      ]
    },
    {
      "cell_type": "code",
      "source": [
        "#Replacing the string\n",
        "df1['Size']=df1['Size'].replace('Varies with device',np.nan)"
      ],
      "metadata": {
        "id": "l2pUN63SdwM0"
      },
      "execution_count": 425,
      "outputs": []
    },
    {
      "cell_type": "code",
      "source": [
        "#Replacing the nan\n",
        "df1['Size']=df1['Size'].replace(np.nan,0)"
      ],
      "metadata": {
        "id": "4QS5GoeQjAyi"
      },
      "execution_count": 426,
      "outputs": []
    },
    {
      "cell_type": "code",
      "source": [
        "#Changing to Float type\n",
        "df1['Size']=df1['Size'].astype(float)"
      ],
      "metadata": {
        "id": "KeDePmeGeb4Z"
      },
      "execution_count": 427,
      "outputs": []
    },
    {
      "cell_type": "code",
      "source": [
        "#Checking again Unique values\n",
        "df1['Size'].unique()"
      ],
      "metadata": {
        "colab": {
          "base_uri": "https://localhost:8080/"
        },
        "id": "Mhmnb5XqjI8p",
        "outputId": "8722056d-3628-4528-ff79-2a690642148f"
      },
      "execution_count": 428,
      "outputs": [
        {
          "output_type": "execute_result",
          "data": {
            "text/plain": [
              "array([1.90e+07, 1.40e+07, 8.70e+06, 2.50e+07, 2.80e+06, 5.60e+06,\n",
              "       2.90e+07, 3.30e+07, 3.10e+06, 2.80e+07, 1.20e+07, 2.00e+07,\n",
              "       2.10e+07, 3.70e+07, 2.70e+06, 5.50e+06, 1.70e+07, 3.90e+07,\n",
              "       3.10e+07, 4.20e+06, 7.00e+06, 2.30e+07, 6.00e+06, 6.10e+06,\n",
              "       4.60e+06, 9.20e+06, 5.20e+06, 1.10e+07, 2.40e+07, 0.00e+00,\n",
              "       9.40e+06, 1.50e+07, 1.00e+07, 1.20e+06, 2.60e+07, 8.00e+06,\n",
              "       7.90e+06, 5.60e+07, 5.70e+07, 3.50e+07, 5.40e+07, 2.01e+05,\n",
              "       3.60e+06, 5.70e+06, 8.60e+06, 2.40e+06, 2.70e+07, 2.50e+06,\n",
              "       1.60e+07, 3.40e+06, 8.90e+06, 3.90e+06, 2.90e+06, 3.80e+07,\n",
              "       3.20e+07, 5.40e+06, 1.80e+07, 1.10e+06, 2.20e+06, 4.50e+06,\n",
              "       9.80e+06, 5.20e+07, 9.00e+06, 6.70e+06, 3.00e+07, 2.60e+06,\n",
              "       7.10e+06, 3.70e+06, 2.20e+07, 7.40e+06, 6.40e+06, 3.20e+06,\n",
              "       8.20e+06, 9.90e+06, 4.90e+06, 9.50e+06, 5.00e+06, 5.90e+06,\n",
              "       1.30e+07, 7.30e+07, 6.80e+06, 3.50e+06, 4.00e+06, 2.30e+06,\n",
              "       7.20e+06, 2.10e+06, 4.20e+07, 7.30e+06, 9.10e+06, 5.50e+07,\n",
              "       2.30e+04, 6.50e+06, 1.50e+06, 7.50e+06, 5.10e+07, 4.10e+07,\n",
              "       4.80e+07, 8.50e+06, 4.60e+07, 8.30e+06, 4.30e+06, 4.70e+06,\n",
              "       3.30e+06, 4.00e+07, 7.80e+06, 8.80e+06, 6.60e+06, 5.10e+06,\n",
              "       6.10e+07, 6.60e+07, 7.90e+04, 8.40e+06, 1.18e+05, 4.40e+07,\n",
              "       6.95e+05, 1.60e+06, 6.20e+06, 1.80e+04, 5.30e+07, 1.40e+06,\n",
              "       3.00e+06, 5.80e+06, 3.80e+06, 9.60e+06, 4.50e+07, 6.30e+07,\n",
              "       4.90e+07, 7.70e+07, 4.40e+06, 4.80e+06, 7.00e+07, 6.90e+06,\n",
              "       9.30e+06, 8.10e+06, 3.60e+07, 8.40e+07, 9.70e+07, 2.00e+06,\n",
              "       1.90e+06, 1.80e+06, 5.30e+06, 4.70e+07, 5.56e+05, 5.26e+05,\n",
              "       7.60e+07, 7.60e+06, 5.90e+07, 9.70e+06, 7.80e+07, 7.20e+07,\n",
              "       4.30e+07, 7.70e+06, 6.30e+06, 3.34e+05, 3.40e+07, 9.30e+07,\n",
              "       6.50e+07, 7.90e+07, 1.00e+08, 5.80e+07, 5.00e+07, 6.80e+07,\n",
              "       6.40e+07, 6.70e+07, 6.00e+07, 9.40e+07, 2.32e+05, 9.90e+07,\n",
              "       6.24e+05, 9.50e+07, 8.50e+03, 4.10e+04, 2.92e+05, 1.10e+04,\n",
              "       8.00e+07, 1.70e+06, 7.40e+07, 6.20e+07, 6.90e+07, 7.50e+07,\n",
              "       9.80e+07, 8.50e+07, 8.20e+07, 9.60e+07, 8.70e+07, 7.10e+07,\n",
              "       8.60e+07, 9.10e+07, 8.10e+07, 9.20e+07, 8.30e+07, 8.80e+07,\n",
              "       7.04e+05, 8.62e+05, 8.99e+05, 3.78e+05, 2.66e+05, 3.75e+05,\n",
              "       1.30e+06, 9.75e+05, 9.80e+05, 4.10e+06, 8.90e+07, 6.96e+05,\n",
              "       5.44e+05, 5.25e+05, 9.20e+05, 7.79e+05, 8.53e+05, 7.20e+05,\n",
              "       7.13e+05, 7.72e+05, 3.18e+05, 5.80e+04, 2.41e+05, 1.96e+05,\n",
              "       8.57e+05, 5.10e+04, 9.53e+05, 8.65e+05, 2.51e+05, 9.30e+05,\n",
              "       5.40e+05, 3.13e+05, 7.46e+05, 2.03e+05, 2.60e+04, 3.14e+05,\n",
              "       2.39e+05, 3.71e+05, 2.20e+05, 7.30e+05, 7.56e+05, 9.10e+04,\n",
              "       2.93e+05, 1.70e+04, 7.40e+04, 1.40e+04, 3.17e+05, 7.80e+04,\n",
              "       9.24e+05, 9.02e+05, 8.18e+05, 8.10e+04, 9.39e+05, 1.69e+05,\n",
              "       4.50e+04, 4.75e+05, 9.65e+05, 9.00e+07, 5.45e+05, 6.10e+04,\n",
              "       2.83e+05, 6.55e+05, 7.14e+05, 9.30e+04, 8.72e+05, 1.21e+05,\n",
              "       3.22e+05, 1.00e+06, 9.76e+05, 1.72e+05, 2.38e+05, 5.49e+05,\n",
              "       2.06e+05, 9.54e+05, 4.44e+05, 7.17e+05, 2.10e+05, 6.09e+05,\n",
              "       3.08e+05, 7.05e+05, 3.06e+05, 9.04e+05, 4.73e+05, 1.75e+05,\n",
              "       3.50e+05, 3.83e+05, 4.54e+05, 4.21e+05, 7.00e+04, 8.12e+05,\n",
              "       4.42e+05, 8.42e+05, 4.17e+05, 4.12e+05, 4.59e+05, 4.78e+05,\n",
              "       3.35e+05, 7.82e+05, 7.21e+05, 4.30e+05, 4.29e+05, 1.92e+05,\n",
              "       2.00e+05, 4.60e+05, 7.28e+05, 4.96e+05, 8.16e+05, 4.14e+05,\n",
              "       5.06e+05, 8.87e+05, 6.13e+05, 2.43e+05, 5.69e+05, 7.78e+05,\n",
              "       6.83e+05, 5.92e+05, 3.19e+05, 1.86e+05, 8.40e+05, 6.47e+05,\n",
              "       1.91e+05, 3.73e+05, 4.37e+05, 5.98e+05, 7.16e+05, 5.85e+05,\n",
              "       9.82e+05, 2.22e+05, 2.19e+05, 5.50e+04, 9.48e+05, 3.23e+05,\n",
              "       6.91e+05, 5.11e+05, 9.51e+05, 9.63e+05, 2.50e+04, 5.54e+05,\n",
              "       3.51e+05, 2.70e+04, 8.20e+04, 2.08e+05, 9.13e+05, 5.14e+05,\n",
              "       5.51e+05, 2.90e+04, 1.03e+05, 8.98e+05, 7.43e+05, 1.16e+05,\n",
              "       1.53e+05, 2.09e+05, 3.53e+05, 4.99e+05, 1.73e+05, 5.97e+05,\n",
              "       8.09e+05, 1.22e+05, 4.11e+05, 4.00e+05, 8.01e+05, 7.87e+05,\n",
              "       2.37e+05, 5.00e+04, 6.43e+05, 9.86e+05, 9.70e+04, 5.16e+05,\n",
              "       8.37e+05, 7.80e+05, 9.61e+05, 2.69e+05, 2.00e+04, 4.98e+05,\n",
              "       6.00e+05, 7.49e+05, 6.42e+05, 8.81e+05, 7.20e+04, 6.56e+05,\n",
              "       6.01e+05, 2.21e+05, 2.28e+05, 1.08e+05, 9.40e+05, 1.76e+05,\n",
              "       3.30e+04, 6.63e+05, 3.40e+04, 9.42e+05, 2.59e+05, 1.64e+05,\n",
              "       4.58e+05, 2.45e+05, 6.29e+05, 2.80e+04, 2.88e+05, 7.75e+05,\n",
              "       7.85e+05, 6.36e+05, 9.16e+05, 9.94e+05, 3.09e+05, 4.85e+05,\n",
              "       9.14e+05, 9.03e+05, 6.08e+05, 5.00e+05, 5.40e+04, 5.62e+05,\n",
              "       8.47e+05, 9.57e+05, 6.88e+05, 8.11e+05, 2.70e+05, 4.80e+04,\n",
              "       3.29e+05, 5.23e+05, 9.21e+05, 8.74e+05, 9.81e+05, 7.84e+05,\n",
              "       2.80e+05, 2.40e+04, 5.18e+05, 7.54e+05, 8.92e+05, 1.54e+05,\n",
              "       8.60e+05, 3.64e+05, 3.87e+05, 6.26e+05, 1.61e+05, 8.79e+05,\n",
              "       3.90e+04, 9.70e+05, 1.70e+05, 1.41e+05, 1.60e+05, 1.44e+05,\n",
              "       1.43e+05, 1.90e+05, 3.76e+05, 1.93e+05, 2.46e+05, 7.30e+04,\n",
              "       6.58e+05, 9.92e+05, 2.53e+05, 4.20e+05, 4.04e+05, 4.70e+05,\n",
              "       2.26e+05, 2.40e+05, 8.90e+04, 2.34e+05, 2.57e+05, 8.61e+05,\n",
              "       4.67e+05, 1.57e+05, 4.40e+04, 6.76e+05, 6.70e+04, 5.52e+05,\n",
              "       8.85e+05, 1.02e+06, 5.82e+05, 6.19e+05])"
            ]
          },
          "metadata": {},
          "execution_count": 428
        }
      ]
    },
    {
      "cell_type": "markdown",
      "source": [
        "Time to check info it its changed or not"
      ],
      "metadata": {
        "id": "QL-wrO7PFDoH"
      }
    },
    {
      "cell_type": "code",
      "source": [
        "df1.info()"
      ],
      "metadata": {
        "colab": {
          "base_uri": "https://localhost:8080/"
        },
        "id": "wzEOn68VFLuP",
        "outputId": "48292ffb-0288-4e1d-a20c-da09ed587a8d"
      },
      "execution_count": 429,
      "outputs": [
        {
          "output_type": "stream",
          "name": "stdout",
          "text": [
            "<class 'pandas.core.frame.DataFrame'>\n",
            "Int64Index: 10839 entries, 0 to 10840\n",
            "Data columns (total 13 columns):\n",
            " #   Column          Non-Null Count  Dtype  \n",
            "---  ------          --------------  -----  \n",
            " 0   App             10839 non-null  object \n",
            " 1   Category        10839 non-null  object \n",
            " 2   Rating          10839 non-null  float64\n",
            " 3   Reviews         10839 non-null  float64\n",
            " 4   Size            10839 non-null  float64\n",
            " 5   Installs        10839 non-null  object \n",
            " 6   Type            10839 non-null  object \n",
            " 7   Price           10839 non-null  object \n",
            " 8   Content Rating  10839 non-null  object \n",
            " 9   Genres          10839 non-null  object \n",
            " 10  Last Updated    10839 non-null  object \n",
            " 11  Current Ver     10839 non-null  object \n",
            " 12  Android Ver     10839 non-null  object \n",
            "dtypes: float64(3), object(10)\n",
            "memory usage: 1.2+ MB\n"
          ]
        }
      ]
    },
    {
      "cell_type": "markdown",
      "source": [
        "##<B> Changing Dtype of Install to int Type"
      ],
      "metadata": {
        "id": "H67Dkizkkiuq"
      }
    },
    {
      "cell_type": "code",
      "source": [
        "#Lets check what unique value installs columns holds\n",
        "df1['Installs'].unique()\n"
      ],
      "metadata": {
        "colab": {
          "base_uri": "https://localhost:8080/"
        },
        "id": "QnsQvdfZLLyF",
        "outputId": "2a02c685-a6f7-4c8c-c264-6ad5743ca65c"
      },
      "execution_count": 430,
      "outputs": [
        {
          "output_type": "execute_result",
          "data": {
            "text/plain": [
              "array(['10,000+', '500,000+', '5,000,000+', '50,000,000+', '100,000+',\n",
              "       '50,000+', '1,000,000+', '10,000,000+', '5,000+', '100,000,000+',\n",
              "       '1,000,000,000+', '1,000+', '500,000,000+', '50+', '100+', '500+',\n",
              "       '10+', '1+', '5+', '0+'], dtype=object)"
            ]
          },
          "metadata": {},
          "execution_count": 430
        }
      ]
    },
    {
      "cell_type": "markdown",
      "source": [
        "\n",
        "To convert this column from object to integer type. First of all, we will need to remove the + and ','symbol from these values."
      ],
      "metadata": {
        "id": "6sp9MtQ6F4dO"
      }
    },
    {
      "cell_type": "markdown",
      "source": [
        "##The Strip() method in Python removes or truncates the given characters from the beginning and the end of the original string. The default behavior of the strip() method is to remove the whitespace from the beginning and at the end of the string"
      ],
      "metadata": {
        "id": "P97m5XTrpH7N"
      }
    },
    {
      "cell_type": "markdown",
      "source": [
        "###LETS apply strip method to values inside our Installs columns"
      ],
      "metadata": {
        "id": "j8KFcQCspYGK"
      }
    },
    {
      "cell_type": "code",
      "source": [
        "#Applying Strip method\n",
        "df1['Installs'] = df1.Installs.apply(lambda x: x.strip('+'))"
      ],
      "metadata": {
        "id": "0tbTSrDRLjIq"
      },
      "execution_count": 431,
      "outputs": []
    },
    {
      "cell_type": "code",
      "source": [
        "df1['Installs'] = df1.Installs.apply(lambda x: x.replace(',', ''))"
      ],
      "metadata": {
        "id": "1rsZ-7pdmMIU"
      },
      "execution_count": 432,
      "outputs": []
    },
    {
      "cell_type": "code",
      "source": [
        "df1['Installs']"
      ],
      "metadata": {
        "colab": {
          "base_uri": "https://localhost:8080/"
        },
        "id": "NhnDtbo_rAr6",
        "outputId": "aa954b9b-b8c9-4843-d817-fb765f89a5be"
      },
      "execution_count": 433,
      "outputs": [
        {
          "output_type": "execute_result",
          "data": {
            "text/plain": [
              "0           10000\n",
              "1          500000\n",
              "2         5000000\n",
              "3        50000000\n",
              "4          100000\n",
              "           ...   \n",
              "10836        5000\n",
              "10837         100\n",
              "10838        1000\n",
              "10839        1000\n",
              "10840    10000000\n",
              "Name: Installs, Length: 10839, dtype: object"
            ]
          },
          "metadata": {},
          "execution_count": 433
        }
      ]
    },
    {
      "cell_type": "markdown",
      "source": [
        "Lastly, we can now convert it from string type to numeric type, and then have a look at our dataset."
      ],
      "metadata": {
        "id": "a2bF5RobMhFB"
      }
    },
    {
      "cell_type": "code",
      "source": [
        "#converting to Int type\n",
        "df1['Installs'] = df1['Installs'].astype(int)"
      ],
      "metadata": {
        "id": "5Wd2MjXbnWIE"
      },
      "execution_count": 434,
      "outputs": []
    },
    {
      "cell_type": "code",
      "source": [
        "#checking info again\n",
        "df1.info()"
      ],
      "metadata": {
        "colab": {
          "base_uri": "https://localhost:8080/"
        },
        "id": "0SB1voigMrnI",
        "outputId": "86a3ed66-cb3b-4647-8b9f-1aa799d7e2f7"
      },
      "execution_count": 435,
      "outputs": [
        {
          "output_type": "stream",
          "name": "stdout",
          "text": [
            "<class 'pandas.core.frame.DataFrame'>\n",
            "Int64Index: 10839 entries, 0 to 10840\n",
            "Data columns (total 13 columns):\n",
            " #   Column          Non-Null Count  Dtype  \n",
            "---  ------          --------------  -----  \n",
            " 0   App             10839 non-null  object \n",
            " 1   Category        10839 non-null  object \n",
            " 2   Rating          10839 non-null  float64\n",
            " 3   Reviews         10839 non-null  float64\n",
            " 4   Size            10839 non-null  float64\n",
            " 5   Installs        10839 non-null  int64  \n",
            " 6   Type            10839 non-null  object \n",
            " 7   Price           10839 non-null  object \n",
            " 8   Content Rating  10839 non-null  object \n",
            " 9   Genres          10839 non-null  object \n",
            " 10  Last Updated    10839 non-null  object \n",
            " 11  Current Ver     10839 non-null  object \n",
            " 12  Android Ver     10839 non-null  object \n",
            "dtypes: float64(3), int64(1), object(9)\n",
            "memory usage: 1.2+ MB\n"
          ]
        }
      ]
    },
    {
      "cell_type": "markdown",
      "source": [
        "#lets check our price column\n"
      ],
      "metadata": {
        "id": "PxMTbHj8NCXx"
      }
    },
    {
      "cell_type": "code",
      "source": [
        "#Checking Values\n",
        "df1['Price'].unique()"
      ],
      "metadata": {
        "colab": {
          "base_uri": "https://localhost:8080/"
        },
        "id": "rjbL3lSYNOwe",
        "outputId": "0b81757d-1505-4a96-a433-38ac85ba60cd"
      },
      "execution_count": 436,
      "outputs": [
        {
          "output_type": "execute_result",
          "data": {
            "text/plain": [
              "array(['0', '$4.99', '$3.99', '$6.99', '$1.49', '$2.99', '$7.99', '$5.99',\n",
              "       '$3.49', '$1.99', '$9.99', '$7.49', '$0.99', '$9.00', '$5.49',\n",
              "       '$10.00', '$24.99', '$11.99', '$79.99', '$16.99', '$14.99',\n",
              "       '$1.00', '$29.99', '$12.99', '$2.49', '$10.99', '$1.50', '$19.99',\n",
              "       '$15.99', '$33.99', '$74.99', '$39.99', '$3.95', '$4.49', '$1.70',\n",
              "       '$8.99', '$2.00', '$3.88', '$25.99', '$399.99', '$17.99',\n",
              "       '$400.00', '$3.02', '$1.76', '$4.84', '$4.77', '$1.61', '$2.50',\n",
              "       '$1.59', '$6.49', '$1.29', '$5.00', '$13.99', '$299.99', '$379.99',\n",
              "       '$37.99', '$18.99', '$389.99', '$19.90', '$8.49', '$1.75',\n",
              "       '$14.00', '$4.85', '$46.99', '$109.99', '$154.99', '$3.08',\n",
              "       '$2.59', '$4.80', '$1.96', '$19.40', '$3.90', '$4.59', '$15.46',\n",
              "       '$3.04', '$4.29', '$2.60', '$3.28', '$4.60', '$28.99', '$2.95',\n",
              "       '$2.90', '$1.97', '$200.00', '$89.99', '$2.56', '$30.99', '$3.61',\n",
              "       '$394.99', '$1.26', '$1.20', '$1.04'], dtype=object)"
            ]
          },
          "metadata": {},
          "execution_count": 436
        }
      ]
    },
    {
      "cell_type": "markdown",
      "source": [
        "###Here we see $ string present in all unique values of Price column ,we have to remove it to get desired result"
      ],
      "metadata": {
        "id": "PRSHJ6Dtbb4D"
      }
    },
    {
      "cell_type": "code",
      "source": [
        "# using Strip function\n",
        "df1['Price'] = df1.Price.apply(lambda x: x.strip('$'))"
      ],
      "metadata": {
        "id": "6JA3pO7JNzFi"
      },
      "execution_count": 437,
      "outputs": []
    },
    {
      "cell_type": "code",
      "source": [
        "#checking if its removed or not\n",
        "df1['Price'].unique()"
      ],
      "metadata": {
        "colab": {
          "base_uri": "https://localhost:8080/"
        },
        "id": "iLQPT2GVOCYH",
        "outputId": "2a445254-1728-42e2-ab91-557f268d1bad"
      },
      "execution_count": 438,
      "outputs": [
        {
          "output_type": "execute_result",
          "data": {
            "text/plain": [
              "array(['0', '4.99', '3.99', '6.99', '1.49', '2.99', '7.99', '5.99',\n",
              "       '3.49', '1.99', '9.99', '7.49', '0.99', '9.00', '5.49', '10.00',\n",
              "       '24.99', '11.99', '79.99', '16.99', '14.99', '1.00', '29.99',\n",
              "       '12.99', '2.49', '10.99', '1.50', '19.99', '15.99', '33.99',\n",
              "       '74.99', '39.99', '3.95', '4.49', '1.70', '8.99', '2.00', '3.88',\n",
              "       '25.99', '399.99', '17.99', '400.00', '3.02', '1.76', '4.84',\n",
              "       '4.77', '1.61', '2.50', '1.59', '6.49', '1.29', '5.00', '13.99',\n",
              "       '299.99', '379.99', '37.99', '18.99', '389.99', '19.90', '8.49',\n",
              "       '1.75', '14.00', '4.85', '46.99', '109.99', '154.99', '3.08',\n",
              "       '2.59', '4.80', '1.96', '19.40', '3.90', '4.59', '15.46', '3.04',\n",
              "       '4.29', '2.60', '3.28', '4.60', '28.99', '2.95', '2.90', '1.97',\n",
              "       '200.00', '89.99', '2.56', '30.99', '3.61', '394.99', '1.26',\n",
              "       '1.20', '1.04'], dtype=object)"
            ]
          },
          "metadata": {},
          "execution_count": 438
        }
      ]
    },
    {
      "cell_type": "code",
      "source": [
        "#Converting to Numeric type\n",
        "df1['Price'] = df1['Price'].astype(float)"
      ],
      "metadata": {
        "id": "WeyggIkGOSHh"
      },
      "execution_count": 439,
      "outputs": []
    },
    {
      "cell_type": "markdown",
      "source": [
        "##<B>All issues have been fixed, lets have a final look at the data frame."
      ],
      "metadata": {
        "id": "ooyecpHWOfMJ"
      }
    },
    {
      "cell_type": "code",
      "source": [
        "#Checking info\n",
        "df1.info()"
      ],
      "metadata": {
        "colab": {
          "base_uri": "https://localhost:8080/"
        },
        "id": "pzBKYiaIPeUF",
        "outputId": "4e069636-8356-4fb9-ba92-f186573fd04b"
      },
      "execution_count": 440,
      "outputs": [
        {
          "output_type": "stream",
          "name": "stdout",
          "text": [
            "<class 'pandas.core.frame.DataFrame'>\n",
            "Int64Index: 10839 entries, 0 to 10840\n",
            "Data columns (total 13 columns):\n",
            " #   Column          Non-Null Count  Dtype  \n",
            "---  ------          --------------  -----  \n",
            " 0   App             10839 non-null  object \n",
            " 1   Category        10839 non-null  object \n",
            " 2   Rating          10839 non-null  float64\n",
            " 3   Reviews         10839 non-null  float64\n",
            " 4   Size            10839 non-null  float64\n",
            " 5   Installs        10839 non-null  int64  \n",
            " 6   Type            10839 non-null  object \n",
            " 7   Price           10839 non-null  float64\n",
            " 8   Content Rating  10839 non-null  object \n",
            " 9   Genres          10839 non-null  object \n",
            " 10  Last Updated    10839 non-null  object \n",
            " 11  Current Ver     10839 non-null  object \n",
            " 12  Android Ver     10839 non-null  object \n",
            "dtypes: float64(4), int64(1), object(8)\n",
            "memory usage: 1.2+ MB\n"
          ]
        }
      ]
    },
    {
      "cell_type": "code",
      "source": [
        "# Checking top rows\n",
        "df1.head()"
      ],
      "metadata": {
        "colab": {
          "base_uri": "https://localhost:8080/",
          "height": 337
        },
        "id": "ufyy3Dd5Mr_F",
        "outputId": "0428eb61-d5f5-41c8-b188-e0248d553c7d"
      },
      "execution_count": 441,
      "outputs": [
        {
          "output_type": "execute_result",
          "data": {
            "text/plain": [
              "                                                 App        Category  Rating  \\\n",
              "0     Photo Editor & Candy Camera & Grid & ScrapBook  ART_AND_DESIGN     4.1   \n",
              "1                                Coloring book moana  ART_AND_DESIGN     3.9   \n",
              "2  U Launcher Lite – FREE Live Cool Themes, Hide ...  ART_AND_DESIGN     4.7   \n",
              "3                              Sketch - Draw & Paint  ART_AND_DESIGN     4.5   \n",
              "4              Pixel Draw - Number Art Coloring Book  ART_AND_DESIGN     4.3   \n",
              "\n",
              "    Reviews        Size  Installs  Type  Price Content Rating  \\\n",
              "0     159.0  19000000.0     10000  Free    0.0       Everyone   \n",
              "1     967.0  14000000.0    500000  Free    0.0       Everyone   \n",
              "2   87510.0   8700000.0   5000000  Free    0.0       Everyone   \n",
              "3  215644.0  25000000.0  50000000  Free    0.0           Teen   \n",
              "4     967.0   2800000.0    100000  Free    0.0       Everyone   \n",
              "\n",
              "                      Genres      Last Updated         Current Ver  \\\n",
              "0               Art & Design   January 7, 2018               1.0.0   \n",
              "1  Art & Design;Pretend Play  January 15, 2018               2.0.0   \n",
              "2               Art & Design    August 1, 2018               1.2.4   \n",
              "3               Art & Design      June 8, 2018  Varies with device   \n",
              "4    Art & Design;Creativity     June 20, 2018                 1.1   \n",
              "\n",
              "    Android Ver  \n",
              "0  4.0.3 and up  \n",
              "1  4.0.3 and up  \n",
              "2  4.0.3 and up  \n",
              "3    4.2 and up  \n",
              "4    4.4 and up  "
            ],
            "text/html": [
              "\n",
              "  <div id=\"df-9808a7b9-65cc-4ac0-8c3a-630f871a3146\">\n",
              "    <div class=\"colab-df-container\">\n",
              "      <div>\n",
              "<style scoped>\n",
              "    .dataframe tbody tr th:only-of-type {\n",
              "        vertical-align: middle;\n",
              "    }\n",
              "\n",
              "    .dataframe tbody tr th {\n",
              "        vertical-align: top;\n",
              "    }\n",
              "\n",
              "    .dataframe thead th {\n",
              "        text-align: right;\n",
              "    }\n",
              "</style>\n",
              "<table border=\"1\" class=\"dataframe\">\n",
              "  <thead>\n",
              "    <tr style=\"text-align: right;\">\n",
              "      <th></th>\n",
              "      <th>App</th>\n",
              "      <th>Category</th>\n",
              "      <th>Rating</th>\n",
              "      <th>Reviews</th>\n",
              "      <th>Size</th>\n",
              "      <th>Installs</th>\n",
              "      <th>Type</th>\n",
              "      <th>Price</th>\n",
              "      <th>Content Rating</th>\n",
              "      <th>Genres</th>\n",
              "      <th>Last Updated</th>\n",
              "      <th>Current Ver</th>\n",
              "      <th>Android Ver</th>\n",
              "    </tr>\n",
              "  </thead>\n",
              "  <tbody>\n",
              "    <tr>\n",
              "      <th>0</th>\n",
              "      <td>Photo Editor &amp; Candy Camera &amp; Grid &amp; ScrapBook</td>\n",
              "      <td>ART_AND_DESIGN</td>\n",
              "      <td>4.1</td>\n",
              "      <td>159.0</td>\n",
              "      <td>19000000.0</td>\n",
              "      <td>10000</td>\n",
              "      <td>Free</td>\n",
              "      <td>0.0</td>\n",
              "      <td>Everyone</td>\n",
              "      <td>Art &amp; Design</td>\n",
              "      <td>January 7, 2018</td>\n",
              "      <td>1.0.0</td>\n",
              "      <td>4.0.3 and up</td>\n",
              "    </tr>\n",
              "    <tr>\n",
              "      <th>1</th>\n",
              "      <td>Coloring book moana</td>\n",
              "      <td>ART_AND_DESIGN</td>\n",
              "      <td>3.9</td>\n",
              "      <td>967.0</td>\n",
              "      <td>14000000.0</td>\n",
              "      <td>500000</td>\n",
              "      <td>Free</td>\n",
              "      <td>0.0</td>\n",
              "      <td>Everyone</td>\n",
              "      <td>Art &amp; Design;Pretend Play</td>\n",
              "      <td>January 15, 2018</td>\n",
              "      <td>2.0.0</td>\n",
              "      <td>4.0.3 and up</td>\n",
              "    </tr>\n",
              "    <tr>\n",
              "      <th>2</th>\n",
              "      <td>U Launcher Lite – FREE Live Cool Themes, Hide ...</td>\n",
              "      <td>ART_AND_DESIGN</td>\n",
              "      <td>4.7</td>\n",
              "      <td>87510.0</td>\n",
              "      <td>8700000.0</td>\n",
              "      <td>5000000</td>\n",
              "      <td>Free</td>\n",
              "      <td>0.0</td>\n",
              "      <td>Everyone</td>\n",
              "      <td>Art &amp; Design</td>\n",
              "      <td>August 1, 2018</td>\n",
              "      <td>1.2.4</td>\n",
              "      <td>4.0.3 and up</td>\n",
              "    </tr>\n",
              "    <tr>\n",
              "      <th>3</th>\n",
              "      <td>Sketch - Draw &amp; Paint</td>\n",
              "      <td>ART_AND_DESIGN</td>\n",
              "      <td>4.5</td>\n",
              "      <td>215644.0</td>\n",
              "      <td>25000000.0</td>\n",
              "      <td>50000000</td>\n",
              "      <td>Free</td>\n",
              "      <td>0.0</td>\n",
              "      <td>Teen</td>\n",
              "      <td>Art &amp; Design</td>\n",
              "      <td>June 8, 2018</td>\n",
              "      <td>Varies with device</td>\n",
              "      <td>4.2 and up</td>\n",
              "    </tr>\n",
              "    <tr>\n",
              "      <th>4</th>\n",
              "      <td>Pixel Draw - Number Art Coloring Book</td>\n",
              "      <td>ART_AND_DESIGN</td>\n",
              "      <td>4.3</td>\n",
              "      <td>967.0</td>\n",
              "      <td>2800000.0</td>\n",
              "      <td>100000</td>\n",
              "      <td>Free</td>\n",
              "      <td>0.0</td>\n",
              "      <td>Everyone</td>\n",
              "      <td>Art &amp; Design;Creativity</td>\n",
              "      <td>June 20, 2018</td>\n",
              "      <td>1.1</td>\n",
              "      <td>4.4 and up</td>\n",
              "    </tr>\n",
              "  </tbody>\n",
              "</table>\n",
              "</div>\n",
              "      <button class=\"colab-df-convert\" onclick=\"convertToInteractive('df-9808a7b9-65cc-4ac0-8c3a-630f871a3146')\"\n",
              "              title=\"Convert this dataframe to an interactive table.\"\n",
              "              style=\"display:none;\">\n",
              "        \n",
              "  <svg xmlns=\"http://www.w3.org/2000/svg\" height=\"24px\"viewBox=\"0 0 24 24\"\n",
              "       width=\"24px\">\n",
              "    <path d=\"M0 0h24v24H0V0z\" fill=\"none\"/>\n",
              "    <path d=\"M18.56 5.44l.94 2.06.94-2.06 2.06-.94-2.06-.94-.94-2.06-.94 2.06-2.06.94zm-11 1L8.5 8.5l.94-2.06 2.06-.94-2.06-.94L8.5 2.5l-.94 2.06-2.06.94zm10 10l.94 2.06.94-2.06 2.06-.94-2.06-.94-.94-2.06-.94 2.06-2.06.94z\"/><path d=\"M17.41 7.96l-1.37-1.37c-.4-.4-.92-.59-1.43-.59-.52 0-1.04.2-1.43.59L10.3 9.45l-7.72 7.72c-.78.78-.78 2.05 0 2.83L4 21.41c.39.39.9.59 1.41.59.51 0 1.02-.2 1.41-.59l7.78-7.78 2.81-2.81c.8-.78.8-2.07 0-2.86zM5.41 20L4 18.59l7.72-7.72 1.47 1.35L5.41 20z\"/>\n",
              "  </svg>\n",
              "      </button>\n",
              "      \n",
              "  <style>\n",
              "    .colab-df-container {\n",
              "      display:flex;\n",
              "      flex-wrap:wrap;\n",
              "      gap: 12px;\n",
              "    }\n",
              "\n",
              "    .colab-df-convert {\n",
              "      background-color: #E8F0FE;\n",
              "      border: none;\n",
              "      border-radius: 50%;\n",
              "      cursor: pointer;\n",
              "      display: none;\n",
              "      fill: #1967D2;\n",
              "      height: 32px;\n",
              "      padding: 0 0 0 0;\n",
              "      width: 32px;\n",
              "    }\n",
              "\n",
              "    .colab-df-convert:hover {\n",
              "      background-color: #E2EBFA;\n",
              "      box-shadow: 0px 1px 2px rgba(60, 64, 67, 0.3), 0px 1px 3px 1px rgba(60, 64, 67, 0.15);\n",
              "      fill: #174EA6;\n",
              "    }\n",
              "\n",
              "    [theme=dark] .colab-df-convert {\n",
              "      background-color: #3B4455;\n",
              "      fill: #D2E3FC;\n",
              "    }\n",
              "\n",
              "    [theme=dark] .colab-df-convert:hover {\n",
              "      background-color: #434B5C;\n",
              "      box-shadow: 0px 1px 3px 1px rgba(0, 0, 0, 0.15);\n",
              "      filter: drop-shadow(0px 1px 2px rgba(0, 0, 0, 0.3));\n",
              "      fill: #FFFFFF;\n",
              "    }\n",
              "  </style>\n",
              "\n",
              "      <script>\n",
              "        const buttonEl =\n",
              "          document.querySelector('#df-9808a7b9-65cc-4ac0-8c3a-630f871a3146 button.colab-df-convert');\n",
              "        buttonEl.style.display =\n",
              "          google.colab.kernel.accessAllowed ? 'block' : 'none';\n",
              "\n",
              "        async function convertToInteractive(key) {\n",
              "          const element = document.querySelector('#df-9808a7b9-65cc-4ac0-8c3a-630f871a3146');\n",
              "          const dataTable =\n",
              "            await google.colab.kernel.invokeFunction('convertToInteractive',\n",
              "                                                     [key], {});\n",
              "          if (!dataTable) return;\n",
              "\n",
              "          const docLinkHtml = 'Like what you see? Visit the ' +\n",
              "            '<a target=\"_blank\" href=https://colab.research.google.com/notebooks/data_table.ipynb>data table notebook</a>'\n",
              "            + ' to learn more about interactive tables.';\n",
              "          element.innerHTML = '';\n",
              "          dataTable['output_type'] = 'display_data';\n",
              "          await google.colab.output.renderOutput(dataTable, element);\n",
              "          const docLink = document.createElement('div');\n",
              "          docLink.innerHTML = docLinkHtml;\n",
              "          element.appendChild(docLink);\n",
              "        }\n",
              "      </script>\n",
              "    </div>\n",
              "  </div>\n",
              "  "
            ]
          },
          "metadata": {},
          "execution_count": 441
        }
      ]
    },
    {
      "cell_type": "code",
      "source": [
        "#Descriptive summary\n",
        "df1.describe()"
      ],
      "metadata": {
        "colab": {
          "base_uri": "https://localhost:8080/",
          "height": 300
        },
        "id": "egmmoRZbX_5E",
        "outputId": "414b6768-c653-489c-c5c3-70e8d84a83f1"
      },
      "execution_count": 442,
      "outputs": [
        {
          "output_type": "execute_result",
          "data": {
            "text/plain": [
              "             Rating       Reviews          Size      Installs         Price\n",
              "count  10839.000000  1.083900e+04  1.083900e+04  1.083900e+04  10839.000000\n",
              "mean       3.622105  4.441939e+05  1.815377e+07  1.546577e+07      1.027463\n",
              "std        1.514233  2.927893e+06  2.217094e+07  8.503315e+07     15.950436\n",
              "min        0.000000  0.000000e+00  0.000000e+00  0.000000e+00      0.000000\n",
              "25%        3.700000  3.800000e+01  2.600000e+06  3.000000e+03      0.000000\n",
              "50%        4.200000  2.094000e+03  9.200000e+06  1.000000e+05      0.000000\n",
              "75%        4.500000  5.478300e+04  2.600000e+07  5.000000e+06      0.000000\n",
              "max        5.000000  7.815831e+07  1.000000e+08  1.000000e+09    400.000000"
            ],
            "text/html": [
              "\n",
              "  <div id=\"df-fe7a454f-e7d8-45dd-a2c0-21790ba53397\">\n",
              "    <div class=\"colab-df-container\">\n",
              "      <div>\n",
              "<style scoped>\n",
              "    .dataframe tbody tr th:only-of-type {\n",
              "        vertical-align: middle;\n",
              "    }\n",
              "\n",
              "    .dataframe tbody tr th {\n",
              "        vertical-align: top;\n",
              "    }\n",
              "\n",
              "    .dataframe thead th {\n",
              "        text-align: right;\n",
              "    }\n",
              "</style>\n",
              "<table border=\"1\" class=\"dataframe\">\n",
              "  <thead>\n",
              "    <tr style=\"text-align: right;\">\n",
              "      <th></th>\n",
              "      <th>Rating</th>\n",
              "      <th>Reviews</th>\n",
              "      <th>Size</th>\n",
              "      <th>Installs</th>\n",
              "      <th>Price</th>\n",
              "    </tr>\n",
              "  </thead>\n",
              "  <tbody>\n",
              "    <tr>\n",
              "      <th>count</th>\n",
              "      <td>10839.000000</td>\n",
              "      <td>1.083900e+04</td>\n",
              "      <td>1.083900e+04</td>\n",
              "      <td>1.083900e+04</td>\n",
              "      <td>10839.000000</td>\n",
              "    </tr>\n",
              "    <tr>\n",
              "      <th>mean</th>\n",
              "      <td>3.622105</td>\n",
              "      <td>4.441939e+05</td>\n",
              "      <td>1.815377e+07</td>\n",
              "      <td>1.546577e+07</td>\n",
              "      <td>1.027463</td>\n",
              "    </tr>\n",
              "    <tr>\n",
              "      <th>std</th>\n",
              "      <td>1.514233</td>\n",
              "      <td>2.927893e+06</td>\n",
              "      <td>2.217094e+07</td>\n",
              "      <td>8.503315e+07</td>\n",
              "      <td>15.950436</td>\n",
              "    </tr>\n",
              "    <tr>\n",
              "      <th>min</th>\n",
              "      <td>0.000000</td>\n",
              "      <td>0.000000e+00</td>\n",
              "      <td>0.000000e+00</td>\n",
              "      <td>0.000000e+00</td>\n",
              "      <td>0.000000</td>\n",
              "    </tr>\n",
              "    <tr>\n",
              "      <th>25%</th>\n",
              "      <td>3.700000</td>\n",
              "      <td>3.800000e+01</td>\n",
              "      <td>2.600000e+06</td>\n",
              "      <td>3.000000e+03</td>\n",
              "      <td>0.000000</td>\n",
              "    </tr>\n",
              "    <tr>\n",
              "      <th>50%</th>\n",
              "      <td>4.200000</td>\n",
              "      <td>2.094000e+03</td>\n",
              "      <td>9.200000e+06</td>\n",
              "      <td>1.000000e+05</td>\n",
              "      <td>0.000000</td>\n",
              "    </tr>\n",
              "    <tr>\n",
              "      <th>75%</th>\n",
              "      <td>4.500000</td>\n",
              "      <td>5.478300e+04</td>\n",
              "      <td>2.600000e+07</td>\n",
              "      <td>5.000000e+06</td>\n",
              "      <td>0.000000</td>\n",
              "    </tr>\n",
              "    <tr>\n",
              "      <th>max</th>\n",
              "      <td>5.000000</td>\n",
              "      <td>7.815831e+07</td>\n",
              "      <td>1.000000e+08</td>\n",
              "      <td>1.000000e+09</td>\n",
              "      <td>400.000000</td>\n",
              "    </tr>\n",
              "  </tbody>\n",
              "</table>\n",
              "</div>\n",
              "      <button class=\"colab-df-convert\" onclick=\"convertToInteractive('df-fe7a454f-e7d8-45dd-a2c0-21790ba53397')\"\n",
              "              title=\"Convert this dataframe to an interactive table.\"\n",
              "              style=\"display:none;\">\n",
              "        \n",
              "  <svg xmlns=\"http://www.w3.org/2000/svg\" height=\"24px\"viewBox=\"0 0 24 24\"\n",
              "       width=\"24px\">\n",
              "    <path d=\"M0 0h24v24H0V0z\" fill=\"none\"/>\n",
              "    <path d=\"M18.56 5.44l.94 2.06.94-2.06 2.06-.94-2.06-.94-.94-2.06-.94 2.06-2.06.94zm-11 1L8.5 8.5l.94-2.06 2.06-.94-2.06-.94L8.5 2.5l-.94 2.06-2.06.94zm10 10l.94 2.06.94-2.06 2.06-.94-2.06-.94-.94-2.06-.94 2.06-2.06.94z\"/><path d=\"M17.41 7.96l-1.37-1.37c-.4-.4-.92-.59-1.43-.59-.52 0-1.04.2-1.43.59L10.3 9.45l-7.72 7.72c-.78.78-.78 2.05 0 2.83L4 21.41c.39.39.9.59 1.41.59.51 0 1.02-.2 1.41-.59l7.78-7.78 2.81-2.81c.8-.78.8-2.07 0-2.86zM5.41 20L4 18.59l7.72-7.72 1.47 1.35L5.41 20z\"/>\n",
              "  </svg>\n",
              "      </button>\n",
              "      \n",
              "  <style>\n",
              "    .colab-df-container {\n",
              "      display:flex;\n",
              "      flex-wrap:wrap;\n",
              "      gap: 12px;\n",
              "    }\n",
              "\n",
              "    .colab-df-convert {\n",
              "      background-color: #E8F0FE;\n",
              "      border: none;\n",
              "      border-radius: 50%;\n",
              "      cursor: pointer;\n",
              "      display: none;\n",
              "      fill: #1967D2;\n",
              "      height: 32px;\n",
              "      padding: 0 0 0 0;\n",
              "      width: 32px;\n",
              "    }\n",
              "\n",
              "    .colab-df-convert:hover {\n",
              "      background-color: #E2EBFA;\n",
              "      box-shadow: 0px 1px 2px rgba(60, 64, 67, 0.3), 0px 1px 3px 1px rgba(60, 64, 67, 0.15);\n",
              "      fill: #174EA6;\n",
              "    }\n",
              "\n",
              "    [theme=dark] .colab-df-convert {\n",
              "      background-color: #3B4455;\n",
              "      fill: #D2E3FC;\n",
              "    }\n",
              "\n",
              "    [theme=dark] .colab-df-convert:hover {\n",
              "      background-color: #434B5C;\n",
              "      box-shadow: 0px 1px 3px 1px rgba(0, 0, 0, 0.15);\n",
              "      filter: drop-shadow(0px 1px 2px rgba(0, 0, 0, 0.3));\n",
              "      fill: #FFFFFF;\n",
              "    }\n",
              "  </style>\n",
              "\n",
              "      <script>\n",
              "        const buttonEl =\n",
              "          document.querySelector('#df-fe7a454f-e7d8-45dd-a2c0-21790ba53397 button.colab-df-convert');\n",
              "        buttonEl.style.display =\n",
              "          google.colab.kernel.accessAllowed ? 'block' : 'none';\n",
              "\n",
              "        async function convertToInteractive(key) {\n",
              "          const element = document.querySelector('#df-fe7a454f-e7d8-45dd-a2c0-21790ba53397');\n",
              "          const dataTable =\n",
              "            await google.colab.kernel.invokeFunction('convertToInteractive',\n",
              "                                                     [key], {});\n",
              "          if (!dataTable) return;\n",
              "\n",
              "          const docLinkHtml = 'Like what you see? Visit the ' +\n",
              "            '<a target=\"_blank\" href=https://colab.research.google.com/notebooks/data_table.ipynb>data table notebook</a>'\n",
              "            + ' to learn more about interactive tables.';\n",
              "          element.innerHTML = '';\n",
              "          dataTable['output_type'] = 'display_data';\n",
              "          await google.colab.output.renderOutput(dataTable, element);\n",
              "          const docLink = document.createElement('div');\n",
              "          docLink.innerHTML = docLinkHtml;\n",
              "          element.appendChild(docLink);\n",
              "        }\n",
              "      </script>\n",
              "    </div>\n",
              "  </div>\n",
              "  "
            ]
          },
          "metadata": {},
          "execution_count": 442
        }
      ]
    },
    {
      "cell_type": "markdown",
      "source": [
        "###finally we have all desired columns of type int and Float in our descriptive summary"
      ],
      "metadata": {
        "id": "Ir6eITeLtEMr"
      }
    },
    {
      "cell_type": "markdown",
      "source": [
        "##<b>Exploratory Analysis and Visualization\n"
      ],
      "metadata": {
        "id": "H_v2aSw6tfRg"
      }
    },
    {
      "cell_type": "markdown",
      "source": [
        "##<B> Top categories on Google Playstore"
      ],
      "metadata": {
        "id": "BJsaiSThUPFi"
      }
    },
    {
      "cell_type": "code",
      "source": [
        "df1['Category'].value_counts()"
      ],
      "metadata": {
        "colab": {
          "base_uri": "https://localhost:8080/"
        },
        "id": "gtBMkhvfvoDy",
        "outputId": "9a786f95-b911-4e78-b931-bdde71b22cfa"
      },
      "execution_count": 443,
      "outputs": [
        {
          "output_type": "execute_result",
          "data": {
            "text/plain": [
              "FAMILY                 1971\n",
              "GAME                   1144\n",
              "TOOLS                   843\n",
              "MEDICAL                 463\n",
              "BUSINESS                460\n",
              "PRODUCTIVITY            424\n",
              "PERSONALIZATION         392\n",
              "COMMUNICATION           387\n",
              "SPORTS                  384\n",
              "LIFESTYLE               382\n",
              "FINANCE                 366\n",
              "HEALTH_AND_FITNESS      341\n",
              "PHOTOGRAPHY             335\n",
              "SOCIAL                  295\n",
              "NEWS_AND_MAGAZINES      283\n",
              "SHOPPING                260\n",
              "TRAVEL_AND_LOCAL        258\n",
              "DATING                  234\n",
              "BOOKS_AND_REFERENCE     231\n",
              "VIDEO_PLAYERS           175\n",
              "EDUCATION               156\n",
              "ENTERTAINMENT           149\n",
              "MAPS_AND_NAVIGATION     137\n",
              "FOOD_AND_DRINK          127\n",
              "HOUSE_AND_HOME           88\n",
              "AUTO_AND_VEHICLES        85\n",
              "LIBRARIES_AND_DEMO       85\n",
              "WEATHER                  82\n",
              "ART_AND_DESIGN           65\n",
              "EVENTS                   64\n",
              "PARENTING                60\n",
              "COMICS                   60\n",
              "BEAUTY                   53\n",
              "Name: Category, dtype: int64"
            ]
          },
          "metadata": {},
          "execution_count": 443
        }
      ]
    },
    {
      "cell_type": "code",
      "source": [
        "#Plottting countplot\n",
        "plt.figure(figsize=(14,12))\n",
        "plt.xlabel(\"Count\",size= 15)\n",
        "plt.ylabel(\"Category\",size = 14)\n",
        "sns.countplot(y='Category' ,data = df1, palette= 'Set1')\n",
        "plt.title('Top apps on playstore',size=25)"
      ],
      "metadata": {
        "colab": {
          "base_uri": "https://localhost:8080/",
          "height": 762
        },
        "id": "UHoG2bW32brt",
        "outputId": "edabc009-9304-4623-9767-2ae7e5d4dd9d"
      },
      "execution_count": 444,
      "outputs": [
        {
          "output_type": "execute_result",
          "data": {
            "text/plain": [
              "Text(0.5, 1.0, 'Top apps on playstore')"
            ]
          },
          "metadata": {},
          "execution_count": 444
        },
        {
          "output_type": "display_data",
          "data": {
            "text/plain": [
              "<Figure size 1008x864 with 1 Axes>"
            ],
            "image/png": "[encoded data removed]"
          },
          "metadata": {
            "needs_background": "light"
          }
        }
      ]
    },
    {
      "cell_type": "markdown",
      "source": [
        "#From the above chart we can see that Family and Game categories have highest count which means most games on Playstore  belong to them,and we can also see Comics and Beauty have the least count."
      ],
      "metadata": {
        "id": "PGOFBowi7bOo"
      }
    },
    {
      "cell_type": "markdown",
      "source": [
        "##<B>Which category App’s have the most number of installs?\n",
        "To answer this question we need to create a separate dataframe out from our dataframe which will contain a grouped value by Category and Installs ."
      ],
      "metadata": {
        "id": "kiQ3z-6h_vJv"
      }
    },
    {
      "cell_type": "code",
      "source": [
        "#Creating new DataFrame using GroupBy and printing\n",
        "installs_df = df1.groupby('Category')[['Installs']].sum().sort_values(by='Installs', ascending=False)\n",
        "print(installs_df)"
      ],
      "metadata": {
        "colab": {
          "base_uri": "https://localhost:8080/"
        },
        "id": "dcDwIPcjACX0",
        "outputId": "4793c26e-c029-4ba9-ae77-8de24a855930"
      },
      "execution_count": 445,
      "outputs": [
        {
          "output_type": "stream",
          "name": "stdout",
          "text": [
            "                        Installs\n",
            "Category                        \n",
            "GAME                 35086024415\n",
            "COMMUNICATION        32647276251\n",
            "PRODUCTIVITY         14176091369\n",
            "SOCIAL               14069867902\n",
            "TOOLS                11452771915\n",
            "FAMILY               10258263505\n",
            "PHOTOGRAPHY          10088247655\n",
            "NEWS_AND_MAGAZINES    7496317760\n",
            "TRAVEL_AND_LOCAL      6868887146\n",
            "VIDEO_PLAYERS         6222002720\n",
            "SHOPPING              3247848785\n",
            "ENTERTAINMENT         2869160000\n",
            "PERSONALIZATION       2325494782\n",
            "BOOKS_AND_REFERENCE   1921469576\n",
            "SPORTS                1751174498\n",
            "HEALTH_AND_FITNESS    1583072512\n",
            "BUSINESS              1001914865\n",
            "FINANCE                876648734\n",
            "EDUCATION              871452000\n",
            "MAPS_AND_NAVIGATION    724281890\n",
            "LIFESTYLE              537643539\n",
            "WEATHER                426100520\n",
            "FOOD_AND_DRINK         273898751\n",
            "DATING                 264310807\n",
            "HOUSE_AND_HOME         168712461\n",
            "ART_AND_DESIGN         124338100\n",
            "LIBRARIES_AND_DEMO      62995910\n",
            "COMICS                  56086150\n",
            "MEDICAL                 53257437\n",
            "AUTO_AND_VEHICLES       53130211\n",
            "PARENTING               31521110\n",
            "BEAUTY                  27197050\n",
            "EVENTS                  15973161\n"
          ]
        }
      ]
    },
    {
      "cell_type": "code",
      "source": [
        "#Plotting a barplot\n",
        "plt.figure(figsize=(14,12))\n",
        "plt.xlabel(\"Installs\",size = 15)\n",
        "plt.ylabel(\"Category\",size = 14)\n",
        "sns.barplot(y=installs_df.index ,x= 'Installs' ,data = installs_df, color='Blue')\n",
        "plt.title('Top installs on playstore',size =25)"
      ],
      "metadata": {
        "colab": {
          "base_uri": "https://localhost:8080/",
          "height": 762
        },
        "id": "kB6PCLAnxeK7",
        "outputId": "1e36da40-b784-4dac-d388-482977f8debc"
      },
      "execution_count": 446,
      "outputs": [
        {
          "output_type": "execute_result",
          "data": {
            "text/plain": [
              "Text(0.5, 1.0, 'Top installs on playstore')"
            ]
          },
          "metadata": {},
          "execution_count": 446
        },
        {
          "output_type": "display_data",
          "data": {
            "text/plain": [
              "<Figure size 1008x864 with 1 Axes>"
            ],
            "image/png": "[encoded data removed]"
          },
          "metadata": {
            "needs_background": "light"
          }
        }
      ]
    },
    {
      "cell_type": "markdown",
      "source": [
        "##From the above Barplot we can see that GAME ,COMMUNICATION, PRODUCTIVITY SOCIAL, TOOLS Categories are popular ones among people"
      ],
      "metadata": {
        "id": "sKgMMOZZIz6N"
      }
    },
    {
      "cell_type": "markdown",
      "source": [
        "##<B>Now lets try to find out which App category got many reviews from public"
      ],
      "metadata": {
        "id": "Ht5T6qeXN-Ku"
      }
    },
    {
      "cell_type": "markdown",
      "source": [
        "first we create a new DataFrame with category and reviews \n",
        "\n"
      ],
      "metadata": {
        "id": "j0ezNJswOZf8"
      }
    },
    {
      "cell_type": "code",
      "source": [
        "#creating a dataframe\n",
        "relation_df = df1.groupby('Category')[['Reviews']].sum().sort_values(by='Reviews', ascending=False)\n",
        "relation_df"
      ],
      "metadata": {
        "colab": {
          "base_uri": "https://localhost:8080/",
          "height": 1000
        },
        "id": "KEFGIO0IPNfs",
        "outputId": "575ed378-9bba-4c27-b9ad-8494a20c388f"
      },
      "execution_count": 447,
      "outputs": [
        {
          "output_type": "execute_result",
          "data": {
            "text/plain": [
              "                          Reviews\n",
              "Category                         \n",
              "GAME                 1.585422e+09\n",
              "COMMUNICATION        8.154623e+08\n",
              "SOCIAL               6.212414e+08\n",
              "FAMILY               4.102263e+08\n",
              "TOOLS                2.731850e+08\n",
              "PHOTOGRAPHY          2.135166e+08\n",
              "SHOPPING             1.150412e+08\n",
              "PRODUCTIVITY         1.141170e+08\n",
              "VIDEO_PLAYERS        1.103802e+08\n",
              "PERSONALIZATION      8.934614e+07\n",
              "SPORTS               7.083017e+07\n",
              "TRAVEL_AND_LOCAL     6.261792e+07\n",
              "ENTERTAINMENT        5.917815e+07\n",
              "NEWS_AND_MAGAZINES   5.440086e+07\n",
              "EDUCATION            3.959579e+07\n",
              "HEALTH_AND_FITNESS   3.789374e+07\n",
              "MAPS_AND_NAVIGATION  3.065925e+07\n",
              "BOOKS_AND_REFERENCE  2.195907e+07\n",
              "FINANCE              1.755073e+07\n",
              "WEATHER              1.460474e+07\n",
              "BUSINESS             1.395455e+07\n",
              "LIFESTYLE            1.288278e+07\n",
              "FOOD_AND_DRINK       8.883330e+06\n",
              "DATING               7.291278e+06\n",
              "HOUSE_AND_HOME       3.976385e+06\n",
              "COMICS               3.383276e+06\n",
              "ART_AND_DESIGN       1.714440e+06\n",
              "MEDICAL              1.585975e+06\n",
              "AUTO_AND_VEHICLES    1.163666e+06\n",
              "LIBRARIES_AND_DEMO   1.037118e+06\n",
              "PARENTING            9.583310e+05\n",
              "BEAUTY               3.962400e+05\n",
              "EVENTS               1.610180e+05"
            ],
            "text/html": [
              "\n",
              "  <div id=\"df-7f57cf8d-ea99-41c9-af31-bf5d0ad5553e\">\n",
              "    <div class=\"colab-df-container\">\n",
              "      <div>\n",
              "<style scoped>\n",
              "    .dataframe tbody tr th:only-of-type {\n",
              "        vertical-align: middle;\n",
              "    }\n",
              "\n",
              "    .dataframe tbody tr th {\n",
              "        vertical-align: top;\n",
              "    }\n",
              "\n",
              "    .dataframe thead th {\n",
              "        text-align: right;\n",
              "    }\n",
              "</style>\n",
              "<table border=\"1\" class=\"dataframe\">\n",
              "  <thead>\n",
              "    <tr style=\"text-align: right;\">\n",
              "      <th></th>\n",
              "      <th>Reviews</th>\n",
              "    </tr>\n",
              "    <tr>\n",
              "      <th>Category</th>\n",
              "      <th></th>\n",
              "    </tr>\n",
              "  </thead>\n",
              "  <tbody>\n",
              "    <tr>\n",
              "      <th>GAME</th>\n",
              "      <td>1.585422e+09</td>\n",
              "    </tr>\n",
              "    <tr>\n",
              "      <th>COMMUNICATION</th>\n",
              "      <td>8.154623e+08</td>\n",
              "    </tr>\n",
              "    <tr>\n",
              "      <th>SOCIAL</th>\n",
              "      <td>6.212414e+08</td>\n",
              "    </tr>\n",
              "    <tr>\n",
              "      <th>FAMILY</th>\n",
              "      <td>4.102263e+08</td>\n",
              "    </tr>\n",
              "    <tr>\n",
              "      <th>TOOLS</th>\n",
              "      <td>2.731850e+08</td>\n",
              "    </tr>\n",
              "    <tr>\n",
              "      <th>PHOTOGRAPHY</th>\n",
              "      <td>2.135166e+08</td>\n",
              "    </tr>\n",
              "    <tr>\n",
              "      <th>SHOPPING</th>\n",
              "      <td>1.150412e+08</td>\n",
              "    </tr>\n",
              "    <tr>\n",
              "      <th>PRODUCTIVITY</th>\n",
              "      <td>1.141170e+08</td>\n",
              "    </tr>\n",
              "    <tr>\n",
              "      <th>VIDEO_PLAYERS</th>\n",
              "      <td>1.103802e+08</td>\n",
              "    </tr>\n",
              "    <tr>\n",
              "      <th>PERSONALIZATION</th>\n",
              "      <td>8.934614e+07</td>\n",
              "    </tr>\n",
              "    <tr>\n",
              "      <th>SPORTS</th>\n",
              "      <td>7.083017e+07</td>\n",
              "    </tr>\n",
              "    <tr>\n",
              "      <th>TRAVEL_AND_LOCAL</th>\n",
              "      <td>6.261792e+07</td>\n",
              "    </tr>\n",
              "    <tr>\n",
              "      <th>ENTERTAINMENT</th>\n",
              "      <td>5.917815e+07</td>\n",
              "    </tr>\n",
              "    <tr>\n",
              "      <th>NEWS_AND_MAGAZINES</th>\n",
              "      <td>5.440086e+07</td>\n",
              "    </tr>\n",
              "    <tr>\n",
              "      <th>EDUCATION</th>\n",
              "      <td>3.959579e+07</td>\n",
              "    </tr>\n",
              "    <tr>\n",
              "      <th>HEALTH_AND_FITNESS</th>\n",
              "      <td>3.789374e+07</td>\n",
              "    </tr>\n",
              "    <tr>\n",
              "      <th>MAPS_AND_NAVIGATION</th>\n",
              "      <td>3.065925e+07</td>\n",
              "    </tr>\n",
              "    <tr>\n",
              "      <th>BOOKS_AND_REFERENCE</th>\n",
              "      <td>2.195907e+07</td>\n",
              "    </tr>\n",
              "    <tr>\n",
              "      <th>FINANCE</th>\n",
              "      <td>1.755073e+07</td>\n",
              "    </tr>\n",
              "    <tr>\n",
              "      <th>WEATHER</th>\n",
              "      <td>1.460474e+07</td>\n",
              "    </tr>\n",
              "    <tr>\n",
              "      <th>BUSINESS</th>\n",
              "      <td>1.395455e+07</td>\n",
              "    </tr>\n",
              "    <tr>\n",
              "      <th>LIFESTYLE</th>\n",
              "      <td>1.288278e+07</td>\n",
              "    </tr>\n",
              "    <tr>\n",
              "      <th>FOOD_AND_DRINK</th>\n",
              "      <td>8.883330e+06</td>\n",
              "    </tr>\n",
              "    <tr>\n",
              "      <th>DATING</th>\n",
              "      <td>7.291278e+06</td>\n",
              "    </tr>\n",
              "    <tr>\n",
              "      <th>HOUSE_AND_HOME</th>\n",
              "      <td>3.976385e+06</td>\n",
              "    </tr>\n",
              "    <tr>\n",
              "      <th>COMICS</th>\n",
              "      <td>3.383276e+06</td>\n",
              "    </tr>\n",
              "    <tr>\n",
              "      <th>ART_AND_DESIGN</th>\n",
              "      <td>1.714440e+06</td>\n",
              "    </tr>\n",
              "    <tr>\n",
              "      <th>MEDICAL</th>\n",
              "      <td>1.585975e+06</td>\n",
              "    </tr>\n",
              "    <tr>\n",
              "      <th>AUTO_AND_VEHICLES</th>\n",
              "      <td>1.163666e+06</td>\n",
              "    </tr>\n",
              "    <tr>\n",
              "      <th>LIBRARIES_AND_DEMO</th>\n",
              "      <td>1.037118e+06</td>\n",
              "    </tr>\n",
              "    <tr>\n",
              "      <th>PARENTING</th>\n",
              "      <td>9.583310e+05</td>\n",
              "    </tr>\n",
              "    <tr>\n",
              "      <th>BEAUTY</th>\n",
              "      <td>3.962400e+05</td>\n",
              "    </tr>\n",
              "    <tr>\n",
              "      <th>EVENTS</th>\n",
              "      <td>1.610180e+05</td>\n",
              "    </tr>\n",
              "  </tbody>\n",
              "</table>\n",
              "</div>\n",
              "      <button class=\"colab-df-convert\" onclick=\"convertToInteractive('df-7f57cf8d-ea99-41c9-af31-bf5d0ad5553e')\"\n",
              "              title=\"Convert this dataframe to an interactive table.\"\n",
              "              style=\"display:none;\">\n",
              "        \n",
              "  <svg xmlns=\"http://www.w3.org/2000/svg\" height=\"24px\"viewBox=\"0 0 24 24\"\n",
              "       width=\"24px\">\n",
              "    <path d=\"M0 0h24v24H0V0z\" fill=\"none\"/>\n",
              "    <path d=\"M18.56 5.44l.94 2.06.94-2.06 2.06-.94-2.06-.94-.94-2.06-.94 2.06-2.06.94zm-11 1L8.5 8.5l.94-2.06 2.06-.94-2.06-.94L8.5 2.5l-.94 2.06-2.06.94zm10 10l.94 2.06.94-2.06 2.06-.94-2.06-.94-.94-2.06-.94 2.06-2.06.94z\"/><path d=\"M17.41 7.96l-1.37-1.37c-.4-.4-.92-.59-1.43-.59-.52 0-1.04.2-1.43.59L10.3 9.45l-7.72 7.72c-.78.78-.78 2.05 0 2.83L4 21.41c.39.39.9.59 1.41.59.51 0 1.02-.2 1.41-.59l7.78-7.78 2.81-2.81c.8-.78.8-2.07 0-2.86zM5.41 20L4 18.59l7.72-7.72 1.47 1.35L5.41 20z\"/>\n",
              "  </svg>\n",
              "      </button>\n",
              "      \n",
              "  <style>\n",
              "    .colab-df-container {\n",
              "      display:flex;\n",
              "      flex-wrap:wrap;\n",
              "      gap: 12px;\n",
              "    }\n",
              "\n",
              "    .colab-df-convert {\n",
              "      background-color: #E8F0FE;\n",
              "      border: none;\n",
              "      border-radius: 50%;\n",
              "      cursor: pointer;\n",
              "      display: none;\n",
              "      fill: #1967D2;\n",
              "      height: 32px;\n",
              "      padding: 0 0 0 0;\n",
              "      width: 32px;\n",
              "    }\n",
              "\n",
              "    .colab-df-convert:hover {\n",
              "      background-color: #E2EBFA;\n",
              "      box-shadow: 0px 1px 2px rgba(60, 64, 67, 0.3), 0px 1px 3px 1px rgba(60, 64, 67, 0.15);\n",
              "      fill: #174EA6;\n",
              "    }\n",
              "\n",
              "    [theme=dark] .colab-df-convert {\n",
              "      background-color: #3B4455;\n",
              "      fill: #D2E3FC;\n",
              "    }\n",
              "\n",
              "    [theme=dark] .colab-df-convert:hover {\n",
              "      background-color: #434B5C;\n",
              "      box-shadow: 0px 1px 3px 1px rgba(0, 0, 0, 0.15);\n",
              "      filter: drop-shadow(0px 1px 2px rgba(0, 0, 0, 0.3));\n",
              "      fill: #FFFFFF;\n",
              "    }\n",
              "  </style>\n",
              "\n",
              "      <script>\n",
              "        const buttonEl =\n",
              "          document.querySelector('#df-7f57cf8d-ea99-41c9-af31-bf5d0ad5553e button.colab-df-convert');\n",
              "        buttonEl.style.display =\n",
              "          google.colab.kernel.accessAllowed ? 'block' : 'none';\n",
              "\n",
              "        async function convertToInteractive(key) {\n",
              "          const element = document.querySelector('#df-7f57cf8d-ea99-41c9-af31-bf5d0ad5553e');\n",
              "          const dataTable =\n",
              "            await google.colab.kernel.invokeFunction('convertToInteractive',\n",
              "                                                     [key], {});\n",
              "          if (!dataTable) return;\n",
              "\n",
              "          const docLinkHtml = 'Like what you see? Visit the ' +\n",
              "            '<a target=\"_blank\" href=https://colab.research.google.com/notebooks/data_table.ipynb>data table notebook</a>'\n",
              "            + ' to learn more about interactive tables.';\n",
              "          element.innerHTML = '';\n",
              "          dataTable['output_type'] = 'display_data';\n",
              "          await google.colab.output.renderOutput(dataTable, element);\n",
              "          const docLink = document.createElement('div');\n",
              "          docLink.innerHTML = docLinkHtml;\n",
              "          element.appendChild(docLink);\n",
              "        }\n",
              "      </script>\n",
              "    </div>\n",
              "  </div>\n",
              "  "
            ]
          },
          "metadata": {},
          "execution_count": 447
        }
      ]
    },
    {
      "cell_type": "code",
      "source": [
        "plt.figure(figsize=(14,12))\n",
        "plt.xlabel(\"Reviews\",size = 14)\n",
        "plt.ylabel(\"Category\",size = 15)\n",
        "sns.barplot(y=relation_df.index ,x= 'Reviews' ,data = relation_df , palette= 'dark')\n",
        "plt.title('Top App Category in Reviews on playstore',size=25)"
      ],
      "metadata": {
        "colab": {
          "base_uri": "https://localhost:8080/",
          "height": 761
        },
        "id": "BN7JHrL5BrCA",
        "outputId": "ec1568a1-0176-45e1-9640-9fd1f0548d1c"
      },
      "execution_count": 448,
      "outputs": [
        {
          "output_type": "execute_result",
          "data": {
            "text/plain": [
              "Text(0.5, 1.0, 'Top App Category in Reviews on playstore')"
            ]
          },
          "metadata": {},
          "execution_count": 448
        },
        {
          "output_type": "display_data",
          "data": {
            "text/plain": [
              "<Figure size 1008x864 with 1 Axes>"
            ],
            "image/png": "[encoded data removed]"
          },
          "metadata": {
            "needs_background": "light"
          }
        }
      ]
    },
    {
      "cell_type": "markdown",
      "source": [
        "###Here we can also see that Games apps have lot of reviews comapred to every other apps ,people like to play games more than any other app and hence its proved from both our bar plots,Communication apps are second in the list followed by Social ,Family ,Tools , Photography and other..."
      ],
      "metadata": {
        "id": "4TACKiphDmdZ"
      }
    },
    {
      "cell_type": "markdown",
      "source": [
        "##<B> Types of Content Rating available on Playstore in Percent"
      ],
      "metadata": {
        "id": "8LiCZgiVFVoK"
      }
    },
    {
      "cell_type": "markdown",
      "source": [
        "##<B>Let’s plot a Pie Chart to view our data"
      ],
      "metadata": {
        "id": "VOoypTGaSJu-"
      }
    },
    {
      "cell_type": "code",
      "source": [
        "#Value counts in content rating column\n",
        "df1['Content Rating'].value_counts()"
      ],
      "metadata": {
        "colab": {
          "base_uri": "https://localhost:8080/"
        },
        "id": "HPM7ZxOIEtnr",
        "outputId": "732f595d-bd98-42f8-b783-7a78fcfd6ae0"
      },
      "execution_count": 449,
      "outputs": [
        {
          "output_type": "execute_result",
          "data": {
            "text/plain": [
              "Everyone           8714\n",
              "Teen               1208\n",
              "Mature 17+          499\n",
              "Everyone 10+        413\n",
              "Adults only 18+       3\n",
              "Unrated               2\n",
              "Name: Content Rating, dtype: int64"
            ]
          },
          "metadata": {},
          "execution_count": 449
        }
      ]
    },
    {
      "cell_type": "code",
      "source": [
        "plt.figure(figsize=(14,13))                                        #setting fig size\n",
        "plt.title('Content Rating',size = 20)                              # giving title name\n",
        "explode = [0.02,0.02,0.02,0.02,0.03,1.5]                             \n",
        "colors = sns.color_palette('bright')                               # Seaborn color palette to plot pie chart\n",
        "plt.pie(df1['Content Rating'].value_counts(), labels=df1['Content Rating'].value_counts().index, colors=colors,autopct='%.0f%%',explode = explode,shadow = True)     \n",
        "plt.show()"
      ],
      "metadata": {
        "colab": {
          "base_uri": "https://localhost:8080/",
          "height": 759
        },
        "id": "3oSshquxGOLa",
        "outputId": "9d809081-e5ec-4091-d48c-15d01f681ac6"
      },
      "execution_count": 450,
      "outputs": [
        {
          "output_type": "display_data",
          "data": {
            "text/plain": [
              "<Figure size 1008x936 with 1 Axes>"
            ],
            "image/png": "[encoded data removed]"
          },
          "metadata": {}
        }
      ]
    },
    {
      "cell_type": "markdown",
      "source": [
        "##From the above we can see Everyone category hold maximum percentage (81%) of this pie chart, 11% is for teens ,5% for  Mature 17+ ,4% belong to Everyone 10+ \n",
        "##and almost negligible 0% holds for Adult 18+ and Underrated"
      ],
      "metadata": {
        "id": "m3IbRp3tQzzx"
      }
    },
    {
      "cell_type": "markdown",
      "source": [
        "##<B>Let’s have a look at the distribution of the ratings in the Playstore"
      ],
      "metadata": {
        "id": "DN-pcE6mSoiV"
      }
    },
    {
      "cell_type": "code",
      "source": [
        "#Plotting A Graph\n",
        "plt.figure(figsize=(15,9))\n",
        "plt.xlabel('Rating',size = 30)\n",
        "graph = sns.boxplot(df1.Rating, color=\"yellow\")\n",
        "plt.title('Distribution of Rating',size = 40);"
      ],
      "metadata": {
        "colab": {
          "base_uri": "https://localhost:8080/",
          "height": 667
        },
        "id": "panu3wAZSwMZ",
        "outputId": "e12b8464-eec7-4800-a4e4-c5ad04609024"
      },
      "execution_count": 451,
      "outputs": [
        {
          "output_type": "stream",
          "name": "stderr",
          "text": [
            "/usr/local/lib/python3.7/dist-packages/seaborn/_decorators.py:43: FutureWarning: Pass the following variable as a keyword arg: x. From version 0.12, the only valid positional argument will be `data`, and passing other arguments without an explicit keyword will result in an error or misinterpretation.\n",
            "  FutureWarning\n"
          ]
        },
        {
          "output_type": "display_data",
          "data": {
            "text/plain": [
              "<Figure size 1080x648 with 1 Axes>"
            ],
            "image/png": "[encoded data removed]"
          },
          "metadata": {
            "needs_background": "light"
          }
        }
      ]
    },
    {
      "cell_type": "code",
      "source": [
        "df1.describe()"
      ],
      "metadata": {
        "colab": {
          "base_uri": "https://localhost:8080/",
          "height": 300
        },
        "id": "XOTEbuaLHHAW",
        "outputId": "f4533e7d-0309-4150-f7cd-8a2581a4e400"
      },
      "execution_count": 452,
      "outputs": [
        {
          "output_type": "execute_result",
          "data": {
            "text/plain": [
              "             Rating       Reviews          Size      Installs         Price\n",
              "count  10839.000000  1.083900e+04  1.083900e+04  1.083900e+04  10839.000000\n",
              "mean       3.622105  4.441939e+05  1.815377e+07  1.546577e+07      1.027463\n",
              "std        1.514233  2.927893e+06  2.217094e+07  8.503315e+07     15.950436\n",
              "min        0.000000  0.000000e+00  0.000000e+00  0.000000e+00      0.000000\n",
              "25%        3.700000  3.800000e+01  2.600000e+06  3.000000e+03      0.000000\n",
              "50%        4.200000  2.094000e+03  9.200000e+06  1.000000e+05      0.000000\n",
              "75%        4.500000  5.478300e+04  2.600000e+07  5.000000e+06      0.000000\n",
              "max        5.000000  7.815831e+07  1.000000e+08  1.000000e+09    400.000000"
            ],
            "text/html": [
              "\n",
              "  <div id=\"df-282cb055-a95c-4a92-bd0d-c005b3c001aa\">\n",
              "    <div class=\"colab-df-container\">\n",
              "      <div>\n",
              "<style scoped>\n",
              "    .dataframe tbody tr th:only-of-type {\n",
              "        vertical-align: middle;\n",
              "    }\n",
              "\n",
              "    .dataframe tbody tr th {\n",
              "        vertical-align: top;\n",
              "    }\n",
              "\n",
              "    .dataframe thead th {\n",
              "        text-align: right;\n",
              "    }\n",
              "</style>\n",
              "<table border=\"1\" class=\"dataframe\">\n",
              "  <thead>\n",
              "    <tr style=\"text-align: right;\">\n",
              "      <th></th>\n",
              "      <th>Rating</th>\n",
              "      <th>Reviews</th>\n",
              "      <th>Size</th>\n",
              "      <th>Installs</th>\n",
              "      <th>Price</th>\n",
              "    </tr>\n",
              "  </thead>\n",
              "  <tbody>\n",
              "    <tr>\n",
              "      <th>count</th>\n",
              "      <td>10839.000000</td>\n",
              "      <td>1.083900e+04</td>\n",
              "      <td>1.083900e+04</td>\n",
              "      <td>1.083900e+04</td>\n",
              "      <td>10839.000000</td>\n",
              "    </tr>\n",
              "    <tr>\n",
              "      <th>mean</th>\n",
              "      <td>3.622105</td>\n",
              "      <td>4.441939e+05</td>\n",
              "      <td>1.815377e+07</td>\n",
              "      <td>1.546577e+07</td>\n",
              "      <td>1.027463</td>\n",
              "    </tr>\n",
              "    <tr>\n",
              "      <th>std</th>\n",
              "      <td>1.514233</td>\n",
              "      <td>2.927893e+06</td>\n",
              "      <td>2.217094e+07</td>\n",
              "      <td>8.503315e+07</td>\n",
              "      <td>15.950436</td>\n",
              "    </tr>\n",
              "    <tr>\n",
              "      <th>min</th>\n",
              "      <td>0.000000</td>\n",
              "      <td>0.000000e+00</td>\n",
              "      <td>0.000000e+00</td>\n",
              "      <td>0.000000e+00</td>\n",
              "      <td>0.000000</td>\n",
              "    </tr>\n",
              "    <tr>\n",
              "      <th>25%</th>\n",
              "      <td>3.700000</td>\n",
              "      <td>3.800000e+01</td>\n",
              "      <td>2.600000e+06</td>\n",
              "      <td>3.000000e+03</td>\n",
              "      <td>0.000000</td>\n",
              "    </tr>\n",
              "    <tr>\n",
              "      <th>50%</th>\n",
              "      <td>4.200000</td>\n",
              "      <td>2.094000e+03</td>\n",
              "      <td>9.200000e+06</td>\n",
              "      <td>1.000000e+05</td>\n",
              "      <td>0.000000</td>\n",
              "    </tr>\n",
              "    <tr>\n",
              "      <th>75%</th>\n",
              "      <td>4.500000</td>\n",
              "      <td>5.478300e+04</td>\n",
              "      <td>2.600000e+07</td>\n",
              "      <td>5.000000e+06</td>\n",
              "      <td>0.000000</td>\n",
              "    </tr>\n",
              "    <tr>\n",
              "      <th>max</th>\n",
              "      <td>5.000000</td>\n",
              "      <td>7.815831e+07</td>\n",
              "      <td>1.000000e+08</td>\n",
              "      <td>1.000000e+09</td>\n",
              "      <td>400.000000</td>\n",
              "    </tr>\n",
              "  </tbody>\n",
              "</table>\n",
              "</div>\n",
              "      <button class=\"colab-df-convert\" onclick=\"convertToInteractive('df-282cb055-a95c-4a92-bd0d-c005b3c001aa')\"\n",
              "              title=\"Convert this dataframe to an interactive table.\"\n",
              "              style=\"display:none;\">\n",
              "        \n",
              "  <svg xmlns=\"http://www.w3.org/2000/svg\" height=\"24px\"viewBox=\"0 0 24 24\"\n",
              "       width=\"24px\">\n",
              "    <path d=\"M0 0h24v24H0V0z\" fill=\"none\"/>\n",
              "    <path d=\"M18.56 5.44l.94 2.06.94-2.06 2.06-.94-2.06-.94-.94-2.06-.94 2.06-2.06.94zm-11 1L8.5 8.5l.94-2.06 2.06-.94-2.06-.94L8.5 2.5l-.94 2.06-2.06.94zm10 10l.94 2.06.94-2.06 2.06-.94-2.06-.94-.94-2.06-.94 2.06-2.06.94z\"/><path d=\"M17.41 7.96l-1.37-1.37c-.4-.4-.92-.59-1.43-.59-.52 0-1.04.2-1.43.59L10.3 9.45l-7.72 7.72c-.78.78-.78 2.05 0 2.83L4 21.41c.39.39.9.59 1.41.59.51 0 1.02-.2 1.41-.59l7.78-7.78 2.81-2.81c.8-.78.8-2.07 0-2.86zM5.41 20L4 18.59l7.72-7.72 1.47 1.35L5.41 20z\"/>\n",
              "  </svg>\n",
              "      </button>\n",
              "      \n",
              "  <style>\n",
              "    .colab-df-container {\n",
              "      display:flex;\n",
              "      flex-wrap:wrap;\n",
              "      gap: 12px;\n",
              "    }\n",
              "\n",
              "    .colab-df-convert {\n",
              "      background-color: #E8F0FE;\n",
              "      border: none;\n",
              "      border-radius: 50%;\n",
              "      cursor: pointer;\n",
              "      display: none;\n",
              "      fill: #1967D2;\n",
              "      height: 32px;\n",
              "      padding: 0 0 0 0;\n",
              "      width: 32px;\n",
              "    }\n",
              "\n",
              "    .colab-df-convert:hover {\n",
              "      background-color: #E2EBFA;\n",
              "      box-shadow: 0px 1px 2px rgba(60, 64, 67, 0.3), 0px 1px 3px 1px rgba(60, 64, 67, 0.15);\n",
              "      fill: #174EA6;\n",
              "    }\n",
              "\n",
              "    [theme=dark] .colab-df-convert {\n",
              "      background-color: #3B4455;\n",
              "      fill: #D2E3FC;\n",
              "    }\n",
              "\n",
              "    [theme=dark] .colab-df-convert:hover {\n",
              "      background-color: #434B5C;\n",
              "      box-shadow: 0px 1px 3px 1px rgba(0, 0, 0, 0.15);\n",
              "      filter: drop-shadow(0px 1px 2px rgba(0, 0, 0, 0.3));\n",
              "      fill: #FFFFFF;\n",
              "    }\n",
              "  </style>\n",
              "\n",
              "      <script>\n",
              "        const buttonEl =\n",
              "          document.querySelector('#df-282cb055-a95c-4a92-bd0d-c005b3c001aa button.colab-df-convert');\n",
              "        buttonEl.style.display =\n",
              "          google.colab.kernel.accessAllowed ? 'block' : 'none';\n",
              "\n",
              "        async function convertToInteractive(key) {\n",
              "          const element = document.querySelector('#df-282cb055-a95c-4a92-bd0d-c005b3c001aa');\n",
              "          const dataTable =\n",
              "            await google.colab.kernel.invokeFunction('convertToInteractive',\n",
              "                                                     [key], {});\n",
              "          if (!dataTable) return;\n",
              "\n",
              "          const docLinkHtml = 'Like what you see? Visit the ' +\n",
              "            '<a target=\"_blank\" href=https://colab.research.google.com/notebooks/data_table.ipynb>data table notebook</a>'\n",
              "            + ' to learn more about interactive tables.';\n",
              "          element.innerHTML = '';\n",
              "          dataTable['output_type'] = 'display_data';\n",
              "          await google.colab.output.renderOutput(dataTable, element);\n",
              "          const docLink = document.createElement('div');\n",
              "          docLink.innerHTML = docLinkHtml;\n",
              "          element.appendChild(docLink);\n",
              "        }\n",
              "      </script>\n",
              "    </div>\n",
              "  </div>\n",
              "  "
            ]
          },
          "metadata": {},
          "execution_count": 452
        }
      ]
    },
    {
      "cell_type": "markdown",
      "source": [
        "#We see in this Box plot that max number of ratings lie between 3.7-4.5 which can be easily compared with our descriptive summary of our dataframe, its exact match"
      ],
      "metadata": {
        "id": "OBBQesG4Tvlr"
      }
    },
    {
      "cell_type": "markdown",
      "source": [
        "##<B>Top Apps categories in free vs paid apps"
      ],
      "metadata": {
        "id": "DdRc7xrO8w2j"
      }
    },
    {
      "cell_type": "code",
      "source": [
        "#plotting a count graph\n",
        "plt.figure(figsize= (15,15))\n",
        "plt.legend(df1.Category, loc=\"Top right\", title=\"Category\",fontsize = \"xx-small\");\n",
        "sns.countplot(x='Type',hue = 'Category' ,data = df1, palette= 'Set1')\n"
      ],
      "metadata": {
        "colab": {
          "base_uri": "https://localhost:8080/",
          "height": 1000
        },
        "id": "pGKfIgXe5M5S",
        "outputId": "605caa49-b359-47a9-aaee-99d4be25f8a6"
      },
      "execution_count": 453,
      "outputs": [
        {
          "output_type": "stream",
          "name": "stderr",
          "text": [
            "/usr/local/lib/python3.7/dist-packages/ipykernel_launcher.py:3: MatplotlibDeprecationWarning: Unrecognized location 'Top right'. Falling back on 'best'; valid locations are\n",
            "\tbest\n",
            "\tupper right\n",
            "\tupper left\n",
            "\tlower left\n",
            "\tlower right\n",
            "\tright\n",
            "\tcenter left\n",
            "\tcenter right\n",
            "\tlower center\n",
            "\tupper center\n",
            "\tcenter\n",
            "This will raise an exception in 3.3.\n",
            "  This is separate from the ipykernel package so we can avoid doing imports until\n"
          ]
        },
        {
          "output_type": "execute_result",
          "data": {
            "text/plain": [
              "<matplotlib.axes._subplots.AxesSubplot at 0x7f2d973435d0>"
            ]
          },
          "metadata": {},
          "execution_count": 453
        },
        {
          "output_type": "display_data",
          "data": {
            "text/plain": [
              "<Figure size 1080x1080 with 1 Axes>"
            ],
            "image/png": "[encoded data removed]"
          },
          "metadata": {
            "needs_background": "light"
          }
        }
      ]
    },
    {
      "cell_type": "markdown",
      "source": [
        "## From the chart above we can clearly see that in both free and paid version of app Family category has high number of counts,Game category is at 2nd position and Tools category at 3rd position in free versions whereas in paid version Medical category is at 2nd position and Game category at 3rd"
      ],
      "metadata": {
        "id": "qLUcrytD9k3z"
      }
    },
    {
      "cell_type": "markdown",
      "source": [
        "#<B>Lets try to find out installs of apps in both free and paid versions"
      ],
      "metadata": {
        "id": "LGYBSNi1V3ci"
      }
    },
    {
      "cell_type": "code",
      "source": [
        "plt.figure(figsize= (15,15))\n",
        "sns.countplot(x='Type',hue = 'Installs' ,data = df1, palette= 'Set2')\n",
        "plt.title(' Installs of apps in both free and paid versions',size= 15)"
      ],
      "metadata": {
        "colab": {
          "base_uri": "https://localhost:8080/",
          "height": 913
        },
        "id": "2TDqDfJrWL9c",
        "outputId": "c539f72d-cdec-4370-8ad9-70f1c40e4b1d"
      },
      "execution_count": 454,
      "outputs": [
        {
          "output_type": "execute_result",
          "data": {
            "text/plain": [
              "Text(0.5, 1.0, ' Installs of apps in both free and paid versions')"
            ]
          },
          "metadata": {},
          "execution_count": 454
        },
        {
          "output_type": "display_data",
          "data": {
            "text/plain": [
              "<Figure size 1080x1080 with 1 Axes>"
            ],
            "image/png": "[encoded data removed]"
          },
          "metadata": {
            "needs_background": "light"
          }
        }
      ]
    },
    {
      "cell_type": "markdown",
      "source": [
        "#From the above graph it pretty clear that people like to install apps which are free of cost, paid apps are only for those who like to spend money in games,also lots of choices are available with free apps ,thats one reason we can add to this case"
      ],
      "metadata": {
        "id": "FP1pXv7mYIXx"
      }
    },
    {
      "cell_type": "markdown",
      "source": [
        "#<B>The Apps with highest number of reviews"
      ],
      "metadata": {
        "id": "dsvOmUg_UHyV"
      }
    },
    {
      "cell_type": "code",
      "source": [
        "#Sorting Dataframe on basis of reviews\n",
        "rev_app = df1.sort_values(by='Reviews', ascending=False).head(20)\n",
        "rev_app.head(20)"
      ],
      "metadata": {
        "colab": {
          "base_uri": "https://localhost:8080/",
          "height": 963
        },
        "id": "5mcgDC-aUUi8",
        "outputId": "fd5c6785-059e-411a-ec2d-e23a51f4cd0a"
      },
      "execution_count": 455,
      "outputs": [
        {
          "output_type": "execute_result",
          "data": {
            "text/plain": [
              "                                           App       Category  Rating  \\\n",
              "2544                                  Facebook         SOCIAL     4.1   \n",
              "3943                                  Facebook         SOCIAL     4.1   \n",
              "381                         WhatsApp Messenger  COMMUNICATION     4.4   \n",
              "336                         WhatsApp Messenger  COMMUNICATION     4.4   \n",
              "3904                        WhatsApp Messenger  COMMUNICATION     4.4   \n",
              "2604                                 Instagram         SOCIAL     4.5   \n",
              "2545                                 Instagram         SOCIAL     4.5   \n",
              "2611                                 Instagram         SOCIAL     4.5   \n",
              "3909                                 Instagram         SOCIAL     4.5   \n",
              "382   Messenger – Text and Video Chat for Free  COMMUNICATION     4.0   \n",
              "4104  Messenger – Text and Video Chat for Free  COMMUNICATION     4.0   \n",
              "335   Messenger – Text and Video Chat for Free  COMMUNICATION     4.0   \n",
              "1879                            Clash of Clans           GAME     4.6   \n",
              "1704                            Clash of Clans           GAME     4.6   \n",
              "1670                            Clash of Clans           GAME     4.6   \n",
              "3986                            Clash of Clans         FAMILY     4.6   \n",
              "4005   Clean Master- Space Cleaner & Antivirus          TOOLS     4.7   \n",
              "1917                            Subway Surfers           GAME     4.5   \n",
              "1872                            Subway Surfers           GAME     4.5   \n",
              "1750                            Subway Surfers           GAME     4.5   \n",
              "\n",
              "         Reviews        Size    Installs  Type  Price Content Rating  \\\n",
              "2544  78158306.0         0.0  1000000000  Free    0.0           Teen   \n",
              "3943  78128208.0         0.0  1000000000  Free    0.0           Teen   \n",
              "381   69119316.0         0.0  1000000000  Free    0.0       Everyone   \n",
              "336   69119316.0         0.0  1000000000  Free    0.0       Everyone   \n",
              "3904  69109672.0         0.0  1000000000  Free    0.0       Everyone   \n",
              "2604  66577446.0         0.0  1000000000  Free    0.0           Teen   \n",
              "2545  66577313.0         0.0  1000000000  Free    0.0           Teen   \n",
              "2611  66577313.0         0.0  1000000000  Free    0.0           Teen   \n",
              "3909  66509917.0         0.0  1000000000  Free    0.0           Teen   \n",
              "382   56646578.0         0.0  1000000000  Free    0.0       Everyone   \n",
              "4104  56642847.0         0.0  1000000000  Free    0.0       Everyone   \n",
              "335   56642847.0         0.0  1000000000  Free    0.0       Everyone   \n",
              "1879  44893888.0  98000000.0   100000000  Free    0.0   Everyone 10+   \n",
              "1704  44891723.0  98000000.0   100000000  Free    0.0   Everyone 10+   \n",
              "1670  44891723.0  98000000.0   100000000  Free    0.0   Everyone 10+   \n",
              "3986  44881447.0  98000000.0   100000000  Free    0.0   Everyone 10+   \n",
              "4005  42916526.0         0.0   500000000  Free    0.0       Everyone   \n",
              "1917  27725352.0  76000000.0  1000000000  Free    0.0   Everyone 10+   \n",
              "1872  27725352.0  76000000.0  1000000000  Free    0.0   Everyone 10+   \n",
              "1750  27724094.0  76000000.0  1000000000  Free    0.0   Everyone 10+   \n",
              "\n",
              "             Genres    Last Updated         Current Ver         Android Ver  \n",
              "2544         Social  August 3, 2018  Varies with device  Varies with device  \n",
              "3943         Social  August 3, 2018  Varies with device  Varies with device  \n",
              "381   Communication  August 3, 2018  Varies with device  Varies with device  \n",
              "336   Communication  August 3, 2018  Varies with device  Varies with device  \n",
              "3904  Communication  August 3, 2018  Varies with device  Varies with device  \n",
              "2604         Social   July 31, 2018  Varies with device  Varies with device  \n",
              "2545         Social   July 31, 2018  Varies with device  Varies with device  \n",
              "2611         Social   July 31, 2018  Varies with device  Varies with device  \n",
              "3909         Social   July 31, 2018  Varies with device  Varies with device  \n",
              "382   Communication  August 1, 2018  Varies with device  Varies with device  \n",
              "4104  Communication  August 1, 2018  Varies with device  Varies with device  \n",
              "335   Communication  August 1, 2018  Varies with device  Varies with device  \n",
              "1879       Strategy   July 15, 2018           10.322.16          4.1 and up  \n",
              "1704       Strategy   July 15, 2018           10.322.16          4.1 and up  \n",
              "1670       Strategy   July 15, 2018           10.322.16          4.1 and up  \n",
              "3986       Strategy   July 15, 2018           10.322.16          4.1 and up  \n",
              "4005          Tools  August 3, 2018  Varies with device  Varies with device  \n",
              "1917         Arcade   July 12, 2018              1.90.0          4.1 and up  \n",
              "1872         Arcade   July 12, 2018              1.90.0          4.1 and up  \n",
              "1750         Arcade   July 12, 2018              1.90.0          4.1 and up  "
            ],
            "text/html": [
              "\n",
              "  <div id=\"df-72ee970e-55e6-4c26-bd21-65f1d9280070\">\n",
              "    <div class=\"colab-df-container\">\n",
              "      <div>\n",
              "<style scoped>\n",
              "    .dataframe tbody tr th:only-of-type {\n",
              "        vertical-align: middle;\n",
              "    }\n",
              "\n",
              "    .dataframe tbody tr th {\n",
              "        vertical-align: top;\n",
              "    }\n",
              "\n",
              "    .dataframe thead th {\n",
              "        text-align: right;\n",
              "    }\n",
              "</style>\n",
              "<table border=\"1\" class=\"dataframe\">\n",
              "  <thead>\n",
              "    <tr style=\"text-align: right;\">\n",
              "      <th></th>\n",
              "      <th>App</th>\n",
              "      <th>Category</th>\n",
              "      <th>Rating</th>\n",
              "      <th>Reviews</th>\n",
              "      <th>Size</th>\n",
              "      <th>Installs</th>\n",
              "      <th>Type</th>\n",
              "      <th>Price</th>\n",
              "      <th>Content Rating</th>\n",
              "      <th>Genres</th>\n",
              "      <th>Last Updated</th>\n",
              "      <th>Current Ver</th>\n",
              "      <th>Android Ver</th>\n",
              "    </tr>\n",
              "  </thead>\n",
              "  <tbody>\n",
              "    <tr>\n",
              "      <th>2544</th>\n",
              "      <td>Facebook</td>\n",
              "      <td>SOCIAL</td>\n",
              "      <td>4.1</td>\n",
              "      <td>78158306.0</td>\n",
              "      <td>0.0</td>\n",
              "      <td>1000000000</td>\n",
              "      <td>Free</td>\n",
              "      <td>0.0</td>\n",
              "      <td>Teen</td>\n",
              "      <td>Social</td>\n",
              "      <td>August 3, 2018</td>\n",
              "      <td>Varies with device</td>\n",
              "      <td>Varies with device</td>\n",
              "    </tr>\n",
              "    <tr>\n",
              "      <th>3943</th>\n",
              "      <td>Facebook</td>\n",
              "      <td>SOCIAL</td>\n",
              "      <td>4.1</td>\n",
              "      <td>78128208.0</td>\n",
              "      <td>0.0</td>\n",
              "      <td>1000000000</td>\n",
              "      <td>Free</td>\n",
              "      <td>0.0</td>\n",
              "      <td>Teen</td>\n",
              "      <td>Social</td>\n",
              "      <td>August 3, 2018</td>\n",
              "      <td>Varies with device</td>\n",
              "      <td>Varies with device</td>\n",
              "    </tr>\n",
              "    <tr>\n",
              "      <th>381</th>\n",
              "      <td>WhatsApp Messenger</td>\n",
              "      <td>COMMUNICATION</td>\n",
              "      <td>4.4</td>\n",
              "      <td>69119316.0</td>\n",
              "      <td>0.0</td>\n",
              "      <td>1000000000</td>\n",
              "      <td>Free</td>\n",
              "      <td>0.0</td>\n",
              "      <td>Everyone</td>\n",
              "      <td>Communication</td>\n",
              "      <td>August 3, 2018</td>\n",
              "      <td>Varies with device</td>\n",
              "      <td>Varies with device</td>\n",
              "    </tr>\n",
              "    <tr>\n",
              "      <th>336</th>\n",
              "      <td>WhatsApp Messenger</td>\n",
              "      <td>COMMUNICATION</td>\n",
              "      <td>4.4</td>\n",
              "      <td>69119316.0</td>\n",
              "      <td>0.0</td>\n",
              "      <td>1000000000</td>\n",
              "      <td>Free</td>\n",
              "      <td>0.0</td>\n",
              "      <td>Everyone</td>\n",
              "      <td>Communication</td>\n",
              "      <td>August 3, 2018</td>\n",
              "      <td>Varies with device</td>\n",
              "      <td>Varies with device</td>\n",
              "    </tr>\n",
              "    <tr>\n",
              "      <th>3904</th>\n",
              "      <td>WhatsApp Messenger</td>\n",
              "      <td>COMMUNICATION</td>\n",
              "      <td>4.4</td>\n",
              "      <td>69109672.0</td>\n",
              "      <td>0.0</td>\n",
              "      <td>1000000000</td>\n",
              "      <td>Free</td>\n",
              "      <td>0.0</td>\n",
              "      <td>Everyone</td>\n",
              "      <td>Communication</td>\n",
              "      <td>August 3, 2018</td>\n",
              "      <td>Varies with device</td>\n",
              "      <td>Varies with device</td>\n",
              "    </tr>\n",
              "    <tr>\n",
              "      <th>2604</th>\n",
              "      <td>Instagram</td>\n",
              "      <td>SOCIAL</td>\n",
              "      <td>4.5</td>\n",
              "      <td>66577446.0</td>\n",
              "      <td>0.0</td>\n",
              "      <td>1000000000</td>\n",
              "      <td>Free</td>\n",
              "      <td>0.0</td>\n",
              "      <td>Teen</td>\n",
              "      <td>Social</td>\n",
              "      <td>July 31, 2018</td>\n",
              "      <td>Varies with device</td>\n",
              "      <td>Varies with device</td>\n",
              "    </tr>\n",
              "    <tr>\n",
              "      <th>2545</th>\n",
              "      <td>Instagram</td>\n",
              "      <td>SOCIAL</td>\n",
              "      <td>4.5</td>\n",
              "      <td>66577313.0</td>\n",
              "      <td>0.0</td>\n",
              "      <td>1000000000</td>\n",
              "      <td>Free</td>\n",
              "      <td>0.0</td>\n",
              "      <td>Teen</td>\n",
              "      <td>Social</td>\n",
              "      <td>July 31, 2018</td>\n",
              "      <td>Varies with device</td>\n",
              "      <td>Varies with device</td>\n",
              "    </tr>\n",
              "    <tr>\n",
              "      <th>2611</th>\n",
              "      <td>Instagram</td>\n",
              "      <td>SOCIAL</td>\n",
              "      <td>4.5</td>\n",
              "      <td>66577313.0</td>\n",
              "      <td>0.0</td>\n",
              "      <td>1000000000</td>\n",
              "      <td>Free</td>\n",
              "      <td>0.0</td>\n",
              "      <td>Teen</td>\n",
              "      <td>Social</td>\n",
              "      <td>July 31, 2018</td>\n",
              "      <td>Varies with device</td>\n",
              "      <td>Varies with device</td>\n",
              "    </tr>\n",
              "    <tr>\n",
              "      <th>3909</th>\n",
              "      <td>Instagram</td>\n",
              "      <td>SOCIAL</td>\n",
              "      <td>4.5</td>\n",
              "      <td>66509917.0</td>\n",
              "      <td>0.0</td>\n",
              "      <td>1000000000</td>\n",
              "      <td>Free</td>\n",
              "      <td>0.0</td>\n",
              "      <td>Teen</td>\n",
              "      <td>Social</td>\n",
              "      <td>July 31, 2018</td>\n",
              "      <td>Varies with device</td>\n",
              "      <td>Varies with device</td>\n",
              "    </tr>\n",
              "    <tr>\n",
              "      <th>382</th>\n",
              "      <td>Messenger – Text and Video Chat for Free</td>\n",
              "      <td>COMMUNICATION</td>\n",
              "      <td>4.0</td>\n",
              "      <td>56646578.0</td>\n",
              "      <td>0.0</td>\n",
              "      <td>1000000000</td>\n",
              "      <td>Free</td>\n",
              "      <td>0.0</td>\n",
              "      <td>Everyone</td>\n",
              "      <td>Communication</td>\n",
              "      <td>August 1, 2018</td>\n",
              "      <td>Varies with device</td>\n",
              "      <td>Varies with device</td>\n",
              "    </tr>\n",
              "    <tr>\n",
              "      <th>4104</th>\n",
              "      <td>Messenger – Text and Video Chat for Free</td>\n",
              "      <td>COMMUNICATION</td>\n",
              "      <td>4.0</td>\n",
              "      <td>56642847.0</td>\n",
              "      <td>0.0</td>\n",
              "      <td>1000000000</td>\n",
              "      <td>Free</td>\n",
              "      <td>0.0</td>\n",
              "      <td>Everyone</td>\n",
              "      <td>Communication</td>\n",
              "      <td>August 1, 2018</td>\n",
              "      <td>Varies with device</td>\n",
              "      <td>Varies with device</td>\n",
              "    </tr>\n",
              "    <tr>\n",
              "      <th>335</th>\n",
              "      <td>Messenger – Text and Video Chat for Free</td>\n",
              "      <td>COMMUNICATION</td>\n",
              "      <td>4.0</td>\n",
              "      <td>56642847.0</td>\n",
              "      <td>0.0</td>\n",
              "      <td>1000000000</td>\n",
              "      <td>Free</td>\n",
              "      <td>0.0</td>\n",
              "      <td>Everyone</td>\n",
              "      <td>Communication</td>\n",
              "      <td>August 1, 2018</td>\n",
              "      <td>Varies with device</td>\n",
              "      <td>Varies with device</td>\n",
              "    </tr>\n",
              "    <tr>\n",
              "      <th>1879</th>\n",
              "      <td>Clash of Clans</td>\n",
              "      <td>GAME</td>\n",
              "      <td>4.6</td>\n",
              "      <td>44893888.0</td>\n",
              "      <td>98000000.0</td>\n",
              "      <td>100000000</td>\n",
              "      <td>Free</td>\n",
              "      <td>0.0</td>\n",
              "      <td>Everyone 10+</td>\n",
              "      <td>Strategy</td>\n",
              "      <td>July 15, 2018</td>\n",
              "      <td>10.322.16</td>\n",
              "      <td>4.1 and up</td>\n",
              "    </tr>\n",
              "    <tr>\n",
              "      <th>1704</th>\n",
              "      <td>Clash of Clans</td>\n",
              "      <td>GAME</td>\n",
              "      <td>4.6</td>\n",
              "      <td>44891723.0</td>\n",
              "      <td>98000000.0</td>\n",
              "      <td>100000000</td>\n",
              "      <td>Free</td>\n",
              "      <td>0.0</td>\n",
              "      <td>Everyone 10+</td>\n",
              "      <td>Strategy</td>\n",
              "      <td>July 15, 2018</td>\n",
              "      <td>10.322.16</td>\n",
              "      <td>4.1 and up</td>\n",
              "    </tr>\n",
              "    <tr>\n",
              "      <th>1670</th>\n",
              "      <td>Clash of Clans</td>\n",
              "      <td>GAME</td>\n",
              "      <td>4.6</td>\n",
              "      <td>44891723.0</td>\n",
              "      <td>98000000.0</td>\n",
              "      <td>100000000</td>\n",
              "      <td>Free</td>\n",
              "      <td>0.0</td>\n",
              "      <td>Everyone 10+</td>\n",
              "      <td>Strategy</td>\n",
              "      <td>July 15, 2018</td>\n",
              "      <td>10.322.16</td>\n",
              "      <td>4.1 and up</td>\n",
              "    </tr>\n",
              "    <tr>\n",
              "      <th>3986</th>\n",
              "      <td>Clash of Clans</td>\n",
              "      <td>FAMILY</td>\n",
              "      <td>4.6</td>\n",
              "      <td>44881447.0</td>\n",
              "      <td>98000000.0</td>\n",
              "      <td>100000000</td>\n",
              "      <td>Free</td>\n",
              "      <td>0.0</td>\n",
              "      <td>Everyone 10+</td>\n",
              "      <td>Strategy</td>\n",
              "      <td>July 15, 2018</td>\n",
              "      <td>10.322.16</td>\n",
              "      <td>4.1 and up</td>\n",
              "    </tr>\n",
              "    <tr>\n",
              "      <th>4005</th>\n",
              "      <td>Clean Master- Space Cleaner &amp; Antivirus</td>\n",
              "      <td>TOOLS</td>\n",
              "      <td>4.7</td>\n",
              "      <td>42916526.0</td>\n",
              "      <td>0.0</td>\n",
              "      <td>500000000</td>\n",
              "      <td>Free</td>\n",
              "      <td>0.0</td>\n",
              "      <td>Everyone</td>\n",
              "      <td>Tools</td>\n",
              "      <td>August 3, 2018</td>\n",
              "      <td>Varies with device</td>\n",
              "      <td>Varies with device</td>\n",
              "    </tr>\n",
              "    <tr>\n",
              "      <th>1917</th>\n",
              "      <td>Subway Surfers</td>\n",
              "      <td>GAME</td>\n",
              "      <td>4.5</td>\n",
              "      <td>27725352.0</td>\n",
              "      <td>76000000.0</td>\n",
              "      <td>1000000000</td>\n",
              "      <td>Free</td>\n",
              "      <td>0.0</td>\n",
              "      <td>Everyone 10+</td>\n",
              "      <td>Arcade</td>\n",
              "      <td>July 12, 2018</td>\n",
              "      <td>1.90.0</td>\n",
              "      <td>4.1 and up</td>\n",
              "    </tr>\n",
              "    <tr>\n",
              "      <th>1872</th>\n",
              "      <td>Subway Surfers</td>\n",
              "      <td>GAME</td>\n",
              "      <td>4.5</td>\n",
              "      <td>27725352.0</td>\n",
              "      <td>76000000.0</td>\n",
              "      <td>1000000000</td>\n",
              "      <td>Free</td>\n",
              "      <td>0.0</td>\n",
              "      <td>Everyone 10+</td>\n",
              "      <td>Arcade</td>\n",
              "      <td>July 12, 2018</td>\n",
              "      <td>1.90.0</td>\n",
              "      <td>4.1 and up</td>\n",
              "    </tr>\n",
              "    <tr>\n",
              "      <th>1750</th>\n",
              "      <td>Subway Surfers</td>\n",
              "      <td>GAME</td>\n",
              "      <td>4.5</td>\n",
              "      <td>27724094.0</td>\n",
              "      <td>76000000.0</td>\n",
              "      <td>1000000000</td>\n",
              "      <td>Free</td>\n",
              "      <td>0.0</td>\n",
              "      <td>Everyone 10+</td>\n",
              "      <td>Arcade</td>\n",
              "      <td>July 12, 2018</td>\n",
              "      <td>1.90.0</td>\n",
              "      <td>4.1 and up</td>\n",
              "    </tr>\n",
              "  </tbody>\n",
              "</table>\n",
              "</div>\n",
              "      <button class=\"colab-df-convert\" onclick=\"convertToInteractive('df-72ee970e-55e6-4c26-bd21-65f1d9280070')\"\n",
              "              title=\"Convert this dataframe to an interactive table.\"\n",
              "              style=\"display:none;\">\n",
              "        \n",
              "  <svg xmlns=\"http://www.w3.org/2000/svg\" height=\"24px\"viewBox=\"0 0 24 24\"\n",
              "       width=\"24px\">\n",
              "    <path d=\"M0 0h24v24H0V0z\" fill=\"none\"/>\n",
              "    <path d=\"M18.56 5.44l.94 2.06.94-2.06 2.06-.94-2.06-.94-.94-2.06-.94 2.06-2.06.94zm-11 1L8.5 8.5l.94-2.06 2.06-.94-2.06-.94L8.5 2.5l-.94 2.06-2.06.94zm10 10l.94 2.06.94-2.06 2.06-.94-2.06-.94-.94-2.06-.94 2.06-2.06.94z\"/><path d=\"M17.41 7.96l-1.37-1.37c-.4-.4-.92-.59-1.43-.59-.52 0-1.04.2-1.43.59L10.3 9.45l-7.72 7.72c-.78.78-.78 2.05 0 2.83L4 21.41c.39.39.9.59 1.41.59.51 0 1.02-.2 1.41-.59l7.78-7.78 2.81-2.81c.8-.78.8-2.07 0-2.86zM5.41 20L4 18.59l7.72-7.72 1.47 1.35L5.41 20z\"/>\n",
              "  </svg>\n",
              "      </button>\n",
              "      \n",
              "  <style>\n",
              "    .colab-df-container {\n",
              "      display:flex;\n",
              "      flex-wrap:wrap;\n",
              "      gap: 12px;\n",
              "    }\n",
              "\n",
              "    .colab-df-convert {\n",
              "      background-color: #E8F0FE;\n",
              "      border: none;\n",
              "      border-radius: 50%;\n",
              "      cursor: pointer;\n",
              "      display: none;\n",
              "      fill: #1967D2;\n",
              "      height: 32px;\n",
              "      padding: 0 0 0 0;\n",
              "      width: 32px;\n",
              "    }\n",
              "\n",
              "    .colab-df-convert:hover {\n",
              "      background-color: #E2EBFA;\n",
              "      box-shadow: 0px 1px 2px rgba(60, 64, 67, 0.3), 0px 1px 3px 1px rgba(60, 64, 67, 0.15);\n",
              "      fill: #174EA6;\n",
              "    }\n",
              "\n",
              "    [theme=dark] .colab-df-convert {\n",
              "      background-color: #3B4455;\n",
              "      fill: #D2E3FC;\n",
              "    }\n",
              "\n",
              "    [theme=dark] .colab-df-convert:hover {\n",
              "      background-color: #434B5C;\n",
              "      box-shadow: 0px 1px 3px 1px rgba(0, 0, 0, 0.15);\n",
              "      filter: drop-shadow(0px 1px 2px rgba(0, 0, 0, 0.3));\n",
              "      fill: #FFFFFF;\n",
              "    }\n",
              "  </style>\n",
              "\n",
              "      <script>\n",
              "        const buttonEl =\n",
              "          document.querySelector('#df-72ee970e-55e6-4c26-bd21-65f1d9280070 button.colab-df-convert');\n",
              "        buttonEl.style.display =\n",
              "          google.colab.kernel.accessAllowed ? 'block' : 'none';\n",
              "\n",
              "        async function convertToInteractive(key) {\n",
              "          const element = document.querySelector('#df-72ee970e-55e6-4c26-bd21-65f1d9280070');\n",
              "          const dataTable =\n",
              "            await google.colab.kernel.invokeFunction('convertToInteractive',\n",
              "                                                     [key], {});\n",
              "          if (!dataTable) return;\n",
              "\n",
              "          const docLinkHtml = 'Like what you see? Visit the ' +\n",
              "            '<a target=\"_blank\" href=https://colab.research.google.com/notebooks/data_table.ipynb>data table notebook</a>'\n",
              "            + ' to learn more about interactive tables.';\n",
              "          element.innerHTML = '';\n",
              "          dataTable['output_type'] = 'display_data';\n",
              "          await google.colab.output.renderOutput(dataTable, element);\n",
              "          const docLink = document.createElement('div');\n",
              "          docLink.innerHTML = docLinkHtml;\n",
              "          element.appendChild(docLink);\n",
              "        }\n",
              "      </script>\n",
              "    </div>\n",
              "  </div>\n",
              "  "
            ]
          },
          "metadata": {},
          "execution_count": 455
        }
      ]
    },
    {
      "cell_type": "markdown",
      "source": [
        "##Note: From the above dataframe clearly see that the Apps like Facebook , WhatsAppMessenger , Instagram,Messenger – Text and Video Chat for Free , Clash of Clans\t has the highest number of reviews on google playstore."
      ],
      "metadata": {
        "id": "Fec2K2w3U-OQ"
      }
    },
    {
      "cell_type": "markdown",
      "source": [
        "##<B>lets check top 20 Genres and their count available on our playstore data"
      ],
      "metadata": {
        "id": "et1v5IqU6k-0"
      }
    },
    {
      "cell_type": "code",
      "source": [
        "top20_genres= df1['Genres'].value_counts().head(20)"
      ],
      "metadata": {
        "id": "bLdyRlrH63QR"
      },
      "execution_count": 456,
      "outputs": []
    },
    {
      "cell_type": "code",
      "source": [
        "plt.figure(figsize=(12,12))\n",
        "sns.barplot(top20_genres,top20_genres.index)\n",
        "plt.title('Top 20 Genres',size=23)"
      ],
      "metadata": {
        "colab": {
          "base_uri": "https://localhost:8080/",
          "height": 813
        },
        "id": "G_3p51Tm7HNr",
        "outputId": "16158ec5-d7d1-4b5c-8c85-481aefd08b63"
      },
      "execution_count": 457,
      "outputs": [
        {
          "output_type": "stream",
          "name": "stderr",
          "text": [
            "/usr/local/lib/python3.7/dist-packages/seaborn/_decorators.py:43: FutureWarning: Pass the following variables as keyword args: x, y. From version 0.12, the only valid positional argument will be `data`, and passing other arguments without an explicit keyword will result in an error or misinterpretation.\n",
            "  FutureWarning\n"
          ]
        },
        {
          "output_type": "execute_result",
          "data": {
            "text/plain": [
              "Text(0.5, 1.0, 'Top 20 Genres')"
            ]
          },
          "metadata": {},
          "execution_count": 457
        },
        {
          "output_type": "display_data",
          "data": {
            "text/plain": [
              "<Figure size 864x864 with 1 Axes>"
            ],
            "image/png": "[encoded data removed]"
          },
          "metadata": {
            "needs_background": "light"
          }
        }
      ]
    },
    {
      "cell_type": "markdown",
      "source": [
        "###From above plot we see that TOOLS , ENTERTAINMENT, EDUCATION, MEDICAL, BUSINESS are top in list "
      ],
      "metadata": {
        "id": "ehn8XX5b-zgQ"
      }
    },
    {
      "cell_type": "markdown",
      "source": [
        "##<B>Top Earning in both Category and Genres available on Playstore"
      ],
      "metadata": {
        "id": "mXKcQA0UTR3Q"
      }
    },
    {
      "cell_type": "markdown",
      "source": [
        "###In order to find earnings of  apps we have to mutiply price column and install column  and add a new column Earnings to our Dataframe"
      ],
      "metadata": {
        "id": "bGY8x7LATzU5"
      }
    },
    {
      "cell_type": "code",
      "source": [
        "#Making a new column earning  and adding it to our dataframe\n",
        "df1['Earning'] = df1['Price']*df1['Installs']\n",
        "df1 = df1.sort_values(by = 'Earning',ascending = False)\n",
        "df1.drop_duplicates(subset =\"App\", keep = False, inplace = True)\n",
        "df1"
      ],
      "metadata": {
        "colab": {
          "base_uri": "https://localhost:8080/",
          "height": 589
        },
        "id": "MDBotwAtUUk5",
        "outputId": "1ba8da19-9c71-4512-c93b-25bb6c606076"
      },
      "execution_count": 458,
      "outputs": [
        {
          "output_type": "execute_result",
          "data": {
            "text/plain": [
              "                                                   App   Category  Rating  \\\n",
              "5351                                         I am rich  LIFESTYLE     3.8   \n",
              "5356                                 I Am Rich Premium    FINANCE     4.1   \n",
              "4034                                     Hitman Sniper       GAME     4.6   \n",
              "7417                     Grand Theft Auto: San Andreas       GAME     4.4   \n",
              "5578                           Sleep as Android Unlock  LIFESTYLE     4.5   \n",
              "...                                                ...        ...     ...   \n",
              "3653   Storm Radar: Tornado Tracker & Hurricane Alerts    WEATHER     4.6   \n",
              "3654                                    Yandex.Weather    WEATHER     4.5   \n",
              "3655            Local Weather Forecast & Visual Widget    WEATHER     4.5   \n",
              "3656                             Wetter by t-online.de    WEATHER     4.2   \n",
              "10840    iHoroscope - 2018 Daily Horoscope & Astrology  LIFESTYLE     4.5   \n",
              "\n",
              "        Reviews        Size  Installs  Type   Price Content Rating     Genres  \\\n",
              "5351     3547.0   1800000.0    100000  Paid  399.99       Everyone  Lifestyle   \n",
              "5356     1867.0   4700000.0     50000  Paid  399.99       Everyone    Finance   \n",
              "4034   408292.0  29000000.0  10000000  Paid    0.99     Mature 17+     Action   \n",
              "7417   348962.0  26000000.0   1000000  Paid    6.99     Mature 17+     Action   \n",
              "5578    23966.0    872000.0   1000000  Paid    5.99       Everyone  Lifestyle   \n",
              "...         ...         ...       ...   ...     ...            ...        ...   \n",
              "3653    89868.0         0.0   1000000  Free    0.00       Everyone    Weather   \n",
              "3654   309617.0         0.0  10000000  Free    0.00       Everyone    Weather   \n",
              "3655     3478.0   6100000.0    500000  Free    0.00       Everyone    Weather   \n",
              "3656    24349.0   9200000.0   1000000  Free    0.00       Everyone    Weather   \n",
              "10840  398307.0  19000000.0  10000000  Free    0.00       Everyone  Lifestyle   \n",
              "\n",
              "            Last Updated         Current Ver         Android Ver     Earning  \n",
              "5351    January 12, 2018                 2.0        4.0.3 and up  39999000.0  \n",
              "5356   November 12, 2017                 1.6          4.0 and up  19999500.0  \n",
              "4034       July 12, 2018          1.7.110758          4.1 and up   9900000.0  \n",
              "7417      March 21, 2015                1.08          3.0 and up   6990000.0  \n",
              "5578       June 27, 2018            20180608          4.0 and up   5990000.0  \n",
              "...                  ...                 ...                 ...         ...  \n",
              "3653       June 12, 2018  Varies with device  Varies with device         0.0  \n",
              "3654       July 23, 2018  Varies with device  Varies with device         0.0  \n",
              "3655      August 2, 2018              2.9.10          4.2 and up         0.0  \n",
              "3656        May 14, 2018             1.8.4.5          4.1 and up         0.0  \n",
              "10840      July 25, 2018  Varies with device  Varies with device         0.0  \n",
              "\n",
              "[8860 rows x 14 columns]"
            ],
            "text/html": [
              "\n",
              "  <div id=\"df-c8533e9f-5298-4985-a745-7562c94712b0\">\n",
              "    <div class=\"colab-df-container\">\n",
              "      <div>\n",
              "<style scoped>\n",
              "    .dataframe tbody tr th:only-of-type {\n",
              "        vertical-align: middle;\n",
              "    }\n",
              "\n",
              "    .dataframe tbody tr th {\n",
              "        vertical-align: top;\n",
              "    }\n",
              "\n",
              "    .dataframe thead th {\n",
              "        text-align: right;\n",
              "    }\n",
              "</style>\n",
              "<table border=\"1\" class=\"dataframe\">\n",
              "  <thead>\n",
              "    <tr style=\"text-align: right;\">\n",
              "      <th></th>\n",
              "      <th>App</th>\n",
              "      <th>Category</th>\n",
              "      <th>Rating</th>\n",
              "      <th>Reviews</th>\n",
              "      <th>Size</th>\n",
              "      <th>Installs</th>\n",
              "      <th>Type</th>\n",
              "      <th>Price</th>\n",
              "      <th>Content Rating</th>\n",
              "      <th>Genres</th>\n",
              "      <th>Last Updated</th>\n",
              "      <th>Current Ver</th>\n",
              "      <th>Android Ver</th>\n",
              "      <th>Earning</th>\n",
              "    </tr>\n",
              "  </thead>\n",
              "  <tbody>\n",
              "    <tr>\n",
              "      <th>5351</th>\n",
              "      <td>I am rich</td>\n",
              "      <td>LIFESTYLE</td>\n",
              "      <td>3.8</td>\n",
              "      <td>3547.0</td>\n",
              "      <td>1800000.0</td>\n",
              "      <td>100000</td>\n",
              "      <td>Paid</td>\n",
              "      <td>399.99</td>\n",
              "      <td>Everyone</td>\n",
              "      <td>Lifestyle</td>\n",
              "      <td>January 12, 2018</td>\n",
              "      <td>2.0</td>\n",
              "      <td>4.0.3 and up</td>\n",
              "      <td>39999000.0</td>\n",
              "    </tr>\n",
              "    <tr>\n",
              "      <th>5356</th>\n",
              "      <td>I Am Rich Premium</td>\n",
              "      <td>FINANCE</td>\n",
              "      <td>4.1</td>\n",
              "      <td>1867.0</td>\n",
              "      <td>4700000.0</td>\n",
              "      <td>50000</td>\n",
              "      <td>Paid</td>\n",
              "      <td>399.99</td>\n",
              "      <td>Everyone</td>\n",
              "      <td>Finance</td>\n",
              "      <td>November 12, 2017</td>\n",
              "      <td>1.6</td>\n",
              "      <td>4.0 and up</td>\n",
              "      <td>19999500.0</td>\n",
              "    </tr>\n",
              "    <tr>\n",
              "      <th>4034</th>\n",
              "      <td>Hitman Sniper</td>\n",
              "      <td>GAME</td>\n",
              "      <td>4.6</td>\n",
              "      <td>408292.0</td>\n",
              "      <td>29000000.0</td>\n",
              "      <td>10000000</td>\n",
              "      <td>Paid</td>\n",
              "      <td>0.99</td>\n",
              "      <td>Mature 17+</td>\n",
              "      <td>Action</td>\n",
              "      <td>July 12, 2018</td>\n",
              "      <td>1.7.110758</td>\n",
              "      <td>4.1 and up</td>\n",
              "      <td>9900000.0</td>\n",
              "    </tr>\n",
              "    <tr>\n",
              "      <th>7417</th>\n",
              "      <td>Grand Theft Auto: San Andreas</td>\n",
              "      <td>GAME</td>\n",
              "      <td>4.4</td>\n",
              "      <td>348962.0</td>\n",
              "      <td>26000000.0</td>\n",
              "      <td>1000000</td>\n",
              "      <td>Paid</td>\n",
              "      <td>6.99</td>\n",
              "      <td>Mature 17+</td>\n",
              "      <td>Action</td>\n",
              "      <td>March 21, 2015</td>\n",
              "      <td>1.08</td>\n",
              "      <td>3.0 and up</td>\n",
              "      <td>6990000.0</td>\n",
              "    </tr>\n",
              "    <tr>\n",
              "      <th>5578</th>\n",
              "      <td>Sleep as Android Unlock</td>\n",
              "      <td>LIFESTYLE</td>\n",
              "      <td>4.5</td>\n",
              "      <td>23966.0</td>\n",
              "      <td>872000.0</td>\n",
              "      <td>1000000</td>\n",
              "      <td>Paid</td>\n",
              "      <td>5.99</td>\n",
              "      <td>Everyone</td>\n",
              "      <td>Lifestyle</td>\n",
              "      <td>June 27, 2018</td>\n",
              "      <td>20180608</td>\n",
              "      <td>4.0 and up</td>\n",
              "      <td>5990000.0</td>\n",
              "    </tr>\n",
              "    <tr>\n",
              "      <th>...</th>\n",
              "      <td>...</td>\n",
              "      <td>...</td>\n",
              "      <td>...</td>\n",
              "      <td>...</td>\n",
              "      <td>...</td>\n",
              "      <td>...</td>\n",
              "      <td>...</td>\n",
              "      <td>...</td>\n",
              "      <td>...</td>\n",
              "      <td>...</td>\n",
              "      <td>...</td>\n",
              "      <td>...</td>\n",
              "      <td>...</td>\n",
              "      <td>...</td>\n",
              "    </tr>\n",
              "    <tr>\n",
              "      <th>3653</th>\n",
              "      <td>Storm Radar: Tornado Tracker &amp; Hurricane Alerts</td>\n",
              "      <td>WEATHER</td>\n",
              "      <td>4.6</td>\n",
              "      <td>89868.0</td>\n",
              "      <td>0.0</td>\n",
              "      <td>1000000</td>\n",
              "      <td>Free</td>\n",
              "      <td>0.00</td>\n",
              "      <td>Everyone</td>\n",
              "      <td>Weather</td>\n",
              "      <td>June 12, 2018</td>\n",
              "      <td>Varies with device</td>\n",
              "      <td>Varies with device</td>\n",
              "      <td>0.0</td>\n",
              "    </tr>\n",
              "    <tr>\n",
              "      <th>3654</th>\n",
              "      <td>Yandex.Weather</td>\n",
              "      <td>WEATHER</td>\n",
              "      <td>4.5</td>\n",
              "      <td>309617.0</td>\n",
              "      <td>0.0</td>\n",
              "      <td>10000000</td>\n",
              "      <td>Free</td>\n",
              "      <td>0.00</td>\n",
              "      <td>Everyone</td>\n",
              "      <td>Weather</td>\n",
              "      <td>July 23, 2018</td>\n",
              "      <td>Varies with device</td>\n",
              "      <td>Varies with device</td>\n",
              "      <td>0.0</td>\n",
              "    </tr>\n",
              "    <tr>\n",
              "      <th>3655</th>\n",
              "      <td>Local Weather Forecast &amp; Visual Widget</td>\n",
              "      <td>WEATHER</td>\n",
              "      <td>4.5</td>\n",
              "      <td>3478.0</td>\n",
              "      <td>6100000.0</td>\n",
              "      <td>500000</td>\n",
              "      <td>Free</td>\n",
              "      <td>0.00</td>\n",
              "      <td>Everyone</td>\n",
              "      <td>Weather</td>\n",
              "      <td>August 2, 2018</td>\n",
              "      <td>2.9.10</td>\n",
              "      <td>4.2 and up</td>\n",
              "      <td>0.0</td>\n",
              "    </tr>\n",
              "    <tr>\n",
              "      <th>3656</th>\n",
              "      <td>Wetter by t-online.de</td>\n",
              "      <td>WEATHER</td>\n",
              "      <td>4.2</td>\n",
              "      <td>24349.0</td>\n",
              "      <td>9200000.0</td>\n",
              "      <td>1000000</td>\n",
              "      <td>Free</td>\n",
              "      <td>0.00</td>\n",
              "      <td>Everyone</td>\n",
              "      <td>Weather</td>\n",
              "      <td>May 14, 2018</td>\n",
              "      <td>1.8.4.5</td>\n",
              "      <td>4.1 and up</td>\n",
              "      <td>0.0</td>\n",
              "    </tr>\n",
              "    <tr>\n",
              "      <th>10840</th>\n",
              "      <td>iHoroscope - 2018 Daily Horoscope &amp; Astrology</td>\n",
              "      <td>LIFESTYLE</td>\n",
              "      <td>4.5</td>\n",
              "      <td>398307.0</td>\n",
              "      <td>19000000.0</td>\n",
              "      <td>10000000</td>\n",
              "      <td>Free</td>\n",
              "      <td>0.00</td>\n",
              "      <td>Everyone</td>\n",
              "      <td>Lifestyle</td>\n",
              "      <td>July 25, 2018</td>\n",
              "      <td>Varies with device</td>\n",
              "      <td>Varies with device</td>\n",
              "      <td>0.0</td>\n",
              "    </tr>\n",
              "  </tbody>\n",
              "</table>\n",
              "<p>8860 rows × 14 columns</p>\n",
              "</div>\n",
              "      <button class=\"colab-df-convert\" onclick=\"convertToInteractive('df-c8533e9f-5298-4985-a745-7562c94712b0')\"\n",
              "              title=\"Convert this dataframe to an interactive table.\"\n",
              "              style=\"display:none;\">\n",
              "        \n",
              "  <svg xmlns=\"http://www.w3.org/2000/svg\" height=\"24px\"viewBox=\"0 0 24 24\"\n",
              "       width=\"24px\">\n",
              "    <path d=\"M0 0h24v24H0V0z\" fill=\"none\"/>\n",
              "    <path d=\"M18.56 5.44l.94 2.06.94-2.06 2.06-.94-2.06-.94-.94-2.06-.94 2.06-2.06.94zm-11 1L8.5 8.5l.94-2.06 2.06-.94-2.06-.94L8.5 2.5l-.94 2.06-2.06.94zm10 10l.94 2.06.94-2.06 2.06-.94-2.06-.94-.94-2.06-.94 2.06-2.06.94z\"/><path d=\"M17.41 7.96l-1.37-1.37c-.4-.4-.92-.59-1.43-.59-.52 0-1.04.2-1.43.59L10.3 9.45l-7.72 7.72c-.78.78-.78 2.05 0 2.83L4 21.41c.39.39.9.59 1.41.59.51 0 1.02-.2 1.41-.59l7.78-7.78 2.81-2.81c.8-.78.8-2.07 0-2.86zM5.41 20L4 18.59l7.72-7.72 1.47 1.35L5.41 20z\"/>\n",
              "  </svg>\n",
              "      </button>\n",
              "      \n",
              "  <style>\n",
              "    .colab-df-container {\n",
              "      display:flex;\n",
              "      flex-wrap:wrap;\n",
              "      gap: 12px;\n",
              "    }\n",
              "\n",
              "    .colab-df-convert {\n",
              "      background-color: #E8F0FE;\n",
              "      border: none;\n",
              "      border-radius: 50%;\n",
              "      cursor: pointer;\n",
              "      display: none;\n",
              "      fill: #1967D2;\n",
              "      height: 32px;\n",
              "      padding: 0 0 0 0;\n",
              "      width: 32px;\n",
              "    }\n",
              "\n",
              "    .colab-df-convert:hover {\n",
              "      background-color: #E2EBFA;\n",
              "      box-shadow: 0px 1px 2px rgba(60, 64, 67, 0.3), 0px 1px 3px 1px rgba(60, 64, 67, 0.15);\n",
              "      fill: #174EA6;\n",
              "    }\n",
              "\n",
              "    [theme=dark] .colab-df-convert {\n",
              "      background-color: #3B4455;\n",
              "      fill: #D2E3FC;\n",
              "    }\n",
              "\n",
              "    [theme=dark] .colab-df-convert:hover {\n",
              "      background-color: #434B5C;\n",
              "      box-shadow: 0px 1px 3px 1px rgba(0, 0, 0, 0.15);\n",
              "      filter: drop-shadow(0px 1px 2px rgba(0, 0, 0, 0.3));\n",
              "      fill: #FFFFFF;\n",
              "    }\n",
              "  </style>\n",
              "\n",
              "      <script>\n",
              "        const buttonEl =\n",
              "          document.querySelector('#df-c8533e9f-5298-4985-a745-7562c94712b0 button.colab-df-convert');\n",
              "        buttonEl.style.display =\n",
              "          google.colab.kernel.accessAllowed ? 'block' : 'none';\n",
              "\n",
              "        async function convertToInteractive(key) {\n",
              "          const element = document.querySelector('#df-c8533e9f-5298-4985-a745-7562c94712b0');\n",
              "          const dataTable =\n",
              "            await google.colab.kernel.invokeFunction('convertToInteractive',\n",
              "                                                     [key], {});\n",
              "          if (!dataTable) return;\n",
              "\n",
              "          const docLinkHtml = 'Like what you see? Visit the ' +\n",
              "            '<a target=\"_blank\" href=https://colab.research.google.com/notebooks/data_table.ipynb>data table notebook</a>'\n",
              "            + ' to learn more about interactive tables.';\n",
              "          element.innerHTML = '';\n",
              "          dataTable['output_type'] = 'display_data';\n",
              "          await google.colab.output.renderOutput(dataTable, element);\n",
              "          const docLink = document.createElement('div');\n",
              "          docLink.innerHTML = docLinkHtml;\n",
              "          element.appendChild(docLink);\n",
              "        }\n",
              "      </script>\n",
              "    </div>\n",
              "  </div>\n",
              "  "
            ]
          },
          "metadata": {},
          "execution_count": 458
        }
      ]
    },
    {
      "cell_type": "code",
      "source": [
        "# creating another Dataframe \n",
        "df2 = df1.groupby('Category')[['Earning']].sum().sort_values(by='Earning', ascending=False)\n",
        "df2"
      ],
      "metadata": {
        "colab": {
          "base_uri": "https://localhost:8080/",
          "height": 1000
        },
        "id": "aybFB6RepUl0",
        "outputId": "8d1615d4-89e8-4d50-d4b0-f05a78ec62f4"
      },
      "execution_count": 459,
      "outputs": [
        {
          "output_type": "execute_result",
          "data": {
            "text/plain": [
              "                         Earning\n",
              "Category                        \n",
              "LIFESTYLE            57583939.40\n",
              "FAMILY               43507555.36\n",
              "GAME                 40389636.85\n",
              "FINANCE              25726678.98\n",
              "TOOLS                 5464820.59\n",
              "SPORTS                4706211.95\n",
              "PRODUCTIVITY          4313374.95\n",
              "COMMUNICATION         4247364.50\n",
              "WEATHER               4181380.00\n",
              "PERSONALIZATION       3316947.56\n",
              "PHOTOGRAPHY           2162767.70\n",
              "MAPS_AND_NAVIGATION   1240789.00\n",
              "TRAVEL_AND_LOCAL      1151504.40\n",
              "HEALTH_AND_FITNESS    1127068.90\n",
              "MEDICAL                839227.67\n",
              "ENTERTAINMENT          798000.00\n",
              "EDUCATION              402990.00\n",
              "VIDEO_PLAYERS          335290.00\n",
              "FOOD_AND_DRINK         284400.00\n",
              "PARENTING              249959.00\n",
              "AUTO_AND_VEHICLES      100148.50\n",
              "BOOKS_AND_REFERENCE     90226.74\n",
              "BUSINESS                52543.25\n",
              "ART_AND_DESIGN          31840.00\n",
              "SHOPPING                30149.00\n",
              "NEWS_AND_MAGAZINES       6445.00\n",
              "SOCIAL                   5940.00\n",
              "DATING                   1571.50\n",
              "EVENTS                    109.99\n",
              "LIBRARIES_AND_DEMO         99.00\n",
              "COMICS                      0.00\n",
              "BEAUTY                      0.00\n",
              "HOUSE_AND_HOME              0.00"
            ],
            "text/html": [
              "\n",
              "  <div id=\"df-3231867b-076c-46ca-9b61-7876b7e82071\">\n",
              "    <div class=\"colab-df-container\">\n",
              "      <div>\n",
              "<style scoped>\n",
              "    .dataframe tbody tr th:only-of-type {\n",
              "        vertical-align: middle;\n",
              "    }\n",
              "\n",
              "    .dataframe tbody tr th {\n",
              "        vertical-align: top;\n",
              "    }\n",
              "\n",
              "    .dataframe thead th {\n",
              "        text-align: right;\n",
              "    }\n",
              "</style>\n",
              "<table border=\"1\" class=\"dataframe\">\n",
              "  <thead>\n",
              "    <tr style=\"text-align: right;\">\n",
              "      <th></th>\n",
              "      <th>Earning</th>\n",
              "    </tr>\n",
              "    <tr>\n",
              "      <th>Category</th>\n",
              "      <th></th>\n",
              "    </tr>\n",
              "  </thead>\n",
              "  <tbody>\n",
              "    <tr>\n",
              "      <th>LIFESTYLE</th>\n",
              "      <td>57583939.40</td>\n",
              "    </tr>\n",
              "    <tr>\n",
              "      <th>FAMILY</th>\n",
              "      <td>43507555.36</td>\n",
              "    </tr>\n",
              "    <tr>\n",
              "      <th>GAME</th>\n",
              "      <td>40389636.85</td>\n",
              "    </tr>\n",
              "    <tr>\n",
              "      <th>FINANCE</th>\n",
              "      <td>25726678.98</td>\n",
              "    </tr>\n",
              "    <tr>\n",
              "      <th>TOOLS</th>\n",
              "      <td>5464820.59</td>\n",
              "    </tr>\n",
              "    <tr>\n",
              "      <th>SPORTS</th>\n",
              "      <td>4706211.95</td>\n",
              "    </tr>\n",
              "    <tr>\n",
              "      <th>PRODUCTIVITY</th>\n",
              "      <td>4313374.95</td>\n",
              "    </tr>\n",
              "    <tr>\n",
              "      <th>COMMUNICATION</th>\n",
              "      <td>4247364.50</td>\n",
              "    </tr>\n",
              "    <tr>\n",
              "      <th>WEATHER</th>\n",
              "      <td>4181380.00</td>\n",
              "    </tr>\n",
              "    <tr>\n",
              "      <th>PERSONALIZATION</th>\n",
              "      <td>3316947.56</td>\n",
              "    </tr>\n",
              "    <tr>\n",
              "      <th>PHOTOGRAPHY</th>\n",
              "      <td>2162767.70</td>\n",
              "    </tr>\n",
              "    <tr>\n",
              "      <th>MAPS_AND_NAVIGATION</th>\n",
              "      <td>1240789.00</td>\n",
              "    </tr>\n",
              "    <tr>\n",
              "      <th>TRAVEL_AND_LOCAL</th>\n",
              "      <td>1151504.40</td>\n",
              "    </tr>\n",
              "    <tr>\n",
              "      <th>HEALTH_AND_FITNESS</th>\n",
              "      <td>1127068.90</td>\n",
              "    </tr>\n",
              "    <tr>\n",
              "      <th>MEDICAL</th>\n",
              "      <td>839227.67</td>\n",
              "    </tr>\n",
              "    <tr>\n",
              "      <th>ENTERTAINMENT</th>\n",
              "      <td>798000.00</td>\n",
              "    </tr>\n",
              "    <tr>\n",
              "      <th>EDUCATION</th>\n",
              "      <td>402990.00</td>\n",
              "    </tr>\n",
              "    <tr>\n",
              "      <th>VIDEO_PLAYERS</th>\n",
              "      <td>335290.00</td>\n",
              "    </tr>\n",
              "    <tr>\n",
              "      <th>FOOD_AND_DRINK</th>\n",
              "      <td>284400.00</td>\n",
              "    </tr>\n",
              "    <tr>\n",
              "      <th>PARENTING</th>\n",
              "      <td>249959.00</td>\n",
              "    </tr>\n",
              "    <tr>\n",
              "      <th>AUTO_AND_VEHICLES</th>\n",
              "      <td>100148.50</td>\n",
              "    </tr>\n",
              "    <tr>\n",
              "      <th>BOOKS_AND_REFERENCE</th>\n",
              "      <td>90226.74</td>\n",
              "    </tr>\n",
              "    <tr>\n",
              "      <th>BUSINESS</th>\n",
              "      <td>52543.25</td>\n",
              "    </tr>\n",
              "    <tr>\n",
              "      <th>ART_AND_DESIGN</th>\n",
              "      <td>31840.00</td>\n",
              "    </tr>\n",
              "    <tr>\n",
              "      <th>SHOPPING</th>\n",
              "      <td>30149.00</td>\n",
              "    </tr>\n",
              "    <tr>\n",
              "      <th>NEWS_AND_MAGAZINES</th>\n",
              "      <td>6445.00</td>\n",
              "    </tr>\n",
              "    <tr>\n",
              "      <th>SOCIAL</th>\n",
              "      <td>5940.00</td>\n",
              "    </tr>\n",
              "    <tr>\n",
              "      <th>DATING</th>\n",
              "      <td>1571.50</td>\n",
              "    </tr>\n",
              "    <tr>\n",
              "      <th>EVENTS</th>\n",
              "      <td>109.99</td>\n",
              "    </tr>\n",
              "    <tr>\n",
              "      <th>LIBRARIES_AND_DEMO</th>\n",
              "      <td>99.00</td>\n",
              "    </tr>\n",
              "    <tr>\n",
              "      <th>COMICS</th>\n",
              "      <td>0.00</td>\n",
              "    </tr>\n",
              "    <tr>\n",
              "      <th>BEAUTY</th>\n",
              "      <td>0.00</td>\n",
              "    </tr>\n",
              "    <tr>\n",
              "      <th>HOUSE_AND_HOME</th>\n",
              "      <td>0.00</td>\n",
              "    </tr>\n",
              "  </tbody>\n",
              "</table>\n",
              "</div>\n",
              "      <button class=\"colab-df-convert\" onclick=\"convertToInteractive('df-3231867b-076c-46ca-9b61-7876b7e82071')\"\n",
              "              title=\"Convert this dataframe to an interactive table.\"\n",
              "              style=\"display:none;\">\n",
              "        \n",
              "  <svg xmlns=\"http://www.w3.org/2000/svg\" height=\"24px\"viewBox=\"0 0 24 24\"\n",
              "       width=\"24px\">\n",
              "    <path d=\"M0 0h24v24H0V0z\" fill=\"none\"/>\n",
              "    <path d=\"M18.56 5.44l.94 2.06.94-2.06 2.06-.94-2.06-.94-.94-2.06-.94 2.06-2.06.94zm-11 1L8.5 8.5l.94-2.06 2.06-.94-2.06-.94L8.5 2.5l-.94 2.06-2.06.94zm10 10l.94 2.06.94-2.06 2.06-.94-2.06-.94-.94-2.06-.94 2.06-2.06.94z\"/><path d=\"M17.41 7.96l-1.37-1.37c-.4-.4-.92-.59-1.43-.59-.52 0-1.04.2-1.43.59L10.3 9.45l-7.72 7.72c-.78.78-.78 2.05 0 2.83L4 21.41c.39.39.9.59 1.41.59.51 0 1.02-.2 1.41-.59l7.78-7.78 2.81-2.81c.8-.78.8-2.07 0-2.86zM5.41 20L4 18.59l7.72-7.72 1.47 1.35L5.41 20z\"/>\n",
              "  </svg>\n",
              "      </button>\n",
              "      \n",
              "  <style>\n",
              "    .colab-df-container {\n",
              "      display:flex;\n",
              "      flex-wrap:wrap;\n",
              "      gap: 12px;\n",
              "    }\n",
              "\n",
              "    .colab-df-convert {\n",
              "      background-color: #E8F0FE;\n",
              "      border: none;\n",
              "      border-radius: 50%;\n",
              "      cursor: pointer;\n",
              "      display: none;\n",
              "      fill: #1967D2;\n",
              "      height: 32px;\n",
              "      padding: 0 0 0 0;\n",
              "      width: 32px;\n",
              "    }\n",
              "\n",
              "    .colab-df-convert:hover {\n",
              "      background-color: #E2EBFA;\n",
              "      box-shadow: 0px 1px 2px rgba(60, 64, 67, 0.3), 0px 1px 3px 1px rgba(60, 64, 67, 0.15);\n",
              "      fill: #174EA6;\n",
              "    }\n",
              "\n",
              "    [theme=dark] .colab-df-convert {\n",
              "      background-color: #3B4455;\n",
              "      fill: #D2E3FC;\n",
              "    }\n",
              "\n",
              "    [theme=dark] .colab-df-convert:hover {\n",
              "      background-color: #434B5C;\n",
              "      box-shadow: 0px 1px 3px 1px rgba(0, 0, 0, 0.15);\n",
              "      filter: drop-shadow(0px 1px 2px rgba(0, 0, 0, 0.3));\n",
              "      fill: #FFFFFF;\n",
              "    }\n",
              "  </style>\n",
              "\n",
              "      <script>\n",
              "        const buttonEl =\n",
              "          document.querySelector('#df-3231867b-076c-46ca-9b61-7876b7e82071 button.colab-df-convert');\n",
              "        buttonEl.style.display =\n",
              "          google.colab.kernel.accessAllowed ? 'block' : 'none';\n",
              "\n",
              "        async function convertToInteractive(key) {\n",
              "          const element = document.querySelector('#df-3231867b-076c-46ca-9b61-7876b7e82071');\n",
              "          const dataTable =\n",
              "            await google.colab.kernel.invokeFunction('convertToInteractive',\n",
              "                                                     [key], {});\n",
              "          if (!dataTable) return;\n",
              "\n",
              "          const docLinkHtml = 'Like what you see? Visit the ' +\n",
              "            '<a target=\"_blank\" href=https://colab.research.google.com/notebooks/data_table.ipynb>data table notebook</a>'\n",
              "            + ' to learn more about interactive tables.';\n",
              "          element.innerHTML = '';\n",
              "          dataTable['output_type'] = 'display_data';\n",
              "          await google.colab.output.renderOutput(dataTable, element);\n",
              "          const docLink = document.createElement('div');\n",
              "          docLink.innerHTML = docLinkHtml;\n",
              "          element.appendChild(docLink);\n",
              "        }\n",
              "      </script>\n",
              "    </div>\n",
              "  </div>\n",
              "  "
            ]
          },
          "metadata": {},
          "execution_count": 459
        }
      ]
    },
    {
      "cell_type": "code",
      "source": [
        "#plotting scatter plot\n",
        "plt.figure(figsize= (14,13))\n",
        "plt.ylabel('Category',size= 20)\n",
        "plt.xlabel('Earning',size = 20)\n",
        "sns.scatterplot(df2.Earning,df2.index, color='R')\n",
        "plt.title('Top Earning in Category available on Playstore',size= 25)"
      ],
      "metadata": {
        "colab": {
          "base_uri": "https://localhost:8080/",
          "height": 878
        },
        "id": "PabS6RNEV7Jo",
        "outputId": "e02a1275-41c8-401d-c989-14de2ae70656"
      },
      "execution_count": 460,
      "outputs": [
        {
          "output_type": "stream",
          "name": "stderr",
          "text": [
            "/usr/local/lib/python3.7/dist-packages/seaborn/_decorators.py:43: FutureWarning: Pass the following variables as keyword args: x, y. From version 0.12, the only valid positional argument will be `data`, and passing other arguments without an explicit keyword will result in an error or misinterpretation.\n",
            "  FutureWarning\n"
          ]
        },
        {
          "output_type": "execute_result",
          "data": {
            "text/plain": [
              "Text(0.5, 1.0, 'Top Earning in Category available on Playstore')"
            ]
          },
          "metadata": {},
          "execution_count": 460
        },
        {
          "output_type": "display_data",
          "data": {
            "text/plain": [
              "<Figure size 1008x936 with 1 Axes>"
            ],
            "image/png": "[encoded data removed]"
          },
          "metadata": {
            "needs_background": "light"
          }
        }
      ]
    },
    {
      "cell_type": "markdown",
      "source": [
        "##We can clearly see from the graph below that top 5 earning categories are,  Lifestyle,Family, Game,Finance,Tools.\n"
      ],
      "metadata": {
        "id": "uQ9dyuuMZnLA"
      }
    },
    {
      "cell_type": "code",
      "source": [
        "#Creating another Dataframe\n",
        "df3 = df1.groupby('Genres')[['Earning']].sum().sort_values(by='Earning', ascending=False).head(30)\n",
        "df3"
      ],
      "metadata": {
        "colab": {
          "base_uri": "https://localhost:8080/",
          "height": 1000
        },
        "id": "Weo__Mg8q3ow",
        "outputId": "913aca0a-6976-45c9-b74d-742a8a14feb0"
      },
      "execution_count": 461,
      "outputs": [
        {
          "output_type": "execute_result",
          "data": {
            "text/plain": [
              "                                  Earning\n",
              "Genres                                   \n",
              "Lifestyle                     57583939.40\n",
              "Action                        31033127.50\n",
              "Finance                       25726678.98\n",
              "Role Playing                  11082279.00\n",
              "Entertainment                 10773611.29\n",
              "Strategy                       6866295.00\n",
              "Tools                          5464820.59\n",
              "Sports                         4706211.95\n",
              "Productivity                   4313374.95\n",
              "Communication                  4247364.50\n",
              "Weather                        4181380.00\n",
              "Puzzle                         3516841.30\n",
              "Personalization                3316947.56\n",
              "Card;Action & Adventure        2990000.00\n",
              "Sports;Action & Adventure      2794000.00\n",
              "Puzzle;Brain Games             2289000.00\n",
              "Adventure                      2288818.00\n",
              "Photography                    2162767.70\n",
              "Arcade                         2039443.35\n",
              "Simulation;Education           1994000.00\n",
              "Simulation                     1279048.00\n",
              "Maps & Navigation              1240789.00\n",
              "Travel & Local                 1151504.40\n",
              "Health & Fitness               1127068.90\n",
              "Medical                         839227.67\n",
              "Adventure;Action & Adventure    748500.00\n",
              "Card                            608374.00\n",
              "Education;Pretend Play          597340.00\n",
              "Education;Creativity            548500.00\n",
              "Educational;Pretend Play        493549.00"
            ],
            "text/html": [
              "\n",
              "  <div id=\"df-b839feec-5444-46f2-8a5e-cdb22b4b9165\">\n",
              "    <div class=\"colab-df-container\">\n",
              "      <div>\n",
              "<style scoped>\n",
              "    .dataframe tbody tr th:only-of-type {\n",
              "        vertical-align: middle;\n",
              "    }\n",
              "\n",
              "    .dataframe tbody tr th {\n",
              "        vertical-align: top;\n",
              "    }\n",
              "\n",
              "    .dataframe thead th {\n",
              "        text-align: right;\n",
              "    }\n",
              "</style>\n",
              "<table border=\"1\" class=\"dataframe\">\n",
              "  <thead>\n",
              "    <tr style=\"text-align: right;\">\n",
              "      <th></th>\n",
              "      <th>Earning</th>\n",
              "    </tr>\n",
              "    <tr>\n",
              "      <th>Genres</th>\n",
              "      <th></th>\n",
              "    </tr>\n",
              "  </thead>\n",
              "  <tbody>\n",
              "    <tr>\n",
              "      <th>Lifestyle</th>\n",
              "      <td>57583939.40</td>\n",
              "    </tr>\n",
              "    <tr>\n",
              "      <th>Action</th>\n",
              "      <td>31033127.50</td>\n",
              "    </tr>\n",
              "    <tr>\n",
              "      <th>Finance</th>\n",
              "      <td>25726678.98</td>\n",
              "    </tr>\n",
              "    <tr>\n",
              "      <th>Role Playing</th>\n",
              "      <td>11082279.00</td>\n",
              "    </tr>\n",
              "    <tr>\n",
              "      <th>Entertainment</th>\n",
              "      <td>10773611.29</td>\n",
              "    </tr>\n",
              "    <tr>\n",
              "      <th>Strategy</th>\n",
              "      <td>6866295.00</td>\n",
              "    </tr>\n",
              "    <tr>\n",
              "      <th>Tools</th>\n",
              "      <td>5464820.59</td>\n",
              "    </tr>\n",
              "    <tr>\n",
              "      <th>Sports</th>\n",
              "      <td>4706211.95</td>\n",
              "    </tr>\n",
              "    <tr>\n",
              "      <th>Productivity</th>\n",
              "      <td>4313374.95</td>\n",
              "    </tr>\n",
              "    <tr>\n",
              "      <th>Communication</th>\n",
              "      <td>4247364.50</td>\n",
              "    </tr>\n",
              "    <tr>\n",
              "      <th>Weather</th>\n",
              "      <td>4181380.00</td>\n",
              "    </tr>\n",
              "    <tr>\n",
              "      <th>Puzzle</th>\n",
              "      <td>3516841.30</td>\n",
              "    </tr>\n",
              "    <tr>\n",
              "      <th>Personalization</th>\n",
              "      <td>3316947.56</td>\n",
              "    </tr>\n",
              "    <tr>\n",
              "      <th>Card;Action &amp; Adventure</th>\n",
              "      <td>2990000.00</td>\n",
              "    </tr>\n",
              "    <tr>\n",
              "      <th>Sports;Action &amp; Adventure</th>\n",
              "      <td>2794000.00</td>\n",
              "    </tr>\n",
              "    <tr>\n",
              "      <th>Puzzle;Brain Games</th>\n",
              "      <td>2289000.00</td>\n",
              "    </tr>\n",
              "    <tr>\n",
              "      <th>Adventure</th>\n",
              "      <td>2288818.00</td>\n",
              "    </tr>\n",
              "    <tr>\n",
              "      <th>Photography</th>\n",
              "      <td>2162767.70</td>\n",
              "    </tr>\n",
              "    <tr>\n",
              "      <th>Arcade</th>\n",
              "      <td>2039443.35</td>\n",
              "    </tr>\n",
              "    <tr>\n",
              "      <th>Simulation;Education</th>\n",
              "      <td>1994000.00</td>\n",
              "    </tr>\n",
              "    <tr>\n",
              "      <th>Simulation</th>\n",
              "      <td>1279048.00</td>\n",
              "    </tr>\n",
              "    <tr>\n",
              "      <th>Maps &amp; Navigation</th>\n",
              "      <td>1240789.00</td>\n",
              "    </tr>\n",
              "    <tr>\n",
              "      <th>Travel &amp; Local</th>\n",
              "      <td>1151504.40</td>\n",
              "    </tr>\n",
              "    <tr>\n",
              "      <th>Health &amp; Fitness</th>\n",
              "      <td>1127068.90</td>\n",
              "    </tr>\n",
              "    <tr>\n",
              "      <th>Medical</th>\n",
              "      <td>839227.67</td>\n",
              "    </tr>\n",
              "    <tr>\n",
              "      <th>Adventure;Action &amp; Adventure</th>\n",
              "      <td>748500.00</td>\n",
              "    </tr>\n",
              "    <tr>\n",
              "      <th>Card</th>\n",
              "      <td>608374.00</td>\n",
              "    </tr>\n",
              "    <tr>\n",
              "      <th>Education;Pretend Play</th>\n",
              "      <td>597340.00</td>\n",
              "    </tr>\n",
              "    <tr>\n",
              "      <th>Education;Creativity</th>\n",
              "      <td>548500.00</td>\n",
              "    </tr>\n",
              "    <tr>\n",
              "      <th>Educational;Pretend Play</th>\n",
              "      <td>493549.00</td>\n",
              "    </tr>\n",
              "  </tbody>\n",
              "</table>\n",
              "</div>\n",
              "      <button class=\"colab-df-convert\" onclick=\"convertToInteractive('df-b839feec-5444-46f2-8a5e-cdb22b4b9165')\"\n",
              "              title=\"Convert this dataframe to an interactive table.\"\n",
              "              style=\"display:none;\">\n",
              "        \n",
              "  <svg xmlns=\"http://www.w3.org/2000/svg\" height=\"24px\"viewBox=\"0 0 24 24\"\n",
              "       width=\"24px\">\n",
              "    <path d=\"M0 0h24v24H0V0z\" fill=\"none\"/>\n",
              "    <path d=\"M18.56 5.44l.94 2.06.94-2.06 2.06-.94-2.06-.94-.94-2.06-.94 2.06-2.06.94zm-11 1L8.5 8.5l.94-2.06 2.06-.94-2.06-.94L8.5 2.5l-.94 2.06-2.06.94zm10 10l.94 2.06.94-2.06 2.06-.94-2.06-.94-.94-2.06-.94 2.06-2.06.94z\"/><path d=\"M17.41 7.96l-1.37-1.37c-.4-.4-.92-.59-1.43-.59-.52 0-1.04.2-1.43.59L10.3 9.45l-7.72 7.72c-.78.78-.78 2.05 0 2.83L4 21.41c.39.39.9.59 1.41.59.51 0 1.02-.2 1.41-.59l7.78-7.78 2.81-2.81c.8-.78.8-2.07 0-2.86zM5.41 20L4 18.59l7.72-7.72 1.47 1.35L5.41 20z\"/>\n",
              "  </svg>\n",
              "      </button>\n",
              "      \n",
              "  <style>\n",
              "    .colab-df-container {\n",
              "      display:flex;\n",
              "      flex-wrap:wrap;\n",
              "      gap: 12px;\n",
              "    }\n",
              "\n",
              "    .colab-df-convert {\n",
              "      background-color: #E8F0FE;\n",
              "      border: none;\n",
              "      border-radius: 50%;\n",
              "      cursor: pointer;\n",
              "      display: none;\n",
              "      fill: #1967D2;\n",
              "      height: 32px;\n",
              "      padding: 0 0 0 0;\n",
              "      width: 32px;\n",
              "    }\n",
              "\n",
              "    .colab-df-convert:hover {\n",
              "      background-color: #E2EBFA;\n",
              "      box-shadow: 0px 1px 2px rgba(60, 64, 67, 0.3), 0px 1px 3px 1px rgba(60, 64, 67, 0.15);\n",
              "      fill: #174EA6;\n",
              "    }\n",
              "\n",
              "    [theme=dark] .colab-df-convert {\n",
              "      background-color: #3B4455;\n",
              "      fill: #D2E3FC;\n",
              "    }\n",
              "\n",
              "    [theme=dark] .colab-df-convert:hover {\n",
              "      background-color: #434B5C;\n",
              "      box-shadow: 0px 1px 3px 1px rgba(0, 0, 0, 0.15);\n",
              "      filter: drop-shadow(0px 1px 2px rgba(0, 0, 0, 0.3));\n",
              "      fill: #FFFFFF;\n",
              "    }\n",
              "  </style>\n",
              "\n",
              "      <script>\n",
              "        const buttonEl =\n",
              "          document.querySelector('#df-b839feec-5444-46f2-8a5e-cdb22b4b9165 button.colab-df-convert');\n",
              "        buttonEl.style.display =\n",
              "          google.colab.kernel.accessAllowed ? 'block' : 'none';\n",
              "\n",
              "        async function convertToInteractive(key) {\n",
              "          const element = document.querySelector('#df-b839feec-5444-46f2-8a5e-cdb22b4b9165');\n",
              "          const dataTable =\n",
              "            await google.colab.kernel.invokeFunction('convertToInteractive',\n",
              "                                                     [key], {});\n",
              "          if (!dataTable) return;\n",
              "\n",
              "          const docLinkHtml = 'Like what you see? Visit the ' +\n",
              "            '<a target=\"_blank\" href=https://colab.research.google.com/notebooks/data_table.ipynb>data table notebook</a>'\n",
              "            + ' to learn more about interactive tables.';\n",
              "          element.innerHTML = '';\n",
              "          dataTable['output_type'] = 'display_data';\n",
              "          await google.colab.output.renderOutput(dataTable, element);\n",
              "          const docLink = document.createElement('div');\n",
              "          docLink.innerHTML = docLinkHtml;\n",
              "          element.appendChild(docLink);\n",
              "        }\n",
              "      </script>\n",
              "    </div>\n",
              "  </div>\n",
              "  "
            ]
          },
          "metadata": {},
          "execution_count": 461
        }
      ]
    },
    {
      "cell_type": "code",
      "source": [
        "#plotting barplot\n",
        "plt.figure(figsize= (14,13))\n",
        "plt.ylabel('Genres',size= 20)\n",
        "plt.xlabel('Earning',size = 20)\n",
        "sns.barplot(df3.Earning,df3.index)\n",
        "plt.title('Top Earning in Genres available on Playstore',size= 25)"
      ],
      "metadata": {
        "colab": {
          "base_uri": "https://localhost:8080/",
          "height": 878
        },
        "id": "XmcbSt_RYxO2",
        "outputId": "e5594b41-673e-4cf2-9d78-4a72aa917f87"
      },
      "execution_count": 462,
      "outputs": [
        {
          "output_type": "stream",
          "name": "stderr",
          "text": [
            "/usr/local/lib/python3.7/dist-packages/seaborn/_decorators.py:43: FutureWarning: Pass the following variables as keyword args: x, y. From version 0.12, the only valid positional argument will be `data`, and passing other arguments without an explicit keyword will result in an error or misinterpretation.\n",
            "  FutureWarning\n"
          ]
        },
        {
          "output_type": "execute_result",
          "data": {
            "text/plain": [
              "Text(0.5, 1.0, 'Top Earning in Genres available on Playstore')"
            ]
          },
          "metadata": {},
          "execution_count": 462
        },
        {
          "output_type": "display_data",
          "data": {
            "text/plain": [
              "<Figure size 1008x936 with 1 Axes>"
            ],
            "image/png": "[encoded data removed]"
          },
          "metadata": {
            "needs_background": "light"
          }
        }
      ]
    },
    {
      "cell_type": "markdown",
      "source": [
        "##From the above graph we can clearly see that Lifestyleat top place with 57 million earnings,Action second position with 31 million earnings,Finance with 25million earning at third position and Roll playing at 4th with 11 million , Entertainment 5th place with 10 million earning"
      ],
      "metadata": {
        "id": "DVNZ_zGbZz8n"
      }
    },
    {
      "cell_type": "markdown",
      "source": [
        "###<B> we can also see from our data frame top earning apps ,lets plot them using pie chart"
      ],
      "metadata": {
        "id": "bE75bCGPjT8T"
      }
    },
    {
      "cell_type": "code",
      "source": [
        "# using groupby\n",
        "topearning_app =  df1.groupby('App')[['Earning']].sum().sort_values(by='Earning', ascending=False).head(10)\n",
        "topearning_app"
      ],
      "metadata": {
        "colab": {
          "base_uri": "https://localhost:8080/",
          "height": 394
        },
        "id": "CjpvL32cj5Cn",
        "outputId": "bae2d85c-0167-4328-bcc7-881ec0355afd"
      },
      "execution_count": 463,
      "outputs": [
        {
          "output_type": "execute_result",
          "data": {
            "text/plain": [
              "                                  Earning\n",
              "App                                      \n",
              "I am rich                      39999000.0\n",
              "I Am Rich Premium              19999500.0\n",
              "Hitman Sniper                   9900000.0\n",
              "Grand Theft Auto: San Andreas   6990000.0\n",
              "Sleep as Android Unlock         5990000.0\n",
              "DraStic DS Emulator             4990000.0\n",
              "I'm Rich - Trump Edition        4000000.0\n",
              "I am Rich Plus                  3999900.0\n",
              "💎 I'm rich                      3999900.0\n",
              "I Am Rich                       3899900.0"
            ],
            "text/html": [
              "\n",
              "  <div id=\"df-f8199375-9457-4b4c-895e-3dedf0df8274\">\n",
              "    <div class=\"colab-df-container\">\n",
              "      <div>\n",
              "<style scoped>\n",
              "    .dataframe tbody tr th:only-of-type {\n",
              "        vertical-align: middle;\n",
              "    }\n",
              "\n",
              "    .dataframe tbody tr th {\n",
              "        vertical-align: top;\n",
              "    }\n",
              "\n",
              "    .dataframe thead th {\n",
              "        text-align: right;\n",
              "    }\n",
              "</style>\n",
              "<table border=\"1\" class=\"dataframe\">\n",
              "  <thead>\n",
              "    <tr style=\"text-align: right;\">\n",
              "      <th></th>\n",
              "      <th>Earning</th>\n",
              "    </tr>\n",
              "    <tr>\n",
              "      <th>App</th>\n",
              "      <th></th>\n",
              "    </tr>\n",
              "  </thead>\n",
              "  <tbody>\n",
              "    <tr>\n",
              "      <th>I am rich</th>\n",
              "      <td>39999000.0</td>\n",
              "    </tr>\n",
              "    <tr>\n",
              "      <th>I Am Rich Premium</th>\n",
              "      <td>19999500.0</td>\n",
              "    </tr>\n",
              "    <tr>\n",
              "      <th>Hitman Sniper</th>\n",
              "      <td>9900000.0</td>\n",
              "    </tr>\n",
              "    <tr>\n",
              "      <th>Grand Theft Auto: San Andreas</th>\n",
              "      <td>6990000.0</td>\n",
              "    </tr>\n",
              "    <tr>\n",
              "      <th>Sleep as Android Unlock</th>\n",
              "      <td>5990000.0</td>\n",
              "    </tr>\n",
              "    <tr>\n",
              "      <th>DraStic DS Emulator</th>\n",
              "      <td>4990000.0</td>\n",
              "    </tr>\n",
              "    <tr>\n",
              "      <th>I'm Rich - Trump Edition</th>\n",
              "      <td>4000000.0</td>\n",
              "    </tr>\n",
              "    <tr>\n",
              "      <th>I am Rich Plus</th>\n",
              "      <td>3999900.0</td>\n",
              "    </tr>\n",
              "    <tr>\n",
              "      <th>💎 I'm rich</th>\n",
              "      <td>3999900.0</td>\n",
              "    </tr>\n",
              "    <tr>\n",
              "      <th>I Am Rich</th>\n",
              "      <td>3899900.0</td>\n",
              "    </tr>\n",
              "  </tbody>\n",
              "</table>\n",
              "</div>\n",
              "      <button class=\"colab-df-convert\" onclick=\"convertToInteractive('df-f8199375-9457-4b4c-895e-3dedf0df8274')\"\n",
              "              title=\"Convert this dataframe to an interactive table.\"\n",
              "              style=\"display:none;\">\n",
              "        \n",
              "  <svg xmlns=\"http://www.w3.org/2000/svg\" height=\"24px\"viewBox=\"0 0 24 24\"\n",
              "       width=\"24px\">\n",
              "    <path d=\"M0 0h24v24H0V0z\" fill=\"none\"/>\n",
              "    <path d=\"M18.56 5.44l.94 2.06.94-2.06 2.06-.94-2.06-.94-.94-2.06-.94 2.06-2.06.94zm-11 1L8.5 8.5l.94-2.06 2.06-.94-2.06-.94L8.5 2.5l-.94 2.06-2.06.94zm10 10l.94 2.06.94-2.06 2.06-.94-2.06-.94-.94-2.06-.94 2.06-2.06.94z\"/><path d=\"M17.41 7.96l-1.37-1.37c-.4-.4-.92-.59-1.43-.59-.52 0-1.04.2-1.43.59L10.3 9.45l-7.72 7.72c-.78.78-.78 2.05 0 2.83L4 21.41c.39.39.9.59 1.41.59.51 0 1.02-.2 1.41-.59l7.78-7.78 2.81-2.81c.8-.78.8-2.07 0-2.86zM5.41 20L4 18.59l7.72-7.72 1.47 1.35L5.41 20z\"/>\n",
              "  </svg>\n",
              "      </button>\n",
              "      \n",
              "  <style>\n",
              "    .colab-df-container {\n",
              "      display:flex;\n",
              "      flex-wrap:wrap;\n",
              "      gap: 12px;\n",
              "    }\n",
              "\n",
              "    .colab-df-convert {\n",
              "      background-color: #E8F0FE;\n",
              "      border: none;\n",
              "      border-radius: 50%;\n",
              "      cursor: pointer;\n",
              "      display: none;\n",
              "      fill: #1967D2;\n",
              "      height: 32px;\n",
              "      padding: 0 0 0 0;\n",
              "      width: 32px;\n",
              "    }\n",
              "\n",
              "    .colab-df-convert:hover {\n",
              "      background-color: #E2EBFA;\n",
              "      box-shadow: 0px 1px 2px rgba(60, 64, 67, 0.3), 0px 1px 3px 1px rgba(60, 64, 67, 0.15);\n",
              "      fill: #174EA6;\n",
              "    }\n",
              "\n",
              "    [theme=dark] .colab-df-convert {\n",
              "      background-color: #3B4455;\n",
              "      fill: #D2E3FC;\n",
              "    }\n",
              "\n",
              "    [theme=dark] .colab-df-convert:hover {\n",
              "      background-color: #434B5C;\n",
              "      box-shadow: 0px 1px 3px 1px rgba(0, 0, 0, 0.15);\n",
              "      filter: drop-shadow(0px 1px 2px rgba(0, 0, 0, 0.3));\n",
              "      fill: #FFFFFF;\n",
              "    }\n",
              "  </style>\n",
              "\n",
              "      <script>\n",
              "        const buttonEl =\n",
              "          document.querySelector('#df-f8199375-9457-4b4c-895e-3dedf0df8274 button.colab-df-convert');\n",
              "        buttonEl.style.display =\n",
              "          google.colab.kernel.accessAllowed ? 'block' : 'none';\n",
              "\n",
              "        async function convertToInteractive(key) {\n",
              "          const element = document.querySelector('#df-f8199375-9457-4b4c-895e-3dedf0df8274');\n",
              "          const dataTable =\n",
              "            await google.colab.kernel.invokeFunction('convertToInteractive',\n",
              "                                                     [key], {});\n",
              "          if (!dataTable) return;\n",
              "\n",
              "          const docLinkHtml = 'Like what you see? Visit the ' +\n",
              "            '<a target=\"_blank\" href=https://colab.research.google.com/notebooks/data_table.ipynb>data table notebook</a>'\n",
              "            + ' to learn more about interactive tables.';\n",
              "          element.innerHTML = '';\n",
              "          dataTable['output_type'] = 'display_data';\n",
              "          await google.colab.output.renderOutput(dataTable, element);\n",
              "          const docLink = document.createElement('div');\n",
              "          docLink.innerHTML = docLinkHtml;\n",
              "          element.appendChild(docLink);\n",
              "        }\n",
              "      </script>\n",
              "    </div>\n",
              "  </div>\n",
              "  "
            ]
          },
          "metadata": {},
          "execution_count": 463
        }
      ]
    },
    {
      "cell_type": "code",
      "source": [
        "plt.figure(figsize=(14,13))                                        #setting fig size\n",
        "plt.title('Top Earning Apps',size = 20)                              # giving title name\n",
        "explode = [0.02,0.02,0.02,0.02,0.02,0.02,0.02,0.02,0.02,0.02]                             \n",
        "colors = sns.color_palette('bright')                               # Seaborn color palette to plot pie chart\n",
        "plt.pie(topearning_app.Earning, labels=topearning_app.index, colors=colors,autopct='%.0f%%',explode = explode,shadow = True)     \n",
        "plt.show()"
      ],
      "metadata": {
        "colab": {
          "base_uri": "https://localhost:8080/",
          "height": 833
        },
        "id": "WoIZglbkkA7A",
        "outputId": "23efec87-2f6b-4583-b685-7c4853c4b2fa"
      },
      "execution_count": 464,
      "outputs": [
        {
          "output_type": "stream",
          "name": "stderr",
          "text": [
            "/usr/local/lib/python3.7/dist-packages/matplotlib/backends/backend_agg.py:214: RuntimeWarning: Glyph 128142 missing from current font.\n",
            "  font.set_text(s, 0.0, flags=flags)\n",
            "/usr/local/lib/python3.7/dist-packages/matplotlib/backends/backend_agg.py:183: RuntimeWarning: Glyph 128142 missing from current font.\n",
            "  font.set_text(s, 0, flags=flags)\n"
          ]
        },
        {
          "output_type": "display_data",
          "data": {
            "text/plain": [
              "<Figure size 1008x936 with 1 Axes>"
            ],
            "image/png": "[encoded data removed]"
          },
          "metadata": {}
        }
      ]
    },
    {
      "cell_type": "markdown",
      "source": [
        "##We can see clearly from our pie chart and output that I Am Rich from game category is top in list with 39% of piechart and earning value close to 40 million, I am Rich Premium is second in list with 19 % and earning value close to 20 million. Hitman Sniper is at third place with 10 % and value around 9.9 million, Grand Theft Auto with 7% and  6.9 million value at fourth position, Sleep as android Unlock with 6 % and around 5.9 million value at 4th position\n"
      ],
      "metadata": {
        "id": "Fm1LZsQBmgng"
      }
    },
    {
      "cell_type": "markdown",
      "source": [
        "##<B> CORRELATIONS"
      ],
      "metadata": {
        "id": "a4wOChStTB5U"
      }
    },
    {
      "cell_type": "code",
      "source": [
        "#Drawing correlations through Heatmap\n",
        "plt.figure(figsize=(8,8))\n",
        "sns.heatmap(df1.corr(),cmap= 'Blues',annot= True)"
      ],
      "metadata": {
        "colab": {
          "base_uri": "https://localhost:8080/",
          "height": 505
        },
        "id": "cCmzUzandVSl",
        "outputId": "dc523e8f-86d0-4a77-89af-7595c008b483"
      },
      "execution_count": 465,
      "outputs": [
        {
          "output_type": "execute_result",
          "data": {
            "text/plain": [
              "<matplotlib.axes._subplots.AxesSubplot at 0x7f2d95e3ab90>"
            ]
          },
          "metadata": {},
          "execution_count": 465
        },
        {
          "output_type": "display_data",
          "data": {
            "text/plain": [
              "<Figure size 576x576 with 2 Axes>"
            ],
            "image/png": "[encoded data removed]"
          },
          "metadata": {
            "needs_background": "light"
          }
        }
      ]
    },
    {
      "cell_type": "markdown",
      "source": [
        "####From the above heatmap we can easily say that price has Negative correlations with Ratings,Reviews,Size and Installs,it means price wont affect any of them, Whereas Installs have Positive Correaltions (0.63) reivews do affect the number of Installs "
      ],
      "metadata": {
        "id": "_F2Zdy-Sd7qV"
      }
    },
    {
      "cell_type": "markdown",
      "source": [
        ""
      ],
      "metadata": {
        "id": "OuxJm-qrj7zy"
      }
    },
    {
      "cell_type": "markdown",
      "source": [
        "## This is the End of our Analysis i hope along with me you also enjoyed. It has been wonderfull experience and i hope in my coming projects i enjoy them too. '''THANK YOU'''\n",
        "                                                           "
      ],
      "metadata": {
        "id": "xzCSSH_xi4pQ"
      }
    }
  ]
}